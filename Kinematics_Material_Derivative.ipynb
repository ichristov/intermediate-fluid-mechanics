{
 "cells": [
  {
   "cell_type": "markdown",
   "metadata": {},
   "source": [
    "# LEARNING OBJECTIVE\n",
    "\n",
    "This notebook illustrates how to compute the kinematic quantities associated with a velocity field, as well as how to compute acceleration with the material derivative. Symbolic computing tools are used to do the vector calculus. The connections between vectors and tensors and their representations as array and matrices is highlighted."
   ]
  },
  {
   "cell_type": "markdown",
   "metadata": {
    "id": "21hNoidL2vnD"
   },
   "source": [
    "# PRELIMINARIES\n",
    "\n",
    "[run the next cell to setup Python environment customizations and load packages]"
   ]
  },
  {
   "cell_type": "code",
   "execution_count": 1,
   "metadata": {
    "executionInfo": {
     "elapsed": 485,
     "status": "ok",
     "timestamp": 1704568949977,
     "user": {
      "displayName": "Ivan Christov",
      "userId": "03286852141196977463"
     },
     "user_tz": 300
    },
    "id": "MBp48ZTn2om4"
   },
   "outputs": [],
   "source": [
    "# interactive plots setup\n",
    "from ipywidgets import interact, interactive, fixed, interact_manual\n",
    "import ipywidgets as widgets\n",
    "\n",
    "# sympy setup\n",
    "import sympy as sp\n",
    "sp.init_printing()\n",
    "from sympy.vector import *\n",
    "\n",
    "# ploting customizations\n",
    "from matplotlib import pyplot as plt\n",
    "size=16\n",
    "params = {'legend.fontsize': 'large',\n",
    "#          'figure.figsize': (20,8),\n",
    "          'axes.labelsize': size,\n",
    "          'axes.titlesize': size,\n",
    "          'xtick.labelsize': size*0.875,\n",
    "          'ytick.labelsize': size*0.875,\n",
    "          'axes.titlepad': 25}\n",
    "plt.rcParams.update(params)\n",
    "%matplotlib inline\n",
    "\n",
    "# numerics\n",
    "import numpy as np\n",
    "\n",
    "# to save plots as files and download them\n",
    "# from google.colab import files"
   ]
  },
  {
   "cell_type": "markdown",
   "metadata": {
    "id": "SS_6z8v1QbhK"
   },
   "source": [
    "## Credit\n",
    "\n",
    "Initial version written by [Ivan C. Christov](http://christov.tmnt-lab.org), Purdue University."
   ]
  },
  {
   "cell_type": "markdown",
   "metadata": {
    "id": "NOcCXq3ySZiz"
   },
   "source": [
    "# INTRODUCTION\n",
    "\n",
    "Inspired by Powers' _Mechanics of Fluids_, Prob. 3.6, consider a two-dimensional Cartesian flow field with velocity vector, $\\underline{v} = v_i \\underline{e}_i$, the components of which are\n",
    "\\begin{align*}\n",
    "  v_1 &= -c x_1 + 4 c x_2,\\\\\n",
    "  v_2 &= -c 4 x_1 - c x_2,\\\\\n",
    "  v_3 &= 0,\n",
    "\\end{align*}\n",
    "where $c>0$ is a suitable dimensional constant."
   ]
  },
  {
   "cell_type": "markdown",
   "metadata": {
    "id": "ewTPZUAVSqKf"
   },
   "source": [
    "# DEMONSTRATION\n"
   ]
  },
  {
   "cell_type": "markdown",
   "metadata": {
    "id": "TNjEnWNl-AZh"
   },
   "source": [
    "We will setup a coordinate system using SymPy's [capabilities](https://docs.sympy.org/latest/modules/vector/fields.html) for our analyical calculations."
   ]
  },
  {
   "cell_type": "code",
   "execution_count": 2,
   "metadata": {
    "executionInfo": {
     "elapsed": 71,
     "status": "ok",
     "timestamp": 1704568949978,
     "user": {
      "displayName": "Ivan Christov",
      "userId": "03286852141196977463"
     },
     "user_tz": 300
    },
    "id": "D8Agdllx-Awv"
   },
   "outputs": [],
   "source": [
    "from sympy.vector import CoordSys3D, Del\n",
    "C = CoordSys3D('C') # C.x, C.y, C.z are the coordinates \n",
    "                    # C.i, C.j, C.k are the unit vectors\n",
    "# define the nabla operator\n",
    "nabla = Del()"
   ]
  },
  {
   "cell_type": "markdown",
   "metadata": {},
   "source": [
    "Define the velocity vector in terms of the unit vectors of our coordinate system from SymPy.\n"
   ]
  },
  {
   "cell_type": "code",
   "execution_count": 3,
   "metadata": {
    "colab": {
     "base_uri": "https://localhost:8080/",
     "height": 40
    },
    "executionInfo": {
     "elapsed": 90,
     "status": "ok",
     "timestamp": 1704568950002,
     "user": {
      "displayName": "Ivan Christov",
      "userId": "03286852141196977463"
     },
     "user_tz": 300
    },
    "id": "kIDW6Ghaz6-m",
    "outputId": "7dec5059-54b9-4b20-eba3-357ba89c4adc"
   },
   "outputs": [
    {
     "data": {
      "image/png": "[encoded data removed]",
      "text/latex": [
       "$\\displaystyle \\left(- \\mathbf{{x}_{C}} c + 4 \\mathbf{{y}_{C}} c\\right)\\mathbf{\\hat{i}_{C}} + \\left(- 4 \\mathbf{{x}_{C}} c - \\mathbf{{y}_{C}} c\\right)\\mathbf{\\hat{j}_{C}}$"
      ],
      "text/plain": [
       "(-x_C⋅c + 4⋅y_C⋅c) i_C + (-4⋅x_C⋅c - y_C⋅c) j_C"
      ]
     },
     "execution_count": 3,
     "metadata": {},
     "output_type": "execute_result"
    }
   ],
   "source": [
    "c = sp.Symbol('c', positive='True')\n",
    "v = (-c*C.x + 4*c*C.y) * C.i + (-c*4*C.x - c*C.y) * C.j + 0 * C.k\n",
    "# other example velocity fields you could play with:\n",
    "# v = c*(1-(C.y)**2) * C.i + 0 * C.j + 0 * C.k\n",
    "# v = c*C.x * C.i - c*C.y * C.j + 0 * C.k\n",
    "v"
   ]
  },
  {
   "cell_type": "markdown",
   "metadata": {
    "id": "Gah2igBIJ2MJ"
   },
   "source": [
    "## Vorticity, $\\nabla\\times\\underline{v}$"
   ]
  },
  {
   "cell_type": "markdown",
   "metadata": {},
   "source": [
    "To determine whether the flow field is locally rotational or irrotational, we compute the vorticity."
   ]
  },
  {
   "cell_type": "code",
   "execution_count": 4,
   "metadata": {
    "colab": {
     "base_uri": "https://localhost:8080/",
     "height": 40
    },
    "executionInfo": {
     "elapsed": 82,
     "status": "ok",
     "timestamp": 1704568950003,
     "user": {
      "displayName": "Ivan Christov",
      "userId": "03286852141196977463"
     },
     "user_tz": 300
    },
    "id": "jB_F5x8Jnr7G",
    "outputId": "3d41a1c4-5fa0-4a59-bc18-830b3d62b889"
   },
   "outputs": [
    {
     "data": {
      "image/png": "[encoded data removed]",
      "text/latex": [
       "$\\displaystyle \\left(- 8 c\\right)\\mathbf{\\hat{k}_{C}}$"
      ],
      "text/plain": [
       "(-8⋅c) k_C"
      ]
     },
     "execution_count": 4,
     "metadata": {},
     "output_type": "execute_result"
    }
   ],
   "source": [
    "# general expression\n",
    "vorticity = (nabla ^ v).doit() # in SymPy ^ is one way to denote a cross product\n",
    "                               # (also used in some books), instead of \\times\n",
    "\n",
    "# evaluated expression\n",
    "vorticity"
   ]
  },
  {
   "cell_type": "markdown",
   "metadata": {
    "id": "DKNGf5tGJ6Rx"
   },
   "source": [
    "## Kinematic quantities and how they are related, $\\nabla\\underline{v}$"
   ]
  },
  {
   "cell_type": "markdown",
   "metadata": {
    "id": "wxdmxkOh9ulZ"
   },
   "source": [
    "The flow kinematics are determined by the velocity field's gradient, the tensor $\\nabla \\underline{v}$.\n",
    "\n",
    "SymPy doesn't have built-in functionality for gradient of a vector (yet). But we can take a [derivative of a vector with respect to a vector](https://docs.sympy.org/latest/modules/tensor/array.html#derivatives-by-array) (like a \"Jacobian\")."
   ]
  },
  {
   "cell_type": "code",
   "execution_count": 5,
   "metadata": {
    "colab": {
     "base_uri": "https://localhost:8080/",
     "height": 78
    },
    "executionInfo": {
     "elapsed": 60,
     "status": "ok",
     "timestamp": 1704568950003,
     "user": {
      "displayName": "Ivan Christov",
      "userId": "03286852141196977463"
     },
     "user_tz": 300
    },
    "id": "6zmHIj_ps7zZ",
    "outputId": "d4c151aa-4aa9-459b-c890-e6ad721eef1e"
   },
   "outputs": [
    {
     "data": {
      "image/png": "[encoded data removed]",
      "text/latex": [
       "$\\displaystyle \\left[\\begin{matrix}- c & - 4 c & 0\\\\4 c & - c & 0\\\\0 & 0 & 0\\end{matrix}\\right]$"
      ],
      "text/plain": [
       "⎡-c   -4⋅c  0⎤\n",
       "⎢            ⎥\n",
       "⎢4⋅c   -c   0⎥\n",
       "⎢            ⎥\n",
       "⎣ 0    0    0⎦"
      ]
     },
     "execution_count": 5,
     "metadata": {},
     "output_type": "execute_result"
    }
   ],
   "source": [
    "# we need to express the vector via an array of components for the next step\n",
    "# so, take the dot product of v with each coord vector to get the 3 components\n",
    "# in SymPy, & is one way to form a dot product\n",
    "v_array = [ v & C.i, v & C.j, v & C.k ]\n",
    "\n",
    "gradv = sp.derive_by_array(v_array, [C.x, C.y, C.z])\n",
    "\n",
    "# convert v and grad v to SymPy matrices\n",
    "v_array = sp.Matrix(v_array)\n",
    "gradv = sp.Matrix(gradv)\n",
    "gradv"
   ]
  },
  {
   "cell_type": "markdown",
   "metadata": {
    "id": "slOQGuBErOGd"
   },
   "source": [
    "The symmetric part, $S_{ij} = \\partial_{(i}v_{j)} = \\frac{1}{2}(\\partial_i v_j + \\partial_j v_i)$, of the velocity gradient contains information on the shear and extensional motions caused by the velocity field."
   ]
  },
  {
   "cell_type": "code",
   "execution_count": 6,
   "metadata": {
    "colab": {
     "base_uri": "https://localhost:8080/",
     "height": 78
    },
    "executionInfo": {
     "elapsed": 57,
     "status": "ok",
     "timestamp": 1704568950003,
     "user": {
      "displayName": "Ivan Christov",
      "userId": "03286852141196977463"
     },
     "user_tz": 300
    },
    "id": "TYGbJuHZuVQC",
    "outputId": "705cdfcb-20e3-40ec-8adc-aabe3ad4d363"
   },
   "outputs": [
    {
     "data": {
      "image/png": "[encoded data removed]",
      "text/latex": [
       "$\\displaystyle \\left[\\begin{matrix}- c & 0 & 0\\\\0 & - c & 0\\\\0 & 0 & 0\\end{matrix}\\right]$"
      ],
      "text/plain": [
       "⎡-c  0   0⎤\n",
       "⎢         ⎥\n",
       "⎢0   -c  0⎥\n",
       "⎢         ⎥\n",
       "⎣0   0   0⎦"
      ]
     },
     "execution_count": 6,
     "metadata": {},
     "output_type": "execute_result"
    }
   ],
   "source": [
    "# 1/2 is a float, Rational(1,2) is a symbolic expression for 1/2,\n",
    "# which lets SymPy do algebra more easily\n",
    "Sij = sp.Rational(1,2)*(gradv + gradv.transpose())\n",
    "Sij"
   ]
  },
  {
   "cell_type": "markdown",
   "metadata": {
    "id": "a57dgq4W8i-v"
   },
   "source": [
    "The shear rate _magnitude_ for the flow is defined using a [double contraction](https://docs.sympy.org/latest/modules/tensor/array.html#products-and-contractions) of $S_{ij}$ with itself. We can implent this operation using some SymPy functions."
   ]
  },
  {
   "cell_type": "code",
   "execution_count": 7,
   "metadata": {
    "colab": {
     "base_uri": "https://localhost:8080/",
     "height": 40
    },
    "executionInfo": {
     "elapsed": 450,
     "status": "ok",
     "timestamp": 1704568950398,
     "user": {
      "displayName": "Ivan Christov",
      "userId": "03286852141196977463"
     },
     "user_tz": 300
    },
    "id": "n2kAmiqI6BZs",
    "outputId": "918d1e30-799d-4270-d295-d4142b80da0d"
   },
   "outputs": [
    {
     "data": {
      "image/png": "[encoded data removed]",
      "text/latex": [
       "$\\displaystyle \\sqrt{2} c$"
      ],
      "text/plain": [
       "√2⋅c"
      ]
     },
     "execution_count": 7,
     "metadata": {},
     "output_type": "execute_result"
    }
   ],
   "source": [
    "SS = sp.sqrt(sp.tensorcontraction(sp.tensorcontraction(sp.tensorproduct(Sij,Sij), (1, 2)), (0, 1)))\n",
    "SS.simplify()"
   ]
  },
  {
   "cell_type": "markdown",
   "metadata": {},
   "source": [
    "The anti-symmetric part, $\\Omega_{ij} = \\partial_{[i}v_{j]} = \\frac{1}{2}(\\partial_i v_j - \\partial_j v_i)$, of the velocity gradient contains information about rotational motions caused by the velocity field."
   ]
  },
  {
   "cell_type": "code",
   "execution_count": 8,
   "metadata": {
    "colab": {
     "base_uri": "https://localhost:8080/",
     "height": 78
    },
    "executionInfo": {
     "elapsed": 150,
     "status": "ok",
     "timestamp": 1704568950399,
     "user": {
      "displayName": "Ivan Christov",
      "userId": "03286852141196977463"
     },
     "user_tz": 300
    },
    "id": "co8kBmDSq0sU",
    "outputId": "6b286713-d835-46d0-cc54-6c173698c156"
   },
   "outputs": [
    {
     "data": {
      "image/png": "[encoded data removed]",
      "text/latex": [
       "$\\displaystyle \\left[\\begin{matrix}0 & - 4 c & 0\\\\4 c & 0 & 0\\\\0 & 0 & 0\\end{matrix}\\right]$"
      ],
      "text/plain": [
       "⎡ 0   -4⋅c  0⎤\n",
       "⎢            ⎥\n",
       "⎢4⋅c   0    0⎥\n",
       "⎢            ⎥\n",
       "⎣ 0    0    0⎦"
      ]
     },
     "execution_count": 8,
     "metadata": {},
     "output_type": "execute_result"
    }
   ],
   "source": [
    "Omegaij = sp.Rational(1,2)*(gradv - gradv.transpose())\n",
    "Omegaij"
   ]
  },
  {
   "cell_type": "markdown",
   "metadata": {
    "id": "Hz5L2Hmp9RaM"
   },
   "source": [
    "To drive the point about $\\Omega_{ij}$ home, we compute the _dual vector_ $d_k$ of $\\Omega_{ij}$ from the definition given in Panton's Eq. (3.7.4), namely $d_k = \\epsilon_{kij}\\Omega_{ij}$.\n",
    "\n",
    "We could use fancy double contraction operations (but I had a hard time figuring it out in the context of $\\epsilon_{ijl}$ in SymPy).\n",
    "\n",
    "So let's brute-force it with some loops."
   ]
  },
  {
   "cell_type": "code",
   "execution_count": 9,
   "metadata": {
    "colab": {
     "base_uri": "https://localhost:8080/",
     "height": 40
    },
    "executionInfo": {
     "elapsed": 148,
     "status": "ok",
     "timestamp": 1704568950399,
     "user": {
      "displayName": "Ivan Christov",
      "userId": "03286852141196977463"
     },
     "user_tz": 300
    },
    "id": "Mg2jL0nKuy7j",
    "outputId": "195f5c54-c231-4423-8be6-96152205ab2c"
   },
   "outputs": [
    {
     "data": {
      "image/png": "[encoded data removed]",
      "text/latex": [
       "$\\displaystyle \\left(- 8 c\\right)\\mathbf{\\hat{k}_{C}}$"
      ],
      "text/plain": [
       "(-8⋅c) k_C"
      ]
     },
     "execution_count": 9,
     "metadata": {},
     "output_type": "execute_result"
    }
   ],
   "source": [
    "# initialize d_k as a zero matrix\n",
    "dvec = sp.Matrix([0,0,0])\n",
    "\n",
    "for k in 1,2,3:\n",
    "  dvec[k-1,0] = 0\n",
    "  for i in 1,2,3:\n",
    "    for j in 1,2,3:\n",
    "      dvec[k-1,0] = dvec[k-1,0] + sp.LeviCivita(k,i,j)*Omegaij[i-1,j-1]\n",
    "\n",
    "d = dvec[0,0] * C.i + dvec[1,0] * C.j + dvec[2,0] * C.k\n",
    "d"
   ]
  },
  {
   "cell_type": "markdown",
   "metadata": {},
   "source": [
    "And, we verify that $d_k = \\omega_k$ is the precisely the vorticity vector."
   ]
  },
  {
   "cell_type": "code",
   "execution_count": 10,
   "metadata": {},
   "outputs": [
    {
     "data": {
      "text/plain": [
       "True"
      ]
     },
     "execution_count": 10,
     "metadata": {},
     "output_type": "execute_result"
    }
   ],
   "source": [
    "d == vorticity"
   ]
  },
  {
   "cell_type": "markdown",
   "metadata": {},
   "source": [
    "Finally, we verify that the kinematic decomposition, $\\partial_i v_j = S_{ij} + \\Omega_{ij}$, works."
   ]
  },
  {
   "cell_type": "code",
   "execution_count": 11,
   "metadata": {
    "colab": {
     "base_uri": "https://localhost:8080/"
    },
    "executionInfo": {
     "elapsed": 145,
     "status": "ok",
     "timestamp": 1704568950401,
     "user": {
      "displayName": "Ivan Christov",
      "userId": "03286852141196977463"
     },
     "user_tz": 300
    },
    "id": "6fgYOLdiDF4y",
    "outputId": "fe34526f-7347-450e-b86b-b56c45d8c20e"
   },
   "outputs": [
    {
     "data": {
      "text/plain": [
       "True"
      ]
     },
     "execution_count": 11,
     "metadata": {},
     "output_type": "execute_result"
    }
   ],
   "source": [
    "gradv == Sij + Omegaij"
   ]
  },
  {
   "cell_type": "markdown",
   "metadata": {
    "id": "Cqr9V9UO14XV"
   },
   "source": [
    "## Volume rate of expansion, $\\nabla\\cdot\\underline{v}$"
   ]
  },
  {
   "cell_type": "markdown",
   "metadata": {},
   "source": [
    "The average rate of expansion caused by the flow is given by the divergence of the velocity field, $\\nabla\\cdot\\underline{v}$."
   ]
  },
  {
   "cell_type": "code",
   "execution_count": 12,
   "metadata": {
    "colab": {
     "base_uri": "https://localhost:8080/",
     "height": 37
    },
    "executionInfo": {
     "elapsed": 102,
     "status": "ok",
     "timestamp": 1704568950408,
     "user": {
      "displayName": "Ivan Christov",
      "userId": "03286852141196977463"
     },
     "user_tz": 300
    },
    "id": "5qmKJwQI_EBQ",
    "outputId": "a475fe3f-d379-4b19-d0b2-448f140c0ef7"
   },
   "outputs": [
    {
     "data": {
      "image/png": "[encoded data removed]",
      "text/latex": [
       "$\\displaystyle - 2 c$"
      ],
      "text/plain": [
       "-2⋅c"
      ]
     },
     "execution_count": 12,
     "metadata": {},
     "output_type": "execute_result"
    }
   ],
   "source": [
    "divv = (nabla & v).doit()\n",
    "divv = sp.simplify(divv)\n",
    "divv"
   ]
  },
  {
   "cell_type": "markdown",
   "metadata": {},
   "source": [
    "If $\\nabla\\cdot\\underline{v}=0$, then the flow has no local volume expanstion, that is, it is an incompressible _flow_. Otherwise, fluid elements change volume under the action of this flow. "
   ]
  },
  {
   "cell_type": "markdown",
   "metadata": {},
   "source": [
    "We can also verify the identity that $\\nabla\\cdot\\underline{v} = \\partial_i v_i = S_{ii} = \\mathrm{tr}\\underline{\\underline{S}}$."
   ]
  },
  {
   "cell_type": "code",
   "execution_count": 13,
   "metadata": {},
   "outputs": [
    {
     "data": {
      "text/plain": [
       "True"
      ]
     },
     "execution_count": 13,
     "metadata": {},
     "output_type": "execute_result"
    }
   ],
   "source": [
    "divv == sp.trace(Sij)"
   ]
  },
  {
   "cell_type": "markdown",
   "metadata": {
    "id": "ZRulV8TIDVjG"
   },
   "source": [
    "## Acceleration, the material derivative of the velocity\n"
   ]
  },
  {
   "cell_type": "markdown",
   "metadata": {
    "id": "o4M82rIo2QXX"
   },
   "source": [
    "The acceleration at a point in space is $D\\underline{v}/Dt=\\partial_t \\underline{v} + (\\underline{v}\\cdot\\nabla)\\underline{v}$. The chosen flow is steady, so $\\partial_t \\underline{v} = \\underline{0}$ and we have only convective acceleration.\n",
    "\n",
    "First, we compute the convective acceleration using the directional derivative interpretation as $v_j\\partial_j v_i = (v_j\\partial_j)v_i = (\\underline{v}\\cdot\\nabla)\\underline{v}$ and [SymPy vector calculus](https://docs.sympy.org/latest/modules/vector/fields.html#directional-derivative)."
   ]
  },
  {
   "cell_type": "code",
   "execution_count": 14,
   "metadata": {
    "colab": {
     "base_uri": "https://localhost:8080/",
     "height": 37
    },
    "executionInfo": {
     "elapsed": 109,
     "status": "ok",
     "timestamp": 1704568950408,
     "user": {
      "displayName": "Ivan Christov",
      "userId": "03286852141196977463"
     },
     "user_tz": 300
    },
    "id": "ILbHe2bU19aS",
    "outputId": "c616c824-d2dd-4c5e-9980-21fcdefee5a5"
   },
   "outputs": [
    {
     "data": {
      "image/png": "[encoded data removed]",
      "text/latex": [
       "$\\displaystyle \\left(c^{2} \\left(- 15 \\mathbf{{x}_{C}} - 8 \\mathbf{{y}_{C}}\\right)\\right)\\mathbf{\\hat{i}_{C}} + \\left(c^{2} \\left(8 \\mathbf{{x}_{C}} - 15 \\mathbf{{y}_{C}}\\right)\\right)\\mathbf{\\hat{j}_{C}}$"
      ],
      "text/plain": [
       "⎛ 2                  ⎞        ⎛ 2                 ⎞     \n",
       "⎝c ⋅(-15⋅x_C - 8⋅y_C)⎠ i_C  + ⎝c ⋅(8⋅x_C - 15⋅y_C)⎠ j_C "
      ]
     },
     "execution_count": 14,
     "metadata": {},
     "output_type": "execute_result"
    }
   ],
   "source": [
    "# in SymPy, & is one way to form a dot product\n",
    "vdotgradv = (v & nabla)(v)\n",
    "vdotgradv = sp.simplify(vdotgradv)\n",
    "vdotgradv"
   ]
  },
  {
   "cell_type": "code",
   "execution_count": 15,
   "metadata": {},
   "outputs": [
    {
     "data": {
      "image/png": "[encoded data removed]",
      "text/latex": [
       "$\\displaystyle \\left[\\begin{matrix}c^{2} \\left(- 15 \\mathbf{{x}_{C}} - 8 \\mathbf{{y}_{C}}\\right)\\\\c^{2} \\left(8 \\mathbf{{x}_{C}} - 15 \\mathbf{{y}_{C}}\\right)\\\\0\\end{matrix}\\right]$"
      ],
      "text/plain": [
       "⎡ 2                  ⎤\n",
       "⎢c ⋅(-15⋅x_C - 8⋅y_C)⎥\n",
       "⎢                    ⎥\n",
       "⎢ 2                  ⎥\n",
       "⎢c ⋅(8⋅x_C - 15⋅y_C) ⎥\n",
       "⎢                    ⎥\n",
       "⎣         0          ⎦"
      ]
     },
     "execution_count": 15,
     "metadata": {},
     "output_type": "execute_result"
    }
   ],
   "source": [
    "# reprint it as a vertical array for easier reading\n",
    "vdotgradv_array = sp.Matrix([ [vdotgradv & C.i], [vdotgradv & C.j], [vdotgradv & C.k] ])\n",
    "vdotgradv_array = sp.simplify(vdotgradv_array)\n",
    "vdotgradv_array"
   ]
  },
  {
   "cell_type": "markdown",
   "metadata": {
    "id": "3mbY2ZsH1yAw"
   },
   "source": [
    "Second, we compute the convective acceleration using the matrix-vector product interpretation as $ v_j \\partial_j v_i = (\\partial_j v_i)v_j = [\\nabla\\underline{v}]^{\\rm T} \\underline{v}$."
   ]
  },
  {
   "cell_type": "code",
   "execution_count": 16,
   "metadata": {
    "colab": {
     "base_uri": "https://localhost:8080/",
     "height": 78
    },
    "executionInfo": {
     "elapsed": 141,
     "status": "ok",
     "timestamp": 1704568950402,
     "user": {
      "displayName": "Ivan Christov",
      "userId": "03286852141196977463"
     },
     "user_tz": 300
    },
    "id": "rZngAjuY2dny",
    "outputId": "c4697978-aa04-4383-bbaa-adb1f8d530c2"
   },
   "outputs": [
    {
     "data": {
      "image/png": "[encoded data removed]",
      "text/latex": [
       "$\\displaystyle \\left[\\begin{matrix}c^{2} \\left(- 15 \\mathbf{{x}_{C}} - 8 \\mathbf{{y}_{C}}\\right)\\\\c^{2} \\left(8 \\mathbf{{x}_{C}} - 15 \\mathbf{{y}_{C}}\\right)\\\\0\\end{matrix}\\right]$"
      ],
      "text/plain": [
       "⎡ 2                  ⎤\n",
       "⎢c ⋅(-15⋅x_C - 8⋅y_C)⎥\n",
       "⎢                    ⎥\n",
       "⎢ 2                  ⎥\n",
       "⎢c ⋅(8⋅x_C - 15⋅y_C) ⎥\n",
       "⎢                    ⎥\n",
       "⎣         0          ⎦"
      ]
     },
     "execution_count": 16,
     "metadata": {},
     "output_type": "execute_result"
    }
   ],
   "source": [
    "sp.simplify(gradv.transpose() * v_array)"
   ]
  },
  {
   "cell_type": "markdown",
   "metadata": {},
   "source": [
    "We verify the first and second methods agree."
   ]
  },
  {
   "cell_type": "code",
   "execution_count": 17,
   "metadata": {},
   "outputs": [
    {
     "data": {
      "text/plain": [
       "True"
      ]
     },
     "execution_count": 17,
     "metadata": {},
     "output_type": "execute_result"
    }
   ],
   "source": [
    "vdotgradv_array == sp.simplify(gradv.transpose() * v_array)"
   ]
  },
  {
   "cell_type": "markdown",
   "metadata": {},
   "source": [
    "The vesion without the transpose, $[\\nabla \\underline{v}]\\underline{v}$, doesn't give the same (right) answer!"
   ]
  },
  {
   "cell_type": "code",
   "execution_count": 18,
   "metadata": {
    "colab": {
     "base_uri": "https://localhost:8080/",
     "height": 78
    },
    "executionInfo": {
     "elapsed": 139,
     "status": "ok",
     "timestamp": 1704568950402,
     "user": {
      "displayName": "Ivan Christov",
      "userId": "03286852141196977463"
     },
     "user_tz": 300
    },
    "id": "i14qUcC2FA2U",
    "outputId": "dfa62086-de54-4ee2-f5c9-59a30491f540"
   },
   "outputs": [
    {
     "data": {
      "image/png": "[encoded data removed]",
      "text/latex": [
       "$\\displaystyle \\left[\\begin{matrix}17 \\mathbf{{x}_{C}} c^{2}\\\\17 \\mathbf{{y}_{C}} c^{2}\\\\0\\end{matrix}\\right]$"
      ],
      "text/plain": [
       "⎡        2⎤\n",
       "⎢17⋅x_C⋅c ⎥\n",
       "⎢         ⎥\n",
       "⎢        2⎥\n",
       "⎢17⋅y_C⋅c ⎥\n",
       "⎢         ⎥\n",
       "⎣    0    ⎦"
      ]
     },
     "execution_count": 18,
     "metadata": {},
     "output_type": "execute_result"
    }
   ],
   "source": [
    "sp.simplify(gradv * v_array)"
   ]
  },
  {
   "cell_type": "code",
   "execution_count": 19,
   "metadata": {},
   "outputs": [
    {
     "data": {
      "text/plain": [
       "False"
      ]
     },
     "execution_count": 19,
     "metadata": {},
     "output_type": "execute_result"
    }
   ],
   "source": [
    "vdotgradv_array == sp.simplify(gradv * v_array)"
   ]
  }
 ],
 "metadata": {
  "colab": {
   "provenance": [
    {
     "file_id": "1Dhpn7gYGglek_jH4SzAflXOZGyVsUit7",
     "timestamp": 1694441627539
    },
    {
     "file_id": "11HRnyNU5R1E4R01vrD5Q-ZZZypwDcWfm",
     "timestamp": 1693352711128
    },
    {
     "file_id": "1y-WZALnbR83ZaFN7vaj70lGx2d3BpkDo",
     "timestamp": 1601406811768
    }
   ]
  },
  "kernelspec": {
   "display_name": "Python 3",
   "name": "python3"
  },
  "language_info": {
   "codemirror_mode": {
    "name": "ipython",
    "version": 3
   },
   "file_extension": ".py",
   "mimetype": "text/x-python",
   "name": "python",
   "nbconvert_exporter": "python",
   "pygments_lexer": "ipython3",
   "version": "3.9.6"
  }
 },
 "nbformat": 4,
 "nbformat_minor": 0
}
