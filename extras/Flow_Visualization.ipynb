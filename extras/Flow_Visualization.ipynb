{
 "cells": [
  {
   "cell_type": "markdown",
   "metadata": {},
   "source": [
    "# LEARNING OBJECTIVE\n",
    "\n",
    "This notebook shows how to numerically compute the streamlines, pathlines and streaklines of a given a planar velocity field in Cartesian coordinates. Interactive plots allow varying time through a slider to understand the effect of flow unsteadiness."
   ]
  },
  {
   "cell_type": "markdown",
   "metadata": {
    "id": "21hNoidL2vnD"
   },
   "source": [
    "# PRELIMINARIES\n",
    "\n",
    "[run the next cell to setup Python environment customizations and load packages]"
   ]
  },
  {
   "cell_type": "code",
   "execution_count": null,
   "metadata": {
    "executionInfo": {
     "elapsed": 1000,
     "status": "ok",
     "timestamp": 1724445373835,
     "user": {
      "displayName": "Ivan Christov",
      "userId": "03286852141196977463"
     },
     "user_tz": 240
    },
    "id": "MBp48ZTn2om4"
   },
   "outputs": [],
   "source": [
    "from ipywidgets import interact, interactive, fixed, interact_manual\n",
    "import ipywidgets as widgets\n",
    "\n",
    "from matplotlib import pyplot as plt\n",
    "size = 16\n",
    "params = {'legend.fontsize': 'large',\n",
    "#          'figure.figsize': (20,8),\n",
    "          'axes.labelsize': size,\n",
    "          'axes.titlesize': size,\n",
    "          'xtick.labelsize': size*0.875,\n",
    "          'ytick.labelsize': size*0.875,\n",
    "          'axes.titlepad': 25}\n",
    "plt.rcParams.update(params)\n",
    "%matplotlib inline\n",
    "\n",
    "import numpy as np\n",
    "import scipy.integrate as spint\n",
    "\n",
    "# for Colab only: to save plots as files and download them\n",
    "#from google.colab import files"
   ]
  },
  {
   "cell_type": "markdown",
   "metadata": {
    "id": "nxDXm7MrQez_"
   },
   "source": [
    "## Credit\n",
    "\n",
    "Initial version written by [Ivan C. Christov](http://christov.tmnt-lab.org), Purdue University.\n",
    "\n",
    "Check out these examples also using Python: https://web.iitd.ac.in/~pnair/post/flow_visualization/"
   ]
  },
  {
   "cell_type": "markdown",
   "metadata": {
    "id": "vYhlFQVo2erT"
   },
   "source": [
    "# DEFINE YOUR VELOCITY FIELD\n",
    "\n",
    "[execute the cell below for the flow field you wish to visulaize, whichever one you execute last is the one it will use]"
   ]
  },
  {
   "cell_type": "markdown",
   "metadata": {
    "id": "3KxDPCwPMrZW"
   },
   "source": [
    "## Try a velocity field of your own\n",
    "\n",
    "You need to fill in all the \"`# fill in ...`\" with something reasonable."
   ]
  },
  {
   "cell_type": "code",
   "execution_count": 7,
   "metadata": {},
   "outputs": [],
   "source": [
    "# define any constants that arise\n",
    "# fill in ...\n",
    "\n",
    "# x-component u of \\vec{V}\n",
    "def x_velocity(x,y,z,t):\n",
    "  return # fill in ...\n",
    "\n",
    "# y-component v of \\vec{V}\n",
    "def y_velocity(x,y,z,t):\n",
    "  return # fill in ...\n",
    "\n",
    "# z-component w of \\vec{V}\n",
    "# we won't do examples with z-velocity here, so it is always = 0\n",
    "def z_velocity(x,y,z,t):\n",
    "  return 0"
   ]
  },
  {
   "cell_type": "markdown",
   "metadata": {
    "id": "8ek7xtph1n8v"
   },
   "source": [
    "## Example from ME 30800 Lecture 02\n",
    "\n",
    "A fluid flow field is given by\n",
    "$$ \\vec{V}(x,y,z,t) = a x^2 \\hat{i} + b x y \\hat{j} + 0 \\hat{k}, $$\n",
    "where $a=5~\\mathrm{m}^{-1}\\mathrm{s}^{-1}$ and $b=-3~\\mathrm{m}^{-1}\\mathrm{s}^{-1}$.\n",
    "\n",
    "*   This velocity field has **two components** ($u= ax^2$ and $v=bxy$), \"living\" in the $(x,y)$ plane (no velocity in $z$-direction, meaning 0 component in $\\hat{k}$).\n",
    "* This velocity field is **two dimensional** because only $x$ and $y$ (two of the independent variables) are present in the definition.\n",
    "* This velocity field is **steady** because $t$ does not appear in the definition."
   ]
  },
  {
   "cell_type": "code",
   "execution_count": 8,
   "metadata": {
    "executionInfo": {
     "elapsed": 159,
     "status": "ok",
     "timestamp": 1724445398740,
     "user": {
      "displayName": "Ivan Christov",
      "userId": "03286852141196977463"
     },
     "user_tz": 240
    },
    "id": "waAqQWrnTsCh"
   },
   "outputs": [],
   "source": [
    "# define any constants that arise\n",
    "a = 5\n",
    "b = -3\n",
    "\n",
    "# x-component u of \\vec{V}\n",
    "def x_velocity(x,y,z,t):\n",
    "  return a*x**2\n",
    "\n",
    "# y-component v of \\vec{V}\n",
    "def y_velocity(x,y,z,t):\n",
    "  return b*x*y\n",
    "\n",
    "# z-component w of \\vec{V}\n",
    "# we won't do show examples with z-velocity here, so it is always = 0\n",
    "def z_velocity(x,y,z,t):\n",
    "  return 0"
   ]
  },
  {
   "cell_type": "markdown",
   "metadata": {
    "id": "7MPkBTU_xF4H"
   },
   "source": [
    "## Recommended problem from ME 30800 Lecture 03\n",
    "\n",
    "A fluid flow field is given by\n",
    "$$ \\vec{V}(x,y,z,t) = a x (b+2t) \\hat{i} + c y \\hat{j} + 0 \\hat{k}, $$\n",
    "where $a,b,c$ are constants with suitable units.\n",
    "\n",
    "*   This velocity field has **two components** $u= ax(b+2t)$ and $v=cy$\\, \"living\" in the $(x,y)$ plane.\n",
    "* This velocity field is **two dimensional** because only $x$ and $y$ (two of the independent variables) are present in the definition.\n",
    "* This velocity field is **unsteady** because $t$ appears in the definition."
   ]
  },
  {
   "cell_type": "code",
   "execution_count": 9,
   "metadata": {
    "executionInfo": {
     "elapsed": 136,
     "status": "ok",
     "timestamp": 1724445599005,
     "user": {
      "displayName": "Ivan Christov",
      "userId": "03286852141196977463"
     },
     "user_tz": 240
    },
    "id": "SMD6ItnLxgyl"
   },
   "outputs": [],
   "source": [
    "# define any constants that arise\n",
    "a = 1\n",
    "b = 1\n",
    "c = 1\n",
    "\n",
    "# x-component u of \\vec{V}\n",
    "def x_velocity(x,y,z,t):\n",
    "  return a*x*(b+2*t)\n",
    "\n",
    "# y-component v of \\vec{V}\n",
    "def y_velocity(x,y,z,t):\n",
    "  return c*y\n",
    "\n",
    "# z-component w of \\vec{V}\n",
    "# we won't do examples with z-velocity here, so it is always = 0\n",
    "def z_velocity(x,y,z,t):\n",
    "  return 0"
   ]
  },
  {
   "cell_type": "markdown",
   "metadata": {
    "id": "0WSCqwUXcWew"
   },
   "source": [
    "# MAKE COOL PLOTS"
   ]
  },
  {
   "cell_type": "markdown",
   "metadata": {
    "id": "Q4Kf4Fj9YBL5"
   },
   "source": [
    "## The velocity field itself\n",
    "\n",
    "First, let us visualize the flow as a collection of arrows (called a \"[quiver](https://en.wikipedia.org/wiki/Quiver) plot\"), as in vector calculus.\n",
    "\n",
    "In case the flow field is unsteady, we'd also like to be able to vary time $t$. We'll use a slider for that."
   ]
  },
  {
   "cell_type": "code",
   "execution_count": 10,
   "metadata": {
    "executionInfo": {
     "elapsed": 136,
     "status": "ok",
     "timestamp": 1724445602709,
     "user": {
      "displayName": "Ivan Christov",
      "userId": "03286852141196977463"
     },
     "user_tz": 240
    },
    "id": "05BSUEFmkBxY"
   },
   "outputs": [],
   "source": [
    "def plot_flow_field(t):\n",
    "  # define the length of the square domain to show the streamlines on\n",
    "  length = 3\n",
    "  # '10j' means we want 10 points\n",
    "  y, x = np.mgrid[-length:length:10j, -length:length:10j]\n",
    "\n",
    "  # evaluate the velocity\n",
    "  u = x_velocity(x,y,0,t)\n",
    "  v = y_velocity(x,y,0,t)\n",
    "\n",
    "  # define the plotting figure and its axes\n",
    "  fig = plt.figure()\n",
    "  ax = plt.axes(label='main')\n",
    "  ax.set(xlim=(-length, length), ylim=(-length, length))\n",
    "  ax.set_ylabel('$y$ [m]')\n",
    "  ax.set_xlabel('$x$ [m]')\n",
    "\n",
    "  # plotting a velocity field with arrows is called a 'quiver plot'\n",
    "  # a quiver is a bag an archer holds their arrows :)\n",
    "  q = ax.quiver(x, y, u, v, color='blue')\n",
    "\n",
    "  # scale for arrows in top right corner\n",
    "  arrow_key_size = 10\n",
    "  ax.set_title(' length of arrow shown is ' + str(arrow_key_size) + ' m/s ')\n",
    "  ax.quiverkey(q, length*0.8, length*1.1, arrow_key_size,\n",
    "               r'$\\vec{V}$ [m/s]', labelpos='E', coordinates='data')\n",
    "\n",
    "  plt.show()"
   ]
  },
  {
   "cell_type": "code",
   "execution_count": 11,
   "metadata": {},
   "outputs": [
    {
     "data": {
      "image/png": "[encoded data removed]",
      "text/plain": [
       "<Figure size 640x480 with 1 Axes>"
      ]
     },
     "metadata": {},
     "output_type": "display_data"
    }
   ],
   "source": [
    "plot_flow_field(0)"
   ]
  },
  {
   "cell_type": "code",
   "execution_count": 12,
   "metadata": {
    "colab": {
     "base_uri": "https://localhost:8080/",
     "height": 546,
     "referenced_widgets": [
      "1fe032c5e0834f3e889fe9787fb07d7d",
      "299ef42b923b4ccfb8e6c4a3e4ba46c7",
      "cb49ba77763f41e9a91169d8c2f44247",
      "b18cbdb5d4cc4e6e8a9d85bc9bfa054b",
      "ade0c1e034084f42bd0c809a843b7b50",
      "0fbe545afaa24c6f9fcaacc2ebc07f69",
      "056ad5041d2b4819b8d6d1a5c17004c4"
     ]
    },
    "executionInfo": {
     "elapsed": 495,
     "status": "ok",
     "timestamp": 1724445605687,
     "user": {
      "displayName": "Ivan Christov",
      "userId": "03286852141196977463"
     },
     "user_tz": 240
    },
    "id": "SZIvFBfCJKOu",
    "outputId": "182cfaa4-94fa-4602-9e6c-f1433faf6d84"
   },
   "outputs": [
    {
     "data": {
      "application/vnd.jupyter.widget-view+json": {
       "model_id": "c7b30b39f05f470f8913d8bc46efca9b",
       "version_major": 2,
       "version_minor": 0
      },
      "text/plain": [
       "interactive(children=(FloatSlider(value=0.0, description='t', max=10.0, step=0.2), Output()), _dom_classes=('w…"
      ]
     },
     "metadata": {},
     "output_type": "display_data"
    }
   ],
   "source": [
    "tfinal = 10\n",
    "\n",
    "interact(plot_flow_field, t = widgets.FloatSlider(value=0,\n",
    "                                                  min=0,\n",
    "                                                  max=tfinal,\n",
    "                                                  step=(tfinal-0)/50));"
   ]
  },
  {
   "cell_type": "markdown",
   "metadata": {
    "id": "3cV1mJIdULPD"
   },
   "source": [
    "## An instanteneous streamline going through a given point\n",
    "\n",
    "Give a point $(x_0,y_0)$ through which the streamline should pass at time $t_0$."
   ]
  },
  {
   "cell_type": "code",
   "execution_count": 13,
   "metadata": {
    "executionInfo": {
     "elapsed": 128,
     "status": "ok",
     "timestamp": 1724445652544,
     "user": {
      "displayName": "Ivan Christov",
      "userId": "03286852141196977463"
     },
     "user_tz": 240
    },
    "id": "JY-7zhbNUUhS"
   },
   "outputs": [],
   "source": [
    "x0 = 1\n",
    "y0 = 1\n",
    "t0 = 0.1\n",
    "\n",
    "# define the length of the square domain to show the streamlines on\n",
    "length = 3"
   ]
  },
  {
   "cell_type": "markdown",
   "metadata": {
    "id": "9OLqGuHlUtIh"
   },
   "source": [
    "Use [matplotlib](https://matplotlib.org/stable/gallery/images_contours_and_fields/plot_streamplot.html) utilities to make the streamline plot. These utility functions will solve the basic equation\n",
    "$$ \\frac{dy}{dx} = \\frac{v(x,y,z,t)}{u(x,y,z,t)} $$\n",
    "for a streamline $y(x)$ passing through $(x_0,y_0)$. We'll assume $z=0$, meaning none of our velocity fields depend on $z$.\n",
    "\n",
    "[Challenge for you on your own: adapt the time slider from the other examples to be able to vary the time at shich the instanteneous streamlines are shown.]"
   ]
  },
  {
   "cell_type": "code",
   "execution_count": 14,
   "metadata": {
    "colab": {
     "base_uri": "https://localhost:8080/",
     "height": 514
    },
    "executionInfo": {
     "elapsed": 1937,
     "status": "ok",
     "timestamp": 1724445655722,
     "user": {
      "displayName": "Ivan Christov",
      "userId": "03286852141196977463"
     },
     "user_tz": 240
    },
    "id": "ghaMlrqxU0WS",
    "outputId": "2478932e-4d91-4797-e575-ac8b5b5dcbd6"
   },
   "outputs": [
    {
     "data": {
      "image/png": "[encoded data removed]",
      "text/plain": [
       "<Figure size 640x480 with 2 Axes>"
      ]
     },
     "metadata": {},
     "output_type": "display_data"
    }
   ],
   "source": [
    "# here you can actually add as many starting points as you'd like\n",
    "# in the array of x coords and the array of correspoing y coords;\n",
    "# separate them by commas, as in the example shown\n",
    "seed_points = np.array([[-0.7*x0, x0], [y0, 0.25*y0]])\n",
    "\n",
    "# define the length of the square domain to show the streamlines on\n",
    "length = 3\n",
    "y, x = np.mgrid[-length:length:100j, -length:length:100j]\n",
    "\n",
    "# evaluate the velocity\n",
    "u = x_velocity(x,y,0,t0)\n",
    "v = y_velocity(x,y,0,t0)\n",
    "\n",
    "# magnitude of the velocity, to color the streamlines\n",
    "speed = np.sqrt(u**2 + v**2)\n",
    "\n",
    "# define the plotting figure and its axes\n",
    "fig = plt.figure()\n",
    "ax = plt.axes(label='main')\n",
    "ax.set(xlim=(-length, length), ylim=(-length, length))\n",
    "ax.set_ylabel('$y$ [m]')\n",
    "ax.set_xlabel('$x$ [m]')\n",
    "ax.set_title('streamlines')\n",
    "\n",
    "# plot the streamline(s)\n",
    "strm = ax.streamplot(x, y, u, v, color=speed, linewidth=2,\n",
    "                     cmap='autumn', start_points=seed_points.T)\n",
    "cbar = plt.colorbar(strm.lines)\n",
    "cbar.set_label(r'$|\\vec{V}|$ [m/s]')\n",
    "\n",
    "# display the starting points with blue symbols\n",
    "ax.plot(seed_points[0], seed_points[1], 'bo')\n",
    "\n",
    "plt.show()"
   ]
  },
  {
   "cell_type": "markdown",
   "metadata": {
    "id": "ImR5LfEpPf0N"
   },
   "source": [
    "For an extra neat trick, we have colored the streamline based on the velocity magnitute, $|\\vec{V}| = \\sqrt{u^2+v^2}$ at the points $(x,y)$ it passed through. The color bar gives the values."
   ]
  },
  {
   "cell_type": "markdown",
   "metadata": {
    "id": "YdKDGaf6nOJF"
   },
   "source": [
    "### Showing streamline is tangent to velocity field\n",
    "\n",
    "If we wanted to check this definition of the streamline, we can combine the previous two (quiver and streamline) plots.\n",
    "\n",
    "[this assumes you've ran the previous cells above and defined all variables]"
   ]
  },
  {
   "cell_type": "code",
   "execution_count": 15,
   "metadata": {
    "colab": {
     "base_uri": "https://localhost:8080/",
     "height": 514
    },
    "executionInfo": {
     "elapsed": 1094,
     "status": "ok",
     "timestamp": 1724269277152,
     "user": {
      "displayName": "Ivan Christov",
      "userId": "03286852141196977463"
     },
     "user_tz": 240
    },
    "id": "lDhUiLeunX8y",
    "outputId": "8662e36b-27d0-488a-bd1b-d990765cd1e4"
   },
   "outputs": [
    {
     "data": {
      "image/png": "[encoded data removed]",
      "text/plain": [
       "<Figure size 640x480 with 2 Axes>"
      ]
     },
     "metadata": {},
     "output_type": "display_data"
    }
   ],
   "source": [
    "# define the plotting figure and its axes\n",
    "fig = plt.figure()\n",
    "ax = plt.axes(label='main')\n",
    "ax.set(xlim=(-length, length), ylim=(-length, length))\n",
    "ax.set_ylabel('$y$ [m]')\n",
    "ax.set_xlabel('$x$ [m]')\n",
    "\n",
    "# magnitude of the velocity, to color the streamlines\n",
    "speed = np.sqrt(u**2 + v**2)\n",
    "\n",
    "# plot the streamline(s)\n",
    "strm = ax.streamplot(x, y, u, v, color=speed, linewidth=2,\n",
    "                     cmap='autumn', start_points=seed_points.T)\n",
    "cbar = plt.colorbar(strm.lines)\n",
    "cbar.set_label(r'$|\\vec{V}|$ [m/s]')\n",
    "\n",
    "# plotting a velocity field with arrows is called a 'quiver plot'\n",
    "# a quiver is a bag an archer holds their arrows :)\n",
    "# ::10 skips 10 points, so that we don't have too many overlapping arrows\n",
    "q = ax.quiver(x[::10,::10], y[::10,::10], u[::10,::10], v[::10,::10], color='blue')\n",
    "\n",
    "# scale for arrows in top right corner\n",
    "#arrow_key_size = 10\n",
    "#ax.set_title(' length of shown arrow is ' + str(arrow_key_size) + ' m/s ')\n",
    "#ax.quiverkey(q, length*0.8, length*1.1, arrow_key_size,\n",
    "#             r'$\\vec{V}$ [m/s]', labelpos='E', coordinates='data')\n",
    "\n",
    "# display the starting points with blue symbols\n",
    "ax.plot(seed_points[0], seed_points[1], 'bo')\n",
    "\n",
    "plt.show()"
   ]
  },
  {
   "cell_type": "markdown",
   "metadata": {
    "id": "Y7TB4mrnXhgL"
   },
   "source": [
    "## A pathline starting at a given point at a given time"
   ]
  },
  {
   "cell_type": "markdown",
   "metadata": {
    "id": "OS50MtlgcHl5"
   },
   "source": [
    "A key difference is that the equation of a pathline is an \"initial value problem\", we solve two coupled ODEs\n",
    "$$ \\left\\{ \\begin{align*} \\frac{d x_p}{dt} &= u\\big(x_p(t),y_p(t),z_p(t),t\\big),\\\\ \\frac{d y_p}{dt} &= v\\big(x_p(t),y_p(t),z_p(t),t\\big), \\end{align*} \\right. $$\n",
    "from a starting point in time $t=t_0$ to a stopping point in time $t = t_\\mathrm{final}$. Then make a **parametric plot** $\\big(x_p(t),y_p(t)\\big)$ to show the pathline. Again we assume $z_p=0$ (no $z$-dependence).\n",
    "\n",
    "We still need a starting point $(x_0,y_0)$."
   ]
  },
  {
   "cell_type": "code",
   "execution_count": 16,
   "metadata": {
    "executionInfo": {
     "elapsed": 152,
     "status": "ok",
     "timestamp": 1724445664419,
     "user": {
      "displayName": "Ivan Christov",
      "userId": "03286852141196977463"
     },
     "user_tz": 240
    },
    "id": "922-9oRhhKtL"
   },
   "outputs": [],
   "source": [
    "t0 = 0\n",
    "tfinal = 3\n",
    "\n",
    "x0 = 0.1\n",
    "y0 = 2.1"
   ]
  },
  {
   "cell_type": "markdown",
   "metadata": {
    "id": "vQOThh7ohIkF"
   },
   "source": [
    "Then, we setup a way to solve these ODEs using numerical methods from [SciPy](https://docs.scipy.org/doc/scipy/reference/generated/scipy.integrate.solve_ivp.html)."
   ]
  },
  {
   "cell_type": "code",
   "execution_count": 17,
   "metadata": {
    "executionInfo": {
     "elapsed": 133,
     "status": "ok",
     "timestamp": 1724445665920,
     "user": {
      "displayName": "Ivan Christov",
      "userId": "03286852141196977463"
     },
     "user_tz": 240
    },
    "id": "yWv5Lozigg17"
   },
   "outputs": [],
   "source": [
    "def pathline_ode(t, position):\n",
    "    x, y = position\n",
    "    z = 0 # again\n",
    "    u = x_velocity(x,y,z,t)\n",
    "    v = y_velocity(x,y,z,t)\n",
    "    return [u, v]"
   ]
  },
  {
   "cell_type": "markdown",
   "metadata": {
    "id": "6a1Gsv3CghMR"
   },
   "source": [
    "We use a dynamic plot with a slider to vary $t$."
   ]
  },
  {
   "cell_type": "code",
   "execution_count": 18,
   "metadata": {
    "executionInfo": {
     "elapsed": 121,
     "status": "ok",
     "timestamp": 1724445666755,
     "user": {
      "displayName": "Ivan Christov",
      "userId": "03286852141196977463"
     },
     "user_tz": 240
    },
    "id": "7gNxgVk6Otkb"
   },
   "outputs": [],
   "source": [
    "def plot_pathline(t, t0=0, style='solid', color='black'):\n",
    "  # define the length of the square domain to show the pathlines on\n",
    "  length = 10\n",
    "\n",
    "  # define the plotting figure and its axes\n",
    "  fig = plt.figure()\n",
    "  ax = plt.axes(label='main')\n",
    "  ax.set(xlim=(-length, length), ylim=(-length, length))\n",
    "  ax.set_ylabel('$y$ [m]')\n",
    "  ax.set_xlabel('$x$ [m]')\n",
    "  ax.set_title('pathline starting at (' + str(x0) + ',' + str(y0) + ')')\n",
    "\n",
    "  pathline = spint.solve_ivp(pathline_ode, [0, t], [x0, y0],\n",
    "                             t_eval=np.linspace(0,t,100), # makes the output curve smoother\n",
    "                             dense_output=True)\n",
    "  ax.plot(pathline.y[0],pathline.y[1], c=color, ls=style)\n",
    "\n",
    "  # display the starting points with blue symbols\n",
    "  ax.plot(x0, y0, 'bo', label='start point')\n",
    "  ax.plot(pathline.y[0][-1], pathline.y[1][-1], 'r^', label='end point')\n",
    "\n",
    "  ax.legend()\n",
    "\n",
    "  plt.show()"
   ]
  },
  {
   "cell_type": "code",
   "execution_count": 22,
   "metadata": {},
   "outputs": [
    {
     "data": {
      "image/png": "[encoded data removed]",
      "text/plain": [
       "<Figure size 640x480 with 1 Axes>"
      ]
     },
     "metadata": {},
     "output_type": "display_data"
    }
   ],
   "source": [
    "plot_pathline(1.2)"
   ]
  },
  {
   "cell_type": "code",
   "execution_count": 19,
   "metadata": {
    "colab": {
     "base_uri": "https://localhost:8080/",
     "height": 610,
     "referenced_widgets": [
      "ba87ce8076314658aa388561bd432774",
      "495aceea81614efb9e0b3f434eb753e6",
      "fe770c1b0b884c348c3809965fbcbf43",
      "8bd8e74277464261a3f12eb780a3d003",
      "9893b3fbe71a40288c5d4676ffb6ddc8",
      "6b8a200f918348b79499fb46b5ae4fcf",
      "93fafb92d47f49b4853d467ab3cbd495",
      "316709e8b8b1457093136b2e77201754",
      "01fa46fcc2f247b6a50e8dbf48f29f2a",
      "0d41d348385e4f88aa5a14f03bb9e820",
      "6cd3b50412cf41558493883dcd12d791",
      "881b484b4a3547b485413eba5010847d",
      "9eafcedb15b146bba4221f92c482e6e8"
     ]
    },
    "executionInfo": {
     "elapsed": 532,
     "status": "ok",
     "timestamp": 1724445670668,
     "user": {
      "displayName": "Ivan Christov",
      "userId": "03286852141196977463"
     },
     "user_tz": 240
    },
    "id": "mZiai6SyAjiR",
    "outputId": "c434b806-c9b6-408d-b24b-59496d0417af"
   },
   "outputs": [
    {
     "data": {
      "application/vnd.jupyter.widget-view+json": {
       "model_id": "54ea4972f37e431ea859bad019185556",
       "version_major": 2,
       "version_minor": 0
      },
      "text/plain": [
       "interactive(children=(FloatSlider(value=0.6, description='t', max=3.0, step=0.06), Text(value='solid', descrip…"
      ]
     },
     "metadata": {},
     "output_type": "display_data"
    }
   ],
   "source": [
    "interact(plot_pathline, t = widgets.FloatSlider(value=tfinal/5,\n",
    "                                                min=t0,\n",
    "                                                max=tfinal,\n",
    "                                                step=(tfinal-t0)/50),\n",
    "                                                t0 = fixed(0));"
   ]
  },
  {
   "cell_type": "markdown",
   "metadata": {
    "id": "94j5VEI2E60C"
   },
   "source": [
    "## A streakline"
   ]
  },
  {
   "cell_type": "markdown",
   "metadata": {
    "id": "V5oXOFcCE9na"
   },
   "source": [
    "Now things get messy.\n",
    "\n",
    "The streakline is the collection of **endpoints** of pathlines, all starting at the **same** initial point, but at _different_ times (one after each other).\n",
    "\n",
    "We can use our pathline visualization above to devlop a streamline."
   ]
  },
  {
   "cell_type": "code",
   "execution_count": 20,
   "metadata": {
    "colab": {
     "base_uri": "https://localhost:8080/",
     "height": 514
    },
    "executionInfo": {
     "elapsed": 534,
     "status": "ok",
     "timestamp": 1724445697158,
     "user": {
      "displayName": "Ivan Christov",
      "userId": "03286852141196977463"
     },
     "user_tz": 240
    },
    "id": "YjNvhSLDHG5n",
    "outputId": "d9844304-0dab-4133-efc5-b1fd9218da89"
   },
   "outputs": [
    {
     "data": {
      "image/png": "[encoded data removed]",
      "text/plain": [
       "<Figure size 640x480 with 1 Axes>"
      ]
     },
     "metadata": {},
     "output_type": "display_data"
    }
   ],
   "source": [
    "# define the length of the square domain to show the pathlines on\n",
    "length = 30\n",
    "\n",
    "# define the plotting figure and its axes\n",
    "fig = plt.figure()\n",
    "ax = plt.axes(label='main')\n",
    "ax.set(xlim=(-length, length), ylim=(-length, length))\n",
    "ax.set_ylabel('$y$ [m]')\n",
    "ax.set_xlabel('$x$ [m]')\n",
    "ax.set_title('streakline originating from (' + str(x0) + ',' + str(y0) + ')')\n",
    "\n",
    "t_final = 1.9\n",
    "\n",
    "pathline1 = spint.solve_ivp(pathline_ode, [0, t_final], [x0, y0],\n",
    "                            t_eval=np.linspace(0,t_final,100),\n",
    "                            dense_output=True)\n",
    "pathline2 = spint.solve_ivp(pathline_ode, [0.1, t_final], [x0, y0],\n",
    "                            t_eval=np.linspace(0.1,t_final,100),\n",
    "                            dense_output=True)\n",
    "pathline3 = spint.solve_ivp(pathline_ode, [0.2, t_final], [x0, y0],\n",
    "                            t_eval=np.linspace(0.2,t_final,100),\n",
    "                            dense_output=True)\n",
    "pathline4 = spint.solve_ivp(pathline_ode, [0.3, t_final], [x0, y0],\n",
    "                            t_eval=np.linspace(0.3,t_final,100),\n",
    "                            dense_output=True)\n",
    "\n",
    "# display the starting points with blue symbols\n",
    "ax.plot(x0, y0, 'bo', label='start point')\n",
    "ax.plot(pathline1.y[0], pathline1.y[1], '--', label='pathline starting at $t=0$')\n",
    "ax.plot(pathline1.y[0][-1], pathline1.y[1][-1], 'o')\n",
    "ax.plot(pathline2.y[0], pathline2.y[1], '--', label='pathline starting at $t=0.1$')\n",
    "ax.plot(pathline2.y[0][-1], pathline2.y[1][-1], 'o')\n",
    "ax.plot(pathline3.y[0], pathline3.y[1], '--', label='pathline starting at $t=0.2$')\n",
    "ax.plot(pathline3.y[0][-1], pathline3.y[1][-1], 'o')\n",
    "ax.plot(pathline4.y[0], pathline4.y[1], '--', label='pathline starting at $t=0.3$')\n",
    "ax.plot(pathline4.y[0][-1], pathline4.y[1][-1], 'o')\n",
    "\n",
    "ax.plot([pathline1.y[0][-1],pathline2.y[0][-1],pathline3.y[0][-1],pathline4.y[0][-1]],\n",
    "        [pathline1.y[1][-1],pathline2.y[1][-1],pathline3.y[1][-1],pathline4.y[1][-1]],\n",
    "        'k-', lw=2, label='piece of the streakline')\n",
    "\n",
    "ax.legend()\n",
    "\n",
    "plt.show()"
   ]
  },
  {
   "cell_type": "code",
   "execution_count": null,
   "metadata": {
    "id": "maxX6tYCHpJZ"
   },
   "outputs": [],
   "source": []
  }
 ],
 "metadata": {
  "colab": {
   "collapsed_sections": [
    "YdKDGaf6nOJF"
   ],
   "provenance": [
    {
     "file_id": "1PoaZN3jcO4j3Hjpx2Szl7FOJU91l2jZc",
     "timestamp": 1724261742734
    },
    {
     "file_id": "1y-WZALnbR83ZaFN7vaj70lGx2d3BpkDo",
     "timestamp": 1641839870081
    }
   ]
  },
  "kernelspec": {
   "display_name": "Python 3",
   "name": "python3"
  },
  "language_info": {
   "codemirror_mode": {
    "name": "ipython",
    "version": 3
   },
   "file_extension": ".py",
   "mimetype": "text/x-python",
   "name": "python",
   "nbconvert_exporter": "python",
   "pygments_lexer": "ipython3",
   "version": "3.9.6"
  },
  "widgets": {
   "application/vnd.jupyter.widget-state+json": {
    "01fa46fcc2f247b6a50e8dbf48f29f2a": {
     "model_module": "@jupyter-widgets/base",
     "model_module_version": "1.2.0",
     "model_name": "LayoutModel",
     "state": {
      "_model_module": "@jupyter-widgets/base",
      "_model_module_version": "1.2.0",
      "_model_name": "LayoutModel",
      "_view_count": null,
      "_view_module": "@jupyter-widgets/base",
      "_view_module_version": "1.2.0",
      "_view_name": "LayoutView",
      "align_content": null,
      "align_items": null,
      "align_self": null,
      "border": null,
      "bottom": null,
      "display": null,
      "flex": null,
      "flex_flow": null,
      "grid_area": null,
      "grid_auto_columns": null,
      "grid_auto_flow": null,
      "grid_auto_rows": null,
      "grid_column": null,
      "grid_gap": null,
      "grid_row": null,
      "grid_template_areas": null,
      "grid_template_columns": null,
      "grid_template_rows": null,
      "height": null,
      "justify_content": null,
      "justify_items": null,
      "left": null,
      "margin": null,
      "max_height": null,
      "max_width": null,
      "min_height": null,
      "min_width": null,
      "object_fit": null,
      "object_position": null,
      "order": null,
      "overflow": null,
      "overflow_x": null,
      "overflow_y": null,
      "padding": null,
      "right": null,
      "top": null,
      "visibility": null,
      "width": null
     }
    },
    "056ad5041d2b4819b8d6d1a5c17004c4": {
     "model_module": "@jupyter-widgets/base",
     "model_module_version": "1.2.0",
     "model_name": "LayoutModel",
     "state": {
      "_model_module": "@jupyter-widgets/base",
      "_model_module_version": "1.2.0",
      "_model_name": "LayoutModel",
      "_view_count": null,
      "_view_module": "@jupyter-widgets/base",
      "_view_module_version": "1.2.0",
      "_view_name": "LayoutView",
      "align_content": null,
      "align_items": null,
      "align_self": null,
      "border": null,
      "bottom": null,
      "display": null,
      "flex": null,
      "flex_flow": null,
      "grid_area": null,
      "grid_auto_columns": null,
      "grid_auto_flow": null,
      "grid_auto_rows": null,
      "grid_column": null,
      "grid_gap": null,
      "grid_row": null,
      "grid_template_areas": null,
      "grid_template_columns": null,
      "grid_template_rows": null,
      "height": null,
      "justify_content": null,
      "justify_items": null,
      "left": null,
      "margin": null,
      "max_height": null,
      "max_width": null,
      "min_height": null,
      "min_width": null,
      "object_fit": null,
      "object_position": null,
      "order": null,
      "overflow": null,
      "overflow_x": null,
      "overflow_y": null,
      "padding": null,
      "right": null,
      "top": null,
      "visibility": null,
      "width": null
     }
    },
    "0d41d348385e4f88aa5a14f03bb9e820": {
     "model_module": "@jupyter-widgets/controls",
     "model_module_version": "1.5.0",
     "model_name": "DescriptionStyleModel",
     "state": {
      "_model_module": "@jupyter-widgets/controls",
      "_model_module_version": "1.5.0",
      "_model_name": "DescriptionStyleModel",
      "_view_count": null,
      "_view_module": "@jupyter-widgets/base",
      "_view_module_version": "1.2.0",
      "_view_name": "StyleView",
      "description_width": ""
     }
    },
    "0fbe545afaa24c6f9fcaacc2ebc07f69": {
     "model_module": "@jupyter-widgets/controls",
     "model_module_version": "1.5.0",
     "model_name": "SliderStyleModel",
     "state": {
      "_model_module": "@jupyter-widgets/controls",
      "_model_module_version": "1.5.0",
      "_model_name": "SliderStyleModel",
      "_view_count": null,
      "_view_module": "@jupyter-widgets/base",
      "_view_module_version": "1.2.0",
      "_view_name": "StyleView",
      "description_width": "",
      "handle_color": null
     }
    },
    "1fe032c5e0834f3e889fe9787fb07d7d": {
     "model_module": "@jupyter-widgets/controls",
     "model_module_version": "1.5.0",
     "model_name": "VBoxModel",
     "state": {
      "_dom_classes": [
       "widget-interact"
      ],
      "_model_module": "@jupyter-widgets/controls",
      "_model_module_version": "1.5.0",
      "_model_name": "VBoxModel",
      "_view_count": null,
      "_view_module": "@jupyter-widgets/controls",
      "_view_module_version": "1.5.0",
      "_view_name": "VBoxView",
      "box_style": "",
      "children": [
       "IPY_MODEL_299ef42b923b4ccfb8e6c4a3e4ba46c7",
       "IPY_MODEL_cb49ba77763f41e9a91169d8c2f44247"
      ],
      "layout": "IPY_MODEL_b18cbdb5d4cc4e6e8a9d85bc9bfa054b"
     }
    },
    "299ef42b923b4ccfb8e6c4a3e4ba46c7": {
     "model_module": "@jupyter-widgets/controls",
     "model_module_version": "1.5.0",
     "model_name": "FloatSliderModel",
     "state": {
      "_dom_classes": [],
      "_model_module": "@jupyter-widgets/controls",
      "_model_module_version": "1.5.0",
      "_model_name": "FloatSliderModel",
      "_view_count": null,
      "_view_module": "@jupyter-widgets/controls",
      "_view_module_version": "1.5.0",
      "_view_name": "FloatSliderView",
      "continuous_update": true,
      "description": "t",
      "description_tooltip": null,
      "disabled": false,
      "layout": "IPY_MODEL_ade0c1e034084f42bd0c809a843b7b50",
      "max": 10,
      "min": 0,
      "orientation": "horizontal",
      "readout": true,
      "readout_format": ".2f",
      "step": 0.2,
      "style": "IPY_MODEL_0fbe545afaa24c6f9fcaacc2ebc07f69",
      "value": 3
     }
    },
    "316709e8b8b1457093136b2e77201754": {
     "model_module": "@jupyter-widgets/controls",
     "model_module_version": "1.5.0",
     "model_name": "SliderStyleModel",
     "state": {
      "_model_module": "@jupyter-widgets/controls",
      "_model_module_version": "1.5.0",
      "_model_name": "SliderStyleModel",
      "_view_count": null,
      "_view_module": "@jupyter-widgets/base",
      "_view_module_version": "1.2.0",
      "_view_name": "StyleView",
      "description_width": "",
      "handle_color": null
     }
    },
    "495aceea81614efb9e0b3f434eb753e6": {
     "model_module": "@jupyter-widgets/controls",
     "model_module_version": "1.5.0",
     "model_name": "FloatSliderModel",
     "state": {
      "_dom_classes": [],
      "_model_module": "@jupyter-widgets/controls",
      "_model_module_version": "1.5.0",
      "_model_name": "FloatSliderModel",
      "_view_count": null,
      "_view_module": "@jupyter-widgets/controls",
      "_view_module_version": "1.5.0",
      "_view_name": "FloatSliderView",
      "continuous_update": true,
      "description": "t",
      "description_tooltip": null,
      "disabled": false,
      "layout": "IPY_MODEL_93fafb92d47f49b4853d467ab3cbd495",
      "max": 3,
      "min": 0,
      "orientation": "horizontal",
      "readout": true,
      "readout_format": ".2f",
      "step": 0.06,
      "style": "IPY_MODEL_316709e8b8b1457093136b2e77201754",
      "value": 1.38
     }
    },
    "6b8a200f918348b79499fb46b5ae4fcf": {
     "model_module": "@jupyter-widgets/base",
     "model_module_version": "1.2.0",
     "model_name": "LayoutModel",
     "state": {
      "_model_module": "@jupyter-widgets/base",
      "_model_module_version": "1.2.0",
      "_model_name": "LayoutModel",
      "_view_count": null,
      "_view_module": "@jupyter-widgets/base",
      "_view_module_version": "1.2.0",
      "_view_name": "LayoutView",
      "align_content": null,
      "align_items": null,
      "align_self": null,
      "border": null,
      "bottom": null,
      "display": null,
      "flex": null,
      "flex_flow": null,
      "grid_area": null,
      "grid_auto_columns": null,
      "grid_auto_flow": null,
      "grid_auto_rows": null,
      "grid_column": null,
      "grid_gap": null,
      "grid_row": null,
      "grid_template_areas": null,
      "grid_template_columns": null,
      "grid_template_rows": null,
      "height": null,
      "justify_content": null,
      "justify_items": null,
      "left": null,
      "margin": null,
      "max_height": null,
      "max_width": null,
      "min_height": null,
      "min_width": null,
      "object_fit": null,
      "object_position": null,
      "order": null,
      "overflow": null,
      "overflow_x": null,
      "overflow_y": null,
      "padding": null,
      "right": null,
      "top": null,
      "visibility": null,
      "width": null
     }
    },
    "6cd3b50412cf41558493883dcd12d791": {
     "model_module": "@jupyter-widgets/base",
     "model_module_version": "1.2.0",
     "model_name": "LayoutModel",
     "state": {
      "_model_module": "@jupyter-widgets/base",
      "_model_module_version": "1.2.0",
      "_model_name": "LayoutModel",
      "_view_count": null,
      "_view_module": "@jupyter-widgets/base",
      "_view_module_version": "1.2.0",
      "_view_name": "LayoutView",
      "align_content": null,
      "align_items": null,
      "align_self": null,
      "border": null,
      "bottom": null,
      "display": null,
      "flex": null,
      "flex_flow": null,
      "grid_area": null,
      "grid_auto_columns": null,
      "grid_auto_flow": null,
      "grid_auto_rows": null,
      "grid_column": null,
      "grid_gap": null,
      "grid_row": null,
      "grid_template_areas": null,
      "grid_template_columns": null,
      "grid_template_rows": null,
      "height": null,
      "justify_content": null,
      "justify_items": null,
      "left": null,
      "margin": null,
      "max_height": null,
      "max_width": null,
      "min_height": null,
      "min_width": null,
      "object_fit": null,
      "object_position": null,
      "order": null,
      "overflow": null,
      "overflow_x": null,
      "overflow_y": null,
      "padding": null,
      "right": null,
      "top": null,
      "visibility": null,
      "width": null
     }
    },
    "881b484b4a3547b485413eba5010847d": {
     "model_module": "@jupyter-widgets/controls",
     "model_module_version": "1.5.0",
     "model_name": "DescriptionStyleModel",
     "state": {
      "_model_module": "@jupyter-widgets/controls",
      "_model_module_version": "1.5.0",
      "_model_name": "DescriptionStyleModel",
      "_view_count": null,
      "_view_module": "@jupyter-widgets/base",
      "_view_module_version": "1.2.0",
      "_view_name": "StyleView",
      "description_width": ""
     }
    },
    "8bd8e74277464261a3f12eb780a3d003": {
     "model_module": "@jupyter-widgets/controls",
     "model_module_version": "1.5.0",
     "model_name": "TextModel",
     "state": {
      "_dom_classes": [],
      "_model_module": "@jupyter-widgets/controls",
      "_model_module_version": "1.5.0",
      "_model_name": "TextModel",
      "_view_count": null,
      "_view_module": "@jupyter-widgets/controls",
      "_view_module_version": "1.5.0",
      "_view_name": "TextView",
      "continuous_update": true,
      "description": "color",
      "description_tooltip": null,
      "disabled": false,
      "layout": "IPY_MODEL_6cd3b50412cf41558493883dcd12d791",
      "placeholder": "​",
      "style": "IPY_MODEL_881b484b4a3547b485413eba5010847d",
      "value": "black"
     }
    },
    "93fafb92d47f49b4853d467ab3cbd495": {
     "model_module": "@jupyter-widgets/base",
     "model_module_version": "1.2.0",
     "model_name": "LayoutModel",
     "state": {
      "_model_module": "@jupyter-widgets/base",
      "_model_module_version": "1.2.0",
      "_model_name": "LayoutModel",
      "_view_count": null,
      "_view_module": "@jupyter-widgets/base",
      "_view_module_version": "1.2.0",
      "_view_name": "LayoutView",
      "align_content": null,
      "align_items": null,
      "align_self": null,
      "border": null,
      "bottom": null,
      "display": null,
      "flex": null,
      "flex_flow": null,
      "grid_area": null,
      "grid_auto_columns": null,
      "grid_auto_flow": null,
      "grid_auto_rows": null,
      "grid_column": null,
      "grid_gap": null,
      "grid_row": null,
      "grid_template_areas": null,
      "grid_template_columns": null,
      "grid_template_rows": null,
      "height": null,
      "justify_content": null,
      "justify_items": null,
      "left": null,
      "margin": null,
      "max_height": null,
      "max_width": null,
      "min_height": null,
      "min_width": null,
      "object_fit": null,
      "object_position": null,
      "order": null,
      "overflow": null,
      "overflow_x": null,
      "overflow_y": null,
      "padding": null,
      "right": null,
      "top": null,
      "visibility": null,
      "width": null
     }
    },
    "9893b3fbe71a40288c5d4676ffb6ddc8": {
     "model_module": "@jupyter-widgets/output",
     "model_module_version": "1.0.0",
     "model_name": "OutputModel",
     "state": {
      "_dom_classes": [],
      "_model_module": "@jupyter-widgets/output",
      "_model_module_version": "1.0.0",
      "_model_name": "OutputModel",
      "_view_count": null,
      "_view_module": "@jupyter-widgets/output",
      "_view_module_version": "1.0.0",
      "_view_name": "OutputView",
      "layout": "IPY_MODEL_9eafcedb15b146bba4221f92c482e6e8",
      "msg_id": "",
      "outputs": [
       {
        "data": {
         "image/png": "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\n",
         "text/plain": "<Figure size 640x480 with 1 Axes>"
        },
        "metadata": {},
        "output_type": "display_data"
       }
      ]
     }
    },
    "9eafcedb15b146bba4221f92c482e6e8": {
     "model_module": "@jupyter-widgets/base",
     "model_module_version": "1.2.0",
     "model_name": "LayoutModel",
     "state": {
      "_model_module": "@jupyter-widgets/base",
      "_model_module_version": "1.2.0",
      "_model_name": "LayoutModel",
      "_view_count": null,
      "_view_module": "@jupyter-widgets/base",
      "_view_module_version": "1.2.0",
      "_view_name": "LayoutView",
      "align_content": null,
      "align_items": null,
      "align_self": null,
      "border": null,
      "bottom": null,
      "display": null,
      "flex": null,
      "flex_flow": null,
      "grid_area": null,
      "grid_auto_columns": null,
      "grid_auto_flow": null,
      "grid_auto_rows": null,
      "grid_column": null,
      "grid_gap": null,
      "grid_row": null,
      "grid_template_areas": null,
      "grid_template_columns": null,
      "grid_template_rows": null,
      "height": null,
      "justify_content": null,
      "justify_items": null,
      "left": null,
      "margin": null,
      "max_height": null,
      "max_width": null,
      "min_height": null,
      "min_width": null,
      "object_fit": null,
      "object_position": null,
      "order": null,
      "overflow": null,
      "overflow_x": null,
      "overflow_y": null,
      "padding": null,
      "right": null,
      "top": null,
      "visibility": null,
      "width": null
     }
    },
    "ade0c1e034084f42bd0c809a843b7b50": {
     "model_module": "@jupyter-widgets/base",
     "model_module_version": "1.2.0",
     "model_name": "LayoutModel",
     "state": {
      "_model_module": "@jupyter-widgets/base",
      "_model_module_version": "1.2.0",
      "_model_name": "LayoutModel",
      "_view_count": null,
      "_view_module": "@jupyter-widgets/base",
      "_view_module_version": "1.2.0",
      "_view_name": "LayoutView",
      "align_content": null,
      "align_items": null,
      "align_self": null,
      "border": null,
      "bottom": null,
      "display": null,
      "flex": null,
      "flex_flow": null,
      "grid_area": null,
      "grid_auto_columns": null,
      "grid_auto_flow": null,
      "grid_auto_rows": null,
      "grid_column": null,
      "grid_gap": null,
      "grid_row": null,
      "grid_template_areas": null,
      "grid_template_columns": null,
      "grid_template_rows": null,
      "height": null,
      "justify_content": null,
      "justify_items": null,
      "left": null,
      "margin": null,
      "max_height": null,
      "max_width": null,
      "min_height": null,
      "min_width": null,
      "object_fit": null,
      "object_position": null,
      "order": null,
      "overflow": null,
      "overflow_x": null,
      "overflow_y": null,
      "padding": null,
      "right": null,
      "top": null,
      "visibility": null,
      "width": null
     }
    },
    "b18cbdb5d4cc4e6e8a9d85bc9bfa054b": {
     "model_module": "@jupyter-widgets/base",
     "model_module_version": "1.2.0",
     "model_name": "LayoutModel",
     "state": {
      "_model_module": "@jupyter-widgets/base",
      "_model_module_version": "1.2.0",
      "_model_name": "LayoutModel",
      "_view_count": null,
      "_view_module": "@jupyter-widgets/base",
      "_view_module_version": "1.2.0",
      "_view_name": "LayoutView",
      "align_content": null,
      "align_items": null,
      "align_self": null,
      "border": null,
      "bottom": null,
      "display": null,
      "flex": null,
      "flex_flow": null,
      "grid_area": null,
      "grid_auto_columns": null,
      "grid_auto_flow": null,
      "grid_auto_rows": null,
      "grid_column": null,
      "grid_gap": null,
      "grid_row": null,
      "grid_template_areas": null,
      "grid_template_columns": null,
      "grid_template_rows": null,
      "height": null,
      "justify_content": null,
      "justify_items": null,
      "left": null,
      "margin": null,
      "max_height": null,
      "max_width": null,
      "min_height": null,
      "min_width": null,
      "object_fit": null,
      "object_position": null,
      "order": null,
      "overflow": null,
      "overflow_x": null,
      "overflow_y": null,
      "padding": null,
      "right": null,
      "top": null,
      "visibility": null,
      "width": null
     }
    },
    "ba87ce8076314658aa388561bd432774": {
     "model_module": "@jupyter-widgets/controls",
     "model_module_version": "1.5.0",
     "model_name": "VBoxModel",
     "state": {
      "_dom_classes": [
       "widget-interact"
      ],
      "_model_module": "@jupyter-widgets/controls",
      "_model_module_version": "1.5.0",
      "_model_name": "VBoxModel",
      "_view_count": null,
      "_view_module": "@jupyter-widgets/controls",
      "_view_module_version": "1.5.0",
      "_view_name": "VBoxView",
      "box_style": "",
      "children": [
       "IPY_MODEL_495aceea81614efb9e0b3f434eb753e6",
       "IPY_MODEL_fe770c1b0b884c348c3809965fbcbf43",
       "IPY_MODEL_8bd8e74277464261a3f12eb780a3d003",
       "IPY_MODEL_9893b3fbe71a40288c5d4676ffb6ddc8"
      ],
      "layout": "IPY_MODEL_6b8a200f918348b79499fb46b5ae4fcf"
     }
    },
    "cb49ba77763f41e9a91169d8c2f44247": {
     "model_module": "@jupyter-widgets/output",
     "model_module_version": "1.0.0",
     "model_name": "OutputModel",
     "state": {
      "_dom_classes": [],
      "_model_module": "@jupyter-widgets/output",
      "_model_module_version": "1.0.0",
      "_model_name": "OutputModel",
      "_view_count": null,
      "_view_module": "@jupyter-widgets/output",
      "_view_module_version": "1.0.0",
      "_view_name": "OutputView",
      "layout": "IPY_MODEL_056ad5041d2b4819b8d6d1a5c17004c4",
      "msg_id": "",
      "outputs": [
       {
        "data": {
         "image/png": "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\n",
         "text/plain": "<Figure size 640x480 with 1 Axes>"
        },
        "metadata": {},
        "output_type": "display_data"
       }
      ]
     }
    },
    "fe770c1b0b884c348c3809965fbcbf43": {
     "model_module": "@jupyter-widgets/controls",
     "model_module_version": "1.5.0",
     "model_name": "TextModel",
     "state": {
      "_dom_classes": [],
      "_model_module": "@jupyter-widgets/controls",
      "_model_module_version": "1.5.0",
      "_model_name": "TextModel",
      "_view_count": null,
      "_view_module": "@jupyter-widgets/controls",
      "_view_module_version": "1.5.0",
      "_view_name": "TextView",
      "continuous_update": true,
      "description": "style",
      "description_tooltip": null,
      "disabled": false,
      "layout": "IPY_MODEL_01fa46fcc2f247b6a50e8dbf48f29f2a",
      "placeholder": "​",
      "style": "IPY_MODEL_0d41d348385e4f88aa5a14f03bb9e820",
      "value": "solid"
     }
    }
   }
  }
 },
 "nbformat": 4,
 "nbformat_minor": 0
}
