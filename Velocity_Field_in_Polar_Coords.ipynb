{
 "cells": [
  {
   "cell_type": "markdown",
   "metadata": {},
   "source": [
    "# PRELIMINARIES"
   ]
  },
  {
   "cell_type": "code",
   "execution_count": 19,
   "metadata": {},
   "outputs": [],
   "source": [
    "# interactive plots setup\n",
    "from ipywidgets import interact, interactive, fixed, interact_manual\n",
    "import ipywidgets as widgets\n",
    "\n",
    "# sympy setup\n",
    "import sympy as sp\n",
    "sp.init_printing()\n",
    "from sympy.vector import *\n",
    "\n",
    "# ploting customizations\n",
    "from matplotlib import pyplot as plt\n",
    "size=16\n",
    "params = {'legend.fontsize': 'large',\n",
    "#          'figure.figsize': (20,8),\n",
    "          'axes.labelsize': size,\n",
    "          'axes.titlesize': size,\n",
    "          'xtick.labelsize': size*0.875,\n",
    "          'ytick.labelsize': size*0.875,\n",
    "          'axes.titlepad': 25}\n",
    "plt.rcParams.update(params)\n",
    "%matplotlib inline\n",
    "\n",
    "# numerics\n",
    "import numpy as np\n",
    "\n",
    "# to save plots as files and download them\n",
    "#from google.colab import files"
   ]
  },
  {
   "cell_type": "markdown",
   "metadata": {},
   "source": [
    "## Credit\n",
    "\n",
    "Initial version written by [Ivan C. Christov](http://christov.tmnt-lab.org), Purdue University."
   ]
  },
  {
   "cell_type": "markdown",
   "metadata": {},
   "source": [
    "# VELOCITY FIELD GIVEN IN POLAR COORDINATES"
   ]
  },
  {
   "cell_type": "markdown",
   "metadata": {},
   "source": [
    "Consider ideal flow past a cylinder of constant radius $r_0$. An example of such flow, which is also steady and planar, has velocity components in cylindrical $(r,\\theta,z)$ coordinates given by \n",
    "\\begin{align*}\n",
    "    v_r(r,\\theta) &= U_0\\cos\\theta\\left[ 1 - \\left(\\frac{r_0}{r}\\right)^2 \\right],\\\\\n",
    "    v_\\theta(r,\\theta) &= -U_0\\sin\\theta\\left[ 1 + \\left(\\frac{r_0}{r}\\right)^2 \\right],\\\\\n",
    "    v_z(r,\\theta) &= 0.\n",
    "\\end{align*}\n",
    "The cylinder is assumed infinite in the $z$-direction out of the page. The free-stream uniform horizontal velocity far away from the cylinder is the constant $U_0$."
   ]
  },
  {
   "cell_type": "markdown",
   "metadata": {},
   "source": [
    "# TRANSFORMATION TO CARTESIAN COORDINATES"
   ]
  },
  {
   "cell_type": "markdown",
   "metadata": {},
   "source": [
    "To convert the polar velocities, $v_r$ and $v_\\theta$, to Cartesian ones, $v_x$ and $v_y$, for plotting we strat from the basic [polar](https://en.wikipedia.org/wiki/Polar_coordinate_system)-to-Cartesian transformation:\n",
    "\\begin{align*}\n",
    "    x &= r \\cos\\theta,\\\\\n",
    "    y &= r \\sin\\theta,\n",
    "\\end{align*}\n",
    "and take a time derivative\n",
    "\\begin{align*}\n",
    "    \\frac{dx}{dt} &= \\frac{d}{dt} (r \\cos\\theta) = \\frac{dr}{dt} \\cos\\theta - r \\sin\\theta \\frac{d\\theta}{dt},\\\\\n",
    "    \\frac{dy}{dt} &= \\frac{d}{dt} (r \\sin\\theta) = \\frac{dr}{dt} \\sin\\theta + r \\cos\\theta \\frac{d\\theta}{dt}.\n",
    "\\end{align*}\n",
    "\n",
    "By defintion, in Eulerian coordinates, $dx/dy=v_x$, $dy/dt=v_y$, $dr/dt = v_r$, and $d\\theta/dt = v_\\theta$, hence\n",
    "\\begin{align*}\n",
    "    v_x &= v_r \\cos\\theta - v_\\theta ~ r \\sin\\theta,\\\\\n",
    "    v_y &= v_r \\sin\\theta + v_\\theta ~ r \\cos\\theta,\n",
    "\\end{align*}\n",
    "which completes the transformation."
   ]
  },
  {
   "cell_type": "markdown",
   "metadata": {},
   "source": [
    "# PLOTTING"
   ]
  },
  {
   "cell_type": "markdown",
   "metadata": {},
   "source": [
    "First, define the velocity field and the transformation rule."
   ]
  },
  {
   "cell_type": "code",
   "execution_count": 20,
   "metadata": {},
   "outputs": [],
   "source": [
    "def vr(r,th,U0,r0):\n",
    "    return U0*np.cos(th)*(1 - (r0/r)**2)\n",
    "\n",
    "def vth(r,th,U0,r0):\n",
    "    return -U0*np.sin(th)*(1 + (r0/r)**2)"
   ]
  },
  {
   "cell_type": "code",
   "execution_count": 21,
   "metadata": {},
   "outputs": [],
   "source": [
    "def vx_from_polar(r,th,vr,vth):\n",
    "    return vr*np.cos(th) - vth*r*np.sin(th)\n",
    "\n",
    "def vy_from_polar(r,th,vr,vth):\n",
    "    return vr*np.sin(th) + vth*r*np.cos(th)"
   ]
  },
  {
   "cell_type": "markdown",
   "metadata": {},
   "source": [
    "Let visualize this flow field looks using [`streamplot`](https://matplotlib.org/stable/gallery/images_contours_and_fields/plot_streamplot.html#sphx-glr-gallery-images-contours-and-fields-plot-streamplot-py) with [`interact`](https://ipywidgets.readthedocs.io/en/latest/examples/Using%20Interact.html) widgets.\n",
    "\n",
    "First we create function to make a plot for a given $U_0$ and $r_0$ value."
   ]
  },
  {
   "cell_type": "code",
   "execution_count": 22,
   "metadata": {},
   "outputs": [],
   "source": [
    "def velocity_plot(U0,r0):\n",
    "  # setup a square domain grid for plotting\n",
    "  w = 5\n",
    "  a = np.linspace(-w, w, 100)\n",
    "  x1, x2 = np.meshgrid(a, a)\n",
    "\n",
    "  # convert domain's grid to polar coordinates\n",
    "  r = np.sqrt(x1**2 + x2**2)\n",
    "  th = np.arctan2(x2, x1)\n",
    "\n",
    "  # evaluate the velocity components on the given domain\n",
    "  my_vr = vr(r,th,U0,r0)\n",
    "  my_vth = vth(r,th,U0,r0)\n",
    "\n",
    "  # convert the polar velocities to Cartesian ones\n",
    "  v1 = vx_from_polar(r,th,my_vr,my_vth)\n",
    "  v2 = vy_from_polar(r,th,my_vr,my_vth)\n",
    "\n",
    "  # compute the velocity vector's magnitude \n",
    "  # (used to color the streamlines belows)\n",
    "  vel = np.sqrt(v1**2 + v2**2)\n",
    "  \n",
    "  ax = plt.axes()\n",
    "\n",
    "  # create a mask on the velocity field for the values of r < r0\n",
    "  mask = np.zeros(v1.shape, dtype=bool)\n",
    "  mask[r < r0] = True\n",
    "  v1[r < r0] = np.nan\n",
    "  vel[r < r0] = np.nan\n",
    "  v1 = np.ma.array(v1, mask=mask)\n",
    "  ax. imshow(~mask, extent=(-w, w, -w, w), alpha=0)\n",
    "  # cover up the region r < r0 with a circle\n",
    "  circle = plt.Circle((0, 0), r0*1.01, color='grey', zorder=2)\n",
    "  ax.add_patch(circle)\n",
    "\n",
    "  # plot the streamlines\n",
    "  strm = ax.streamplot(x1, x2, v1, v2, color=vel, linewidth=2, cmap='winter')\n",
    "  plt.colorbar(strm.lines,label='$\\sqrt{v_1^2+v_2^2}$')\n",
    "\n",
    "  ax.set_ylabel('$x_2$')\n",
    "  ax.set_xlabel('$x_1$')\n",
    "  ax.set_aspect('equal')\n",
    "\n",
    "  plt.show()"
   ]
  },
  {
   "cell_type": "markdown",
   "metadata": {},
   "source": [
    "Then, we feed the function to `interact`."
   ]
  },
  {
   "cell_type": "code",
   "execution_count": 23,
   "metadata": {},
   "outputs": [
    {
     "data": {
      "application/vnd.jupyter.widget-view+json": {
       "model_id": "3117912dcb6a4c19b6100ac8f6c88739",
       "version_major": 2,
       "version_minor": 0
      },
      "text/plain": [
       "interactive(children=(FloatSlider(value=1.0, description='$U_0$', max=5.0, min=-5.0, step=0.5), FloatSlider(va…"
      ]
     },
     "metadata": {},
     "output_type": "display_data"
    }
   ],
   "source": [
    "interact(velocity_plot,\n",
    "         U0 = widgets.FloatSlider(min=-5, max=5, value=1, step=0.5, description='$U_0$'),\n",
    "         r0 = widgets.FloatSlider(min=0, max=2, value=0.5, step=0.1, description='$r_0$')\n",
    "        );"
   ]
  }
 ],
 "metadata": {
  "kernelspec": {
   "display_name": "Python 3",
   "language": "python",
   "name": "python3"
  },
  "language_info": {
   "codemirror_mode": {
    "name": "ipython",
    "version": 3
   },
   "file_extension": ".py",
   "mimetype": "text/x-python",
   "name": "python",
   "nbconvert_exporter": "python",
   "pygments_lexer": "ipython3",
   "version": "3.9.6"
  }
 },
 "nbformat": 4,
 "nbformat_minor": 2
}
