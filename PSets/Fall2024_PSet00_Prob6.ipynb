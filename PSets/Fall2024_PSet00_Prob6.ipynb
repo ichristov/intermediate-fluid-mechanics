{
 "cells": [
  {
   "cell_type": "markdown",
   "metadata": {
    "id": "21hNoidL2vnD"
   },
   "source": [
    "# PRELIMINARIES"
   ]
  },
  {
   "cell_type": "code",
   "execution_count": 1,
   "metadata": {
    "executionInfo": {
     "elapsed": 1479,
     "status": "ok",
     "timestamp": 1704567334456,
     "user": {
      "displayName": "Ivan Christov",
      "userId": "03286852141196977463"
     },
     "user_tz": 300
    },
    "id": "MBp48ZTn2om4"
   },
   "outputs": [],
   "source": [
    "# interactive plots setup\n",
    "from ipywidgets import interact, interactive, fixed, interact_manual\n",
    "import ipywidgets as widgets\n",
    "\n",
    "# sympy setup\n",
    "import sympy as sp\n",
    "sp.init_printing()\n",
    "from sympy.vector import *\n",
    "\n",
    "# ploting customizations\n",
    "from matplotlib import pyplot as plt\n",
    "size=16\n",
    "params = {'legend.fontsize': 'large',\n",
    "#          'figure.figsize': (20,8),\n",
    "          'axes.labelsize': size,\n",
    "          'axes.titlesize': size,\n",
    "          'xtick.labelsize': size*0.875,\n",
    "          'ytick.labelsize': size*0.875,\n",
    "          'axes.titlepad': 25}\n",
    "plt.rcParams.update(params)\n",
    "%matplotlib inline\n",
    "\n",
    "# numerics\n",
    "import numpy as np\n",
    "\n",
    "# to save plots as files and download them\n",
    "#from google.colab import files"
   ]
  },
  {
   "cell_type": "markdown",
   "metadata": {
    "id": "SS_6z8v1QbhK"
   },
   "source": [
    "## Credit\n",
    "\n",
    "Initial solution written by [Ivan C. Christov](http://christov.tmnt-lab.org), Purdue University."
   ]
  },
  {
   "cell_type": "markdown",
   "metadata": {
    "id": "NOcCXq3ySZiz"
   },
   "source": [
    "# PROBLEM STATEMENT\n",
    "\n",
    "(b) Solve $\\frac{dy}{dx} = x y$ for $y(x)$ subject to $y(0)=y_0$.\n",
    "\n",
    "(d) Solve $\\frac{d^2 x}{dt^2} = -k\\left(\\frac{dx}{dt}\\right)^2$ for $x(t)$ subject to $x(0)=0$ and $\\frac{dx}{dt}(t=0)=v_0$.\n",
    "\n",
    "(e) Sketch, diagram or plot the solution from (d) for a few values of $k$ and $v_0$ of your choosing.\n",
    "\n",
    "(f) Consider the ODE $\\frac{df}{dt} + a(t) f = b(t)$. Find the solution $f(t)$, given $f(0) = f_0$ and arbitrary $a(t)$ and $b(t)$.\n",
    "\n",
    "(h) Find the general solution $f(t)$ of the ODE $f'' + c_2 f = c_3$ (no need to apply initial conditions -- I haven't given you any)."
   ]
  },
  {
   "cell_type": "markdown",
   "metadata": {
    "id": "ewTPZUAVSqKf"
   },
   "source": [
    "# SOLUTION\n"
   ]
  },
  {
   "cell_type": "markdown",
   "metadata": {
    "id": "TNjEnWNl-AZh"
   },
   "source": [
    "## (b)\n",
    "\n",
    "Let's use SymPy's [capabilities](https://docs.sympy.org/dev/guides/solving/solve-ode.html) to obtain an analytical solution, whcih we can use to check our work.\n",
    "\n",
    "To do so, we write the ODE as\n",
    "$$\\frac{d y}{d x} - xy = 0. $$"
   ]
  },
  {
   "cell_type": "code",
   "execution_count": 2,
   "metadata": {
    "colab": {
     "base_uri": "https://localhost:8080/",
     "height": 52
    },
    "executionInfo": {
     "elapsed": 392,
     "status": "ok",
     "timestamp": 1704567334837,
     "user": {
      "displayName": "Ivan Christov",
      "userId": "03286852141196977463"
     },
     "user_tz": 300
    },
    "id": "D8Agdllx-Awv",
    "outputId": "a0bb0f80-1d98-4a05-a955-41d9deba58da"
   },
   "outputs": [
    {
     "data": {
      "image/png": "[encoded data removed]",
      "text/latex": [
       "$\\displaystyle - x y{\\left(x \\right)} + \\frac{d}{d x} y{\\left(x \\right)} = 0$"
      ],
      "text/plain": [
       "          d           \n",
       "-x⋅y(x) + ──(y(x)) = 0\n",
       "          dx          "
      ]
     },
     "execution_count": 2,
     "metadata": {},
     "output_type": "execute_result"
    }
   ],
   "source": [
    "x = sp.symbols('x')\n",
    "y0 = sp.symbols('y0')\n",
    "y = sp.Function('y')(x)\n",
    "\n",
    "dydx = y.diff(x)\n",
    "\n",
    "# this is the ODE we will solve\n",
    "ODE = sp.Eq(dydx - x*y, 0)\n",
    "ODE # to print it, so we can check it"
   ]
  },
  {
   "cell_type": "code",
   "execution_count": 3,
   "metadata": {
    "colab": {
     "base_uri": "https://localhost:8080/",
     "height": 44
    },
    "executionInfo": {
     "elapsed": 1401,
     "status": "ok",
     "timestamp": 1704567336228,
     "user": {
      "displayName": "Ivan Christov",
      "userId": "03286852141196977463"
     },
     "user_tz": 300
    },
    "id": "HstDV9YK-Ten",
    "outputId": "d23c5c1c-c5b2-4d9d-889c-b1fc54fef5ee"
   },
   "outputs": [
    {
     "data": {
      "image/png": "[encoded data removed]",
      "text/latex": [
       "$\\displaystyle y{\\left(x \\right)} = y_{0} e^{\\frac{x^{2}}{2}}$"
      ],
      "text/plain": [
       "            2\n",
       "           x \n",
       "           ──\n",
       "           2 \n",
       "y(x) = y₀⋅ℯ  "
      ]
     },
     "execution_count": 3,
     "metadata": {},
     "output_type": "execute_result"
    }
   ],
   "source": [
    "solution = sp.dsolve(ODE, y, ics={y.subs(x, 0): y0})\n",
    "solution # to print the solution"
   ]
  },
  {
   "cell_type": "markdown",
   "metadata": {
    "id": "MWsROmk-Sx3R"
   },
   "source": [
    "## (d)\n",
    "\n",
    "Again, we write the ODE as\n",
    "$$\\frac{d^2 x}{dt^2} + k \\left(\\frac{dx}{dt}\\right)^2 = 0. $$"
   ]
  },
  {
   "cell_type": "code",
   "execution_count": 4,
   "metadata": {
    "colab": {
     "base_uri": "https://localhost:8080/",
     "height": 61
    },
    "executionInfo": {
     "elapsed": 21,
     "status": "ok",
     "timestamp": 1704567336228,
     "user": {
      "displayName": "Ivan Christov",
      "userId": "03286852141196977463"
     },
     "user_tz": 300
    },
    "id": "6zmHIj_ps7zZ",
    "outputId": "3485cdc0-6d3e-405d-c559-d22a1910f535"
   },
   "outputs": [
    {
     "data": {
      "image/png": "[encoded data removed]",
      "text/latex": [
       "$\\displaystyle k \\left(\\frac{d}{d t} x{\\left(t \\right)}\\right)^{2} + \\frac{d^{2}}{d t^{2}} x{\\left(t \\right)} = 0$"
      ],
      "text/plain": [
       "            2    2           \n",
       "  ⎛d       ⎞    d            \n",
       "k⋅⎜──(x(t))⎟  + ───(x(t)) = 0\n",
       "  ⎝dt      ⎠      2          \n",
       "                dt           "
      ]
     },
     "execution_count": 4,
     "metadata": {},
     "output_type": "execute_result"
    }
   ],
   "source": [
    "t = sp.symbols('t')\n",
    "k = sp.symbols('k')\n",
    "v0 = sp.symbols('v0')\n",
    "x = sp.Function('x')(t)\n",
    "\n",
    "dxdt = x.diff(t)\n",
    "d2xdt2 = dxdt.diff(t)\n",
    "\n",
    "# this is the ODE we will solve\n",
    "ODE = sp.Eq(d2xdt2 + k*(dxdt)**2, 0)\n",
    "ODE # to print it, so we can check it"
   ]
  },
  {
   "cell_type": "code",
   "execution_count": 5,
   "metadata": {
    "colab": {
     "base_uri": "https://localhost:8080/",
     "height": 66
    },
    "executionInfo": {
     "elapsed": 5782,
     "status": "ok",
     "timestamp": 1704567341992,
     "user": {
      "displayName": "Ivan Christov",
      "userId": "03286852141196977463"
     },
     "user_tz": 300
    },
    "id": "TYGbJuHZuVQC",
    "outputId": "51bc1c69-e543-4adf-d481-844e660b0667"
   },
   "outputs": [
    {
     "data": {
      "image/png": "[encoded data removed]",
      "text/latex": [
       "$\\displaystyle x{\\left(t \\right)} = - \\frac{\\log{\\left(\\frac{1}{v_{0}} \\right)}}{k} + \\frac{\\log{\\left(k t + \\frac{1}{v_{0}} \\right)}}{k}$"
      ],
      "text/plain": [
       "            ⎛1 ⎞      ⎛      1 ⎞\n",
       "         log⎜──⎟   log⎜k⋅t + ──⎟\n",
       "            ⎝v₀⎠      ⎝      v₀⎠\n",
       "x(t) = - ─────── + ─────────────\n",
       "            k            k      "
      ]
     },
     "execution_count": 5,
     "metadata": {},
     "output_type": "execute_result"
    }
   ],
   "source": [
    "solution = sp.dsolve(ODE, x, ics={x.subs(t, 0): 0, dxdt.subs(t, 0): v0})\n",
    "solution # to print the solution"
   ]
  },
  {
   "cell_type": "markdown",
   "metadata": {
    "id": "EUNrJGqkvFFS"
   },
   "source": [
    "And we can use the SymPy `simplify` command (also implemented as an object property function) to try to make it look nicer."
   ]
  },
  {
   "cell_type": "code",
   "execution_count": 6,
   "metadata": {
    "colab": {
     "base_uri": "https://localhost:8080/",
     "height": 66
    },
    "executionInfo": {
     "elapsed": 2875,
     "status": "ok",
     "timestamp": 1704567344837,
     "user": {
      "displayName": "Ivan Christov",
      "userId": "03286852141196977463"
     },
     "user_tz": 300
    },
    "id": "Mg2jL0nKuy7j",
    "outputId": "3a9b29a6-2b73-4cd5-c94f-30fc3f43067d"
   },
   "outputs": [
    {
     "data": {
      "image/png": "[encoded data removed]",
      "text/latex": [
       "$\\displaystyle x{\\left(t \\right)} = \\frac{- \\log{\\left(\\frac{1}{v_{0}} \\right)} + \\log{\\left(k t + \\frac{1}{v_{0}} \\right)}}{k}$"
      ],
      "text/plain": [
       "            ⎛1 ⎞      ⎛      1 ⎞\n",
       "       - log⎜──⎟ + log⎜k⋅t + ──⎟\n",
       "            ⎝v₀⎠      ⎝      v₀⎠\n",
       "x(t) = ─────────────────────────\n",
       "                   k            "
      ]
     },
     "execution_count": 6,
     "metadata": {},
     "output_type": "execute_result"
    }
   ],
   "source": [
    "solution.simplify()"
   ]
  },
  {
   "cell_type": "markdown",
   "metadata": {
    "id": "dcwbmDy3votn"
   },
   "source": [
    "It didn't help much since it is conservative on how it simplifies logarithms.\n",
    "\n",
    "We would've needed to tell it that $t>0$ (time is positive), the drag coefficient $k>0$ and the initial motion (and velocity) to the right, $v_0>0$. So, we can redo the solution as:"
   ]
  },
  {
   "cell_type": "code",
   "execution_count": 7,
   "metadata": {
    "colab": {
     "base_uri": "https://localhost:8080/",
     "height": 53
    },
    "executionInfo": {
     "elapsed": 7588,
     "status": "ok",
     "timestamp": 1704567352414,
     "user": {
      "displayName": "Ivan Christov",
      "userId": "03286852141196977463"
     },
     "user_tz": 300
    },
    "id": "F-juLzuy0HEF",
    "outputId": "6a07e93a-88fe-4ab4-a7b9-5e3996a94089"
   },
   "outputs": [
    {
     "data": {
      "image/png": "[encoded data removed]",
      "text/latex": [
       "$\\displaystyle x{\\left(t \\right)} = \\frac{\\log{\\left(k t v_{0} + 1 \\right)}}{k}$"
      ],
      "text/plain": [
       "       log(k⋅t⋅v₀ + 1)\n",
       "x(t) = ───────────────\n",
       "              k       "
      ]
     },
     "execution_count": 7,
     "metadata": {},
     "output_type": "execute_result"
    }
   ],
   "source": [
    "t  = sp.symbols('t', positive=True)\n",
    "k  = sp.symbols('k', positive=True)\n",
    "v0 = sp.symbols('v0', positive=True)\n",
    "x = sp.Function('x')(t)\n",
    "xprime = x.diff(t)\n",
    "xdoubleprime = xprime.diff(t)\n",
    "ODE = xdoubleprime + k*(xprime)**2\n",
    "solution = sp.dsolve(ODE, x, ics={x.subs(t, 0): 0, xprime.subs(t, 0): v0})\n",
    "solution.simplify()"
   ]
  },
  {
   "cell_type": "markdown",
   "metadata": {
    "id": "0_E_7aWa1y1D"
   },
   "source": [
    "That's better!"
   ]
  },
  {
   "cell_type": "markdown",
   "metadata": {
    "id": "8ek7xtph1n8v"
   },
   "source": [
    "## (e)"
   ]
  },
  {
   "cell_type": "markdown",
   "metadata": {
    "id": "YHBXFR5u0JXL"
   },
   "source": [
    "To plot the solution, we need to convert the SymPy symbolic expression for $x(t)$ into a form that SciPy can evaluate numerically. We use [lambdify](https://docs.sympy.org/latest/modules/utilities/lambdify.html) and build in the paramters $k$ and $v_0$ as inputs of the evaluated function, in addtion to $t$.\n",
    "\n",
    "Keep in mind that 'solution' is an equation (as seen above), so we use the 'rhs' attribute to grab the right-hand side."
   ]
  },
  {
   "cell_type": "code",
   "execution_count": 8,
   "metadata": {
    "executionInfo": {
     "elapsed": 411,
     "status": "ok",
     "timestamp": 1704567352812,
     "user": {
      "displayName": "Ivan Christov",
      "userId": "03286852141196977463"
     },
     "user_tz": 300
    },
    "id": "mFie_CLWwzfR"
   },
   "outputs": [],
   "source": [
    "xoft = sp.lambdify((t, k, v0), solution.rhs)"
   ]
  },
  {
   "cell_type": "code",
   "execution_count": 9,
   "metadata": {
    "colab": {
     "base_uri": "https://localhost:8080/",
     "height": 37
    },
    "executionInfo": {
     "elapsed": 109,
     "status": "ok",
     "timestamp": 1704567352887,
     "user": {
      "displayName": "Ivan Christov",
      "userId": "03286852141196977463"
     },
     "user_tz": 300
    },
    "id": "aPhOflYhxHPX",
    "outputId": "7aca197d-8d99-4909-a069-4e0160fe685e"
   },
   "outputs": [
    {
     "data": {
      "image/png": "[encoded data removed]",
      "text/latex": [
       "$\\displaystyle 1.22217632724249$"
      ],
      "text/plain": [
       "np.float64(1.222176327242491)"
      ]
     },
     "execution_count": 9,
     "metadata": {},
     "output_type": "execute_result"
    }
   ],
   "source": [
    "# check a value to make sure it works,\n",
    "# so, evaluate x(t) for t=0, k=0.1, and v0=1.3\n",
    "xoft(t=1,k=0.1,v0=1.3)"
   ]
  },
  {
   "cell_type": "markdown",
   "metadata": {
    "id": "NuOv3tXi3KFr"
   },
   "source": [
    "Make an [interactive](https://ipywidgets.readthedocs.io/en/latest/examples/Using%20Interact.html) plot to see the effect of $k$ and $v_0$ on the solution $x(t)$."
   ]
  },
  {
   "cell_type": "code",
   "execution_count": 10,
   "metadata": {
    "colab": {
     "base_uri": "https://localhost:8080/",
     "height": 524,
     "referenced_widgets": [
      "00151e4edea94dd6845533db03bb92c4",
      "248b1b79e3f348718cc2614937220c16",
      "121e237ee63e4d5396faf5921da1a1bc",
      "6ea470d2d2aa4a3583f83c5a0b2c8541",
      "0c7d3d1762c54f8cb7b2770a92996916",
      "e68d6e699f644069b716ea826c4f9b36",
      "1a77e8bb8fe44b7586ad4315ebda2144",
      "f521d98d03734b7d8f137224942b01fc",
      "bfd0bafe8e304e84ac8e35a28849c3c5",
      "17b4afd376e94bd4a0f9a3249a6fb594"
     ]
    },
    "executionInfo": {
     "elapsed": 1870,
     "status": "ok",
     "timestamp": 1704567354653,
     "user": {
      "displayName": "Ivan Christov",
      "userId": "03286852141196977463"
     },
     "user_tz": 300
    },
    "id": "7gNxgVk6Otkb",
    "outputId": "224360bc-3188-4ff9-b9d2-2e87d8f9de54"
   },
   "outputs": [
    {
     "data": {
      "application/vnd.jupyter.widget-view+json": {
       "model_id": "dfc45188cf0a4969b5e26996556abfe5",
       "version_major": 2,
       "version_minor": 0
      },
      "text/plain": [
       "interactive(children=(FloatSlider(value=0.01, description='k', max=5.0, min=0.01), FloatSlider(value=1.0, desc…"
      ]
     },
     "metadata": {},
     "output_type": "display_data"
    }
   ],
   "source": [
    "def plot_func(k,v0):\n",
    "  tplot = np.linspace(0,10,num=100)\n",
    "  xplot = xoft(tplot,k,v0)\n",
    "\n",
    "  ax = plt.gca()\n",
    "  ax.set_ylabel('$x(t)$')\n",
    "  ax.set_xlabel('$t$')\n",
    "\n",
    "  ax.plot(tplot, xplot)\n",
    "\n",
    "  plt.show()\n",
    "\n",
    "interact(plot_func, k = widgets.FloatSlider(min=0.01, max=5, step=0.1),\n",
    "                    v0 = widgets.FloatSlider(min=1, max=10, step=0.5) );"
   ]
  },
  {
   "cell_type": "markdown",
   "metadata": {
    "id": "xsP1yqU83PsU"
   },
   "source": [
    "Make a combination plot for several $k$ and $v_0$ of my choosing, using some fun [colors from Matplotlib](https://matplotlib.org/stable/gallery/color/named_colors.html) to group the curves by $k$ value visually."
   ]
  },
  {
   "cell_type": "code",
   "execution_count": 11,
   "metadata": {
    "colab": {
     "base_uri": "https://localhost:8080/",
     "height": 460
    },
    "executionInfo": {
     "elapsed": 2887,
     "status": "ok",
     "timestamp": 1704567357533,
     "user": {
      "displayName": "Ivan Christov",
      "userId": "03286852141196977463"
     },
     "user_tz": 300
    },
    "id": "DwtGtlyf2FCb",
    "outputId": "f9ad4b62-bffc-462a-a03e-2c4a80504ac1"
   },
   "outputs": [
    {
     "data": {
      "image/png": "[encoded data removed]",
      "text/plain": [
       "<Figure size 640x480 with 1 Axes>"
      ]
     },
     "metadata": {},
     "output_type": "display_data"
    }
   ],
   "source": [
    "tplot = np.linspace(0,20,num=100)\n",
    "\n",
    "ax = plt.gca()\n",
    "ax.set_ylabel('$x(t)$')\n",
    "ax.set_xlabel('$t$')\n",
    "\n",
    "ax.plot(tplot, xoft(tplot,1,2), label=r'$k=0.1$, $v_0=2$', color='cyan')\n",
    "ax.plot(tplot, xoft(tplot,1,0.1), label=r'$k=0.1$, $v_0=0.1$', color='dodgerblue')\n",
    "\n",
    "ax.plot(tplot, xoft(tplot,0.5,2), label=r'$k=0.5$, $v_0=2$', color='orange')\n",
    "ax.plot(tplot, xoft(tplot,0.5,0.1), label=r'$k=0.5$, $v_0=0.1$', color='darkgoldenrod')\n",
    "\n",
    "ax.legend()\n",
    "\n",
    "plt.savefig(\"Prob6e_plot.pdf\")\n",
    "# to and download the file on colab\n",
    "#files.download(\"Prob6e_plot.pdf\")"
   ]
  },
  {
   "cell_type": "markdown",
   "metadata": {
    "id": "mqAb4YUX4PnH"
   },
   "source": [
    "Large $k$ means larger drag, and the rocket doesn't go as far, $x(t)$ remains small.\n",
    "\n",
    "A larger initial velocity $v_0$ sends it farther, but eventually the drag slows it down.\n",
    "\n",
    "To see how it slows down, we could plot the velocity, $v(t) = dx/dt$ too. We observe it always decays to 0, but how fast it decays depends on $k$ and $v_0$."
   ]
  },
  {
   "cell_type": "code",
   "execution_count": 12,
   "metadata": {
    "executionInfo": {
     "elapsed": 13,
     "status": "ok",
     "timestamp": 1704567357534,
     "user": {
      "displayName": "Ivan Christov",
      "userId": "03286852141196977463"
     },
     "user_tz": 300
    },
    "id": "jWlvvOXo3np8"
   },
   "outputs": [],
   "source": [
    "voft = sp.lambdify((t, k, v0), solution.rhs.diff(t))"
   ]
  },
  {
   "cell_type": "code",
   "execution_count": 13,
   "metadata": {
    "colab": {
     "base_uri": "https://localhost:8080/",
     "height": 460
    },
    "executionInfo": {
     "elapsed": 1306,
     "status": "ok",
     "timestamp": 1704567358828,
     "user": {
      "displayName": "Ivan Christov",
      "userId": "03286852141196977463"
     },
     "user_tz": 300
    },
    "id": "7W081bk84qdg",
    "outputId": "ba877788-bc84-44ef-c61d-35fae3afc178"
   },
   "outputs": [
    {
     "data": {
      "image/png": "[encoded data removed]",
      "text/plain": [
       "<Figure size 640x480 with 1 Axes>"
      ]
     },
     "metadata": {},
     "output_type": "display_data"
    }
   ],
   "source": [
    "tplot = np.linspace(0,20,num=100)\n",
    "\n",
    "ax = plt.gca()\n",
    "ax.set_ylabel('$v(t) = dx/dt$')\n",
    "ax.set_xlabel('$t$')\n",
    "\n",
    "ax.plot(tplot, voft(tplot,1,2), label=r'$k=0.1$, $v_0=2$', color='cyan')\n",
    "ax.plot(tplot, voft(tplot,1,0.1), label=r'$k=0.1$, $v_0=0.1$', color='dodgerblue')\n",
    "\n",
    "ax.plot(tplot, voft(tplot,0.5,2), label=r'$k=0.5$, $v_0=2$', color='orange')\n",
    "ax.plot(tplot, voft(tplot,0.5,0.1), label=r'$k=0.5$, $v_0=0.1$', color='darkgoldenrod')\n",
    "\n",
    "ax.legend()\n",
    "\n",
    "plt.show()"
   ]
  },
  {
   "cell_type": "markdown",
   "metadata": {},
   "source": [
    "## (f)\n",
    "\n",
    "We wish to solve $\\frac{df}{dt} + a(t) f = b(t)$ given $f(0) = f_0$ and arbitrary $a(t)$ and $b(t)$."
   ]
  },
  {
   "cell_type": "code",
   "execution_count": 14,
   "metadata": {},
   "outputs": [
    {
     "data": {
      "image/png": "[encoded data removed]",
      "text/latex": [
       "$\\displaystyle a{\\left(t \\right)} f{\\left(t \\right)} + \\frac{d}{d t} f{\\left(t \\right)} = b{\\left(t \\right)}$"
      ],
      "text/plain": [
       "            d              \n",
       "a(t)⋅f(t) + ──(f(t)) = b(t)\n",
       "            dt             "
      ]
     },
     "execution_count": 14,
     "metadata": {},
     "output_type": "execute_result"
    }
   ],
   "source": [
    "t  = sp.symbols('t', positive=True)\n",
    "f0  = sp.symbols('f0', positive=True)\n",
    "f = sp.Function('f')(t)\n",
    "a = sp.Function('a')(t)\n",
    "b = sp.Function('b')(t)\n",
    "\n",
    "dfdt = f.diff(t)\n",
    "\n",
    "# this is the the ODE we will solve\n",
    "ODE = sp.Eq(dfdt + a*f , b)\n",
    "ODE # to print it, so we can check it\n"
   ]
  },
  {
   "cell_type": "markdown",
   "metadata": {},
   "source": [
    "Sometimes it helps to give SympPy [hints](https://docs.sympy.org/latest/modules/solvers/ode.html#sympy.solvers.ode.single.FirstLinear) for solving ODEs."
   ]
  },
  {
   "cell_type": "code",
   "execution_count": 15,
   "metadata": {},
   "outputs": [
    {
     "data": {
      "image/png": "[encoded data removed]",
      "text/latex": [
       "$\\displaystyle f{\\left(t \\right)} = \\left(f_{0} e^{\\int\\limits^{0} a{\\left(t \\right)}\\, dt} + \\int b{\\left(t \\right)} e^{\\int a{\\left(t \\right)}\\, dt}\\, dt - \\int\\limits^{0} b{\\left(t \\right)} e^{\\int a{\\left(t \\right)}\\, dt}\\, dt\\right) e^{- \\int a{\\left(t \\right)}\\, dt}$"
      ],
      "text/plain": [
       "       ⎛    0                                  0                   ⎞            \n",
       "       ⎜    ⌠           ⌠                      ⌠                   ⎟            \n",
       "       ⎜    ⎮ a(t) dt   ⎮       ⌠              ⎮       ⌠           ⎟   ⌠        \n",
       "       ⎜    ⌡           ⎮       ⎮ a(t) dt      ⎮       ⎮ a(t) dt   ⎟  -⎮ a(t) dt\n",
       "       ⎜                ⎮       ⌡              ⎮       ⌡           ⎟   ⌡        \n",
       "f(t) = ⎜f₀⋅ℯ          + ⎮ b(t)⋅ℯ          dt - ⎮ b(t)⋅ℯ          dt⎟⋅ℯ          \n",
       "       ⎜                ⌡                      ⌡                   ⎟            \n",
       "       ⎝                                                           ⎠            "
      ]
     },
     "execution_count": 15,
     "metadata": {},
     "output_type": "execute_result"
    }
   ],
   "source": [
    "solution = sp.dsolve(ODE, f, ics={f.subs(t,0): f0}, hint='1st_linear_Integral')\n",
    "solution.simplify() # to print the solution"
   ]
  },
  {
   "cell_type": "markdown",
   "metadata": {},
   "source": [
    "The solution looks a little weird because $\\int$ is the indefinite integral and $\\int\\limits_{}^{0}$ is the indefinite integral evaluated at $t=0$."
   ]
  },
  {
   "cell_type": "markdown",
   "metadata": {
    "id": "jCdLE-Ny_EBP"
   },
   "source": [
    "## (h)\n",
    "\n",
    "Again, we write the ODE as\n",
    "$$f'' + c_2 f - c_3 = 0. $$"
   ]
  },
  {
   "cell_type": "code",
   "execution_count": 16,
   "metadata": {
    "colab": {
     "base_uri": "https://localhost:8080/",
     "height": 54
    },
    "executionInfo": {
     "elapsed": 47,
     "status": "ok",
     "timestamp": 1704567358829,
     "user": {
      "displayName": "Ivan Christov",
      "userId": "03286852141196977463"
     },
     "user_tz": 300
    },
    "id": "5qmKJwQI_EBQ",
    "outputId": "938b4cb6-53b4-4394-d393-3604a694b7c6"
   },
   "outputs": [
    {
     "data": {
      "image/png": "[encoded data removed]",
      "text/latex": [
       "$\\displaystyle c_{2} f{\\left(t \\right)} - c_{3} + \\frac{d^{2}}{d t^{2}} f{\\left(t \\right)} = 0$"
      ],
      "text/plain": [
       "                2           \n",
       "               d            \n",
       "c₂⋅f(t) - c₃ + ───(f(t)) = 0\n",
       "                 2          \n",
       "               dt           "
      ]
     },
     "execution_count": 16,
     "metadata": {},
     "output_type": "execute_result"
    }
   ],
   "source": [
    "t  = sp.symbols('t', positive=True)\n",
    "c2 = sp.symbols('c2')\n",
    "c3 = sp.symbols('c3')\n",
    "f  = sp.Function('f')(t)\n",
    "\n",
    "fprime = f.diff(t)\n",
    "fprimeprime = fprime.diff(t)\n",
    "\n",
    "# this is the ODE we will solve\n",
    "ODE = sp.Eq(fprimeprime + c2*f - c3, 0)\n",
    "ODE # to print it, so we can check it"
   ]
  },
  {
   "cell_type": "code",
   "execution_count": 17,
   "metadata": {
    "colab": {
     "base_uri": "https://localhost:8080/",
     "height": 50
    },
    "executionInfo": {
     "elapsed": 707,
     "status": "ok",
     "timestamp": 1704567359492,
     "user": {
      "displayName": "Ivan Christov",
      "userId": "03286852141196977463"
     },
     "user_tz": 300
    },
    "id": "V38FdHkU_EBQ",
    "outputId": "2ce200e6-d6a2-432f-858e-c3051ea88420"
   },
   "outputs": [
    {
     "data": {
      "image/png": "[encoded data removed]",
      "text/latex": [
       "$\\displaystyle f{\\left(t \\right)} = C_{1} e^{- t \\sqrt{- c_{2}}} + C_{2} e^{t \\sqrt{- c_{2}}} + \\frac{c_{3}}{c_{2}}$"
      ],
      "text/plain": [
       "                _____           _____     \n",
       "           -t⋅╲╱ -c₂        t⋅╲╱ -c₂    c₃\n",
       "f(t) = C₁⋅ℯ           + C₂⋅ℯ          + ──\n",
       "                                        c₂"
      ]
     },
     "execution_count": 17,
     "metadata": {},
     "output_type": "execute_result"
    }
   ],
   "source": [
    "solution = sp.dsolve(ODE, f)\n",
    "solution # to print the solution"
   ]
  },
  {
   "cell_type": "markdown",
   "metadata": {
    "id": "UkqFOyuXh22F"
   },
   "source": [
    "On your own, go back and specify that `positive=True` for `c2`.\n",
    "\n",
    "Does the simplified answer look different?"
   ]
  },
  {
   "cell_type": "code",
   "execution_count": 15,
   "metadata": {
    "executionInfo": {
     "elapsed": 476,
     "status": "ok",
     "timestamp": 1704567359961,
     "user": {
      "displayName": "Ivan Christov",
      "userId": "03286852141196977463"
     },
     "user_tz": 300
    },
    "id": "3tXA8uu3AILV"
   },
   "outputs": [],
   "source": []
  }
 ],
 "metadata": {
  "colab": {
   "provenance": [
    {
     "file_id": "11HRnyNU5R1E4R01vrD5Q-ZZZypwDcWfm",
     "timestamp": 1693352711128
    },
    {
     "file_id": "1y-WZALnbR83ZaFN7vaj70lGx2d3BpkDo",
     "timestamp": 1601406811768
    }
   ]
  },
  "kernelspec": {
   "display_name": "Python 3",
   "name": "python3"
  },
  "language_info": {
   "codemirror_mode": {
    "name": "ipython",
    "version": 3
   },
   "file_extension": ".py",
   "mimetype": "text/x-python",
   "name": "python",
   "nbconvert_exporter": "python",
   "pygments_lexer": "ipython3",
   "version": "3.9.6"
  },
  "widgets": {
   "application/vnd.jupyter.widget-state+json": {
    "00151e4edea94dd6845533db03bb92c4": {
     "model_module": "@jupyter-widgets/controls",
     "model_module_version": "1.5.0",
     "model_name": "VBoxModel",
     "state": {
      "_dom_classes": [
       "widget-interact"
      ],
      "_model_module": "@jupyter-widgets/controls",
      "_model_module_version": "1.5.0",
      "_model_name": "VBoxModel",
      "_view_count": null,
      "_view_module": "@jupyter-widgets/controls",
      "_view_module_version": "1.5.0",
      "_view_name": "VBoxView",
      "box_style": "",
      "children": [
       "IPY_MODEL_248b1b79e3f348718cc2614937220c16",
       "IPY_MODEL_121e237ee63e4d5396faf5921da1a1bc",
       "IPY_MODEL_6ea470d2d2aa4a3583f83c5a0b2c8541"
      ],
      "layout": "IPY_MODEL_0c7d3d1762c54f8cb7b2770a92996916"
     }
    },
    "0c7d3d1762c54f8cb7b2770a92996916": {
     "model_module": "@jupyter-widgets/base",
     "model_module_version": "1.2.0",
     "model_name": "LayoutModel",
     "state": {
      "_model_module": "@jupyter-widgets/base",
      "_model_module_version": "1.2.0",
      "_model_name": "LayoutModel",
      "_view_count": null,
      "_view_module": "@jupyter-widgets/base",
      "_view_module_version": "1.2.0",
      "_view_name": "LayoutView",
      "align_content": null,
      "align_items": null,
      "align_self": null,
      "border": null,
      "bottom": null,
      "display": null,
      "flex": null,
      "flex_flow": null,
      "grid_area": null,
      "grid_auto_columns": null,
      "grid_auto_flow": null,
      "grid_auto_rows": null,
      "grid_column": null,
      "grid_gap": null,
      "grid_row": null,
      "grid_template_areas": null,
      "grid_template_columns": null,
      "grid_template_rows": null,
      "height": null,
      "justify_content": null,
      "justify_items": null,
      "left": null,
      "margin": null,
      "max_height": null,
      "max_width": null,
      "min_height": null,
      "min_width": null,
      "object_fit": null,
      "object_position": null,
      "order": null,
      "overflow": null,
      "overflow_x": null,
      "overflow_y": null,
      "padding": null,
      "right": null,
      "top": null,
      "visibility": null,
      "width": null
     }
    },
    "121e237ee63e4d5396faf5921da1a1bc": {
     "model_module": "@jupyter-widgets/controls",
     "model_module_version": "1.5.0",
     "model_name": "FloatSliderModel",
     "state": {
      "_dom_classes": [],
      "_model_module": "@jupyter-widgets/controls",
      "_model_module_version": "1.5.0",
      "_model_name": "FloatSliderModel",
      "_view_count": null,
      "_view_module": "@jupyter-widgets/controls",
      "_view_module_version": "1.5.0",
      "_view_name": "FloatSliderView",
      "continuous_update": true,
      "description": "v0",
      "description_tooltip": null,
      "disabled": false,
      "layout": "IPY_MODEL_f521d98d03734b7d8f137224942b01fc",
      "max": 10,
      "min": 1,
      "orientation": "horizontal",
      "readout": true,
      "readout_format": ".2f",
      "step": 0.5,
      "style": "IPY_MODEL_bfd0bafe8e304e84ac8e35a28849c3c5",
      "value": 4.5
     }
    },
    "17b4afd376e94bd4a0f9a3249a6fb594": {
     "model_module": "@jupyter-widgets/base",
     "model_module_version": "1.2.0",
     "model_name": "LayoutModel",
     "state": {
      "_model_module": "@jupyter-widgets/base",
      "_model_module_version": "1.2.0",
      "_model_name": "LayoutModel",
      "_view_count": null,
      "_view_module": "@jupyter-widgets/base",
      "_view_module_version": "1.2.0",
      "_view_name": "LayoutView",
      "align_content": null,
      "align_items": null,
      "align_self": null,
      "border": null,
      "bottom": null,
      "display": null,
      "flex": null,
      "flex_flow": null,
      "grid_area": null,
      "grid_auto_columns": null,
      "grid_auto_flow": null,
      "grid_auto_rows": null,
      "grid_column": null,
      "grid_gap": null,
      "grid_row": null,
      "grid_template_areas": null,
      "grid_template_columns": null,
      "grid_template_rows": null,
      "height": null,
      "justify_content": null,
      "justify_items": null,
      "left": null,
      "margin": null,
      "max_height": null,
      "max_width": null,
      "min_height": null,
      "min_width": null,
      "object_fit": null,
      "object_position": null,
      "order": null,
      "overflow": null,
      "overflow_x": null,
      "overflow_y": null,
      "padding": null,
      "right": null,
      "top": null,
      "visibility": null,
      "width": null
     }
    },
    "1a77e8bb8fe44b7586ad4315ebda2144": {
     "model_module": "@jupyter-widgets/controls",
     "model_module_version": "1.5.0",
     "model_name": "SliderStyleModel",
     "state": {
      "_model_module": "@jupyter-widgets/controls",
      "_model_module_version": "1.5.0",
      "_model_name": "SliderStyleModel",
      "_view_count": null,
      "_view_module": "@jupyter-widgets/base",
      "_view_module_version": "1.2.0",
      "_view_name": "StyleView",
      "description_width": "",
      "handle_color": null
     }
    },
    "248b1b79e3f348718cc2614937220c16": {
     "model_module": "@jupyter-widgets/controls",
     "model_module_version": "1.5.0",
     "model_name": "FloatSliderModel",
     "state": {
      "_dom_classes": [],
      "_model_module": "@jupyter-widgets/controls",
      "_model_module_version": "1.5.0",
      "_model_name": "FloatSliderModel",
      "_view_count": null,
      "_view_module": "@jupyter-widgets/controls",
      "_view_module_version": "1.5.0",
      "_view_name": "FloatSliderView",
      "continuous_update": true,
      "description": "k",
      "description_tooltip": null,
      "disabled": false,
      "layout": "IPY_MODEL_e68d6e699f644069b716ea826c4f9b36",
      "max": 5,
      "min": 0.01,
      "orientation": "horizontal",
      "readout": true,
      "readout_format": ".2f",
      "step": 0.1,
      "style": "IPY_MODEL_1a77e8bb8fe44b7586ad4315ebda2144",
      "value": 0.01
     }
    },
    "6ea470d2d2aa4a3583f83c5a0b2c8541": {
     "model_module": "@jupyter-widgets/output",
     "model_module_version": "1.0.0",
     "model_name": "OutputModel",
     "state": {
      "_dom_classes": [],
      "_model_module": "@jupyter-widgets/output",
      "_model_module_version": "1.0.0",
      "_model_name": "OutputModel",
      "_view_count": null,
      "_view_module": "@jupyter-widgets/output",
      "_view_module_version": "1.0.0",
      "_view_name": "OutputView",
      "layout": "IPY_MODEL_17b4afd376e94bd4a0f9a3249a6fb594",
      "msg_id": "",
      "outputs": [
       {
        "data": {
         "image/png": "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\n",
         "text/plain": "<Figure size 640x480 with 1 Axes>"
        },
        "metadata": {},
        "output_type": "display_data"
       }
      ]
     }
    },
    "bfd0bafe8e304e84ac8e35a28849c3c5": {
     "model_module": "@jupyter-widgets/controls",
     "model_module_version": "1.5.0",
     "model_name": "SliderStyleModel",
     "state": {
      "_model_module": "@jupyter-widgets/controls",
      "_model_module_version": "1.5.0",
      "_model_name": "SliderStyleModel",
      "_view_count": null,
      "_view_module": "@jupyter-widgets/base",
      "_view_module_version": "1.2.0",
      "_view_name": "StyleView",
      "description_width": "",
      "handle_color": null
     }
    },
    "e68d6e699f644069b716ea826c4f9b36": {
     "model_module": "@jupyter-widgets/base",
     "model_module_version": "1.2.0",
     "model_name": "LayoutModel",
     "state": {
      "_model_module": "@jupyter-widgets/base",
      "_model_module_version": "1.2.0",
      "_model_name": "LayoutModel",
      "_view_count": null,
      "_view_module": "@jupyter-widgets/base",
      "_view_module_version": "1.2.0",
      "_view_name": "LayoutView",
      "align_content": null,
      "align_items": null,
      "align_self": null,
      "border": null,
      "bottom": null,
      "display": null,
      "flex": null,
      "flex_flow": null,
      "grid_area": null,
      "grid_auto_columns": null,
      "grid_auto_flow": null,
      "grid_auto_rows": null,
      "grid_column": null,
      "grid_gap": null,
      "grid_row": null,
      "grid_template_areas": null,
      "grid_template_columns": null,
      "grid_template_rows": null,
      "height": null,
      "justify_content": null,
      "justify_items": null,
      "left": null,
      "margin": null,
      "max_height": null,
      "max_width": null,
      "min_height": null,
      "min_width": null,
      "object_fit": null,
      "object_position": null,
      "order": null,
      "overflow": null,
      "overflow_x": null,
      "overflow_y": null,
      "padding": null,
      "right": null,
      "top": null,
      "visibility": null,
      "width": null
     }
    },
    "f521d98d03734b7d8f137224942b01fc": {
     "model_module": "@jupyter-widgets/base",
     "model_module_version": "1.2.0",
     "model_name": "LayoutModel",
     "state": {
      "_model_module": "@jupyter-widgets/base",
      "_model_module_version": "1.2.0",
      "_model_name": "LayoutModel",
      "_view_count": null,
      "_view_module": "@jupyter-widgets/base",
      "_view_module_version": "1.2.0",
      "_view_name": "LayoutView",
      "align_content": null,
      "align_items": null,
      "align_self": null,
      "border": null,
      "bottom": null,
      "display": null,
      "flex": null,
      "flex_flow": null,
      "grid_area": null,
      "grid_auto_columns": null,
      "grid_auto_flow": null,
      "grid_auto_rows": null,
      "grid_column": null,
      "grid_gap": null,
      "grid_row": null,
      "grid_template_areas": null,
      "grid_template_columns": null,
      "grid_template_rows": null,
      "height": null,
      "justify_content": null,
      "justify_items": null,
      "left": null,
      "margin": null,
      "max_height": null,
      "max_width": null,
      "min_height": null,
      "min_width": null,
      "object_fit": null,
      "object_position": null,
      "order": null,
      "overflow": null,
      "overflow_x": null,
      "overflow_y": null,
      "padding": null,
      "right": null,
      "top": null,
      "visibility": null,
      "width": null
     }
    }
   }
  }
 },
 "nbformat": 4,
 "nbformat_minor": 0
}
