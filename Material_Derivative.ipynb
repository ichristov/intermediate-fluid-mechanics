{
 "cells": [
  {
   "cell_type": "markdown",
   "metadata": {
    "id": "21hNoidL2vnD"
   },
   "source": [
    "# PRELIMINARIES"
   ]
  },
  {
   "cell_type": "code",
   "execution_count": 1,
   "metadata": {
    "executionInfo": {
     "elapsed": 485,
     "status": "ok",
     "timestamp": 1704568949977,
     "user": {
      "displayName": "Ivan Christov",
      "userId": "03286852141196977463"
     },
     "user_tz": 300
    },
    "id": "MBp48ZTn2om4"
   },
   "outputs": [],
   "source": [
    "# interactive plots setup\n",
    "from ipywidgets import interact, interactive, fixed, interact_manual\n",
    "import ipywidgets as widgets\n",
    "\n",
    "# sympy setup\n",
    "import sympy as sp\n",
    "sp.init_printing()\n",
    "from sympy.vector import *\n",
    "\n",
    "# ploting customizations\n",
    "from matplotlib import pyplot as plt\n",
    "size=16\n",
    "params = {'legend.fontsize': 'large',\n",
    "#          'figure.figsize': (20,8),\n",
    "          'axes.labelsize': size,\n",
    "          'axes.titlesize': size,\n",
    "          'xtick.labelsize': size*0.875,\n",
    "          'ytick.labelsize': size*0.875,\n",
    "          'axes.titlepad': 25}\n",
    "plt.rcParams.update(params)\n",
    "%matplotlib inline\n",
    "\n",
    "# numerics\n",
    "import numpy as np\n",
    "\n",
    "# to save plots as files and download them\n",
    "# from google.colab import files"
   ]
  },
  {
   "cell_type": "markdown",
   "metadata": {
    "id": "SS_6z8v1QbhK"
   },
   "source": [
    "## Credit\n",
    "\n",
    "Initial solution written by [Ivan C. Christov](http://christov.tmnt-lab.org), Purdue University."
   ]
  },
  {
   "cell_type": "markdown",
   "metadata": {
    "id": "NOcCXq3ySZiz"
   },
   "source": [
    "# PROBLEM STATEMENT\n",
    "\n",
    "Consider a one-dimensional channel flow with Cartesian velocity, $\\underline{v} = v_i \\underline{e}_i$, whose components are\n",
    "\\begin{align*}\n",
    "  v_1 &= c \\cdot (1-x_2^2),\\\\\n",
    "  v_2 &= 0,\\\\\n",
    "  v_3 &= 0,\n",
    "\\end{align*}\n",
    "where $c>0$ is a suitable dimensional constant."
   ]
  },
  {
   "cell_type": "markdown",
   "metadata": {
    "id": "ewTPZUAVSqKf"
   },
   "source": [
    "# SOLUTION\n"
   ]
  },
  {
   "cell_type": "markdown",
   "metadata": {
    "id": "TNjEnWNl-AZh"
   },
   "source": [
    "Setup a coordinate system using SymPy's [capabilities](https://docs.sympy.org/latest/modules/vector/fields.html) for our analyical calculations."
   ]
  },
  {
   "cell_type": "code",
   "execution_count": 2,
   "metadata": {
    "executionInfo": {
     "elapsed": 71,
     "status": "ok",
     "timestamp": 1704568949978,
     "user": {
      "displayName": "Ivan Christov",
      "userId": "03286852141196977463"
     },
     "user_tz": 300
    },
    "id": "D8Agdllx-Awv"
   },
   "outputs": [],
   "source": [
    "from sympy.vector import CoordSys3D, Del\n",
    "C = CoordSys3D('C') # C.x, C.y, C.z are the coordinates and C.i, C.j, C.k are the unit vectors\n",
    "# define the nabla operator\n",
    "nabla = Del()"
   ]
  },
  {
   "cell_type": "markdown",
   "metadata": {},
   "source": [
    "Define a velocity vector in terms of the unit vectors of our coordinate system from SymPy.\n"
   ]
  },
  {
   "cell_type": "code",
   "execution_count": 3,
   "metadata": {
    "colab": {
     "base_uri": "https://localhost:8080/",
     "height": 40
    },
    "executionInfo": {
     "elapsed": 90,
     "status": "ok",
     "timestamp": 1704568950002,
     "user": {
      "displayName": "Ivan Christov",
      "userId": "03286852141196977463"
     },
     "user_tz": 300
    },
    "id": "kIDW6Ghaz6-m",
    "outputId": "7dec5059-54b9-4b20-eba3-357ba89c4adc"
   },
   "outputs": [
    {
     "data": {
      "image/png": "[encoded data removed]",
      "text/latex": [
       "$\\displaystyle \\left(c \\left(1 - \\mathbf{{y}_{C}}^{2}\\right)\\right)\\mathbf{\\hat{i}_{C}}$"
      ],
      "text/plain": [
       "⎛  ⎛       2⎞⎞     \n",
       "⎝c⋅⎝1 - y_C ⎠⎠ i_C "
      ]
     },
     "execution_count": 3,
     "metadata": {},
     "output_type": "execute_result"
    }
   ],
   "source": [
    "c = sp.Symbol('c', positive='True')\n",
    "v = c*(1-(C.y)**2) * C.i + 0 * C.j + 0 * C.k\n",
    "v"
   ]
  },
  {
   "cell_type": "markdown",
   "metadata": {
    "id": "Gah2igBIJ2MJ"
   },
   "source": [
    "## The vorticity, $\\nabla\\times\\underline{v}$"
   ]
  },
  {
   "cell_type": "code",
   "execution_count": 4,
   "metadata": {
    "colab": {
     "base_uri": "https://localhost:8080/",
     "height": 40
    },
    "executionInfo": {
     "elapsed": 82,
     "status": "ok",
     "timestamp": 1704568950003,
     "user": {
      "displayName": "Ivan Christov",
      "userId": "03286852141196977463"
     },
     "user_tz": 300
    },
    "id": "jB_F5x8Jnr7G",
    "outputId": "3d41a1c4-5fa0-4a59-bc18-830b3d62b889"
   },
   "outputs": [
    {
     "data": {
      "image/png": "[encoded data removed]",
      "text/latex": [
       "$\\displaystyle \\left(2 \\mathbf{{y}_{C}} c\\right)\\mathbf{\\hat{k}_{C}}$"
      ],
      "text/plain": [
       "(2⋅y_C⋅c) k_C"
      ]
     },
     "execution_count": 4,
     "metadata": {},
     "output_type": "execute_result"
    }
   ],
   "source": [
    "# general expression\n",
    "vorticity = nabla ^ v # in SymPy ^ is one way to denote a cross product\n",
    "                      # (also used in some books), instead of \\times\n",
    "\n",
    "# evaluated expression\n",
    "vorticity.doit()"
   ]
  },
  {
   "cell_type": "markdown",
   "metadata": {
    "id": "DKNGf5tGJ6Rx"
   },
   "source": [
    "## Kinematic quantities and how they are related, $\\nabla\\underline{v}$"
   ]
  },
  {
   "cell_type": "markdown",
   "metadata": {
    "id": "wxdmxkOh9ulZ"
   },
   "source": [
    "SymPy doesn't have built-in functionality for gradient of a vector (yet). But you can take a [derivative of a vector with respect to a vector](https://docs.sympy.org/latest/modules/tensor/array.html#derivatives-by-array) (like a \"Jacobian\")."
   ]
  },
  {
   "cell_type": "code",
   "execution_count": 5,
   "metadata": {
    "colab": {
     "base_uri": "https://localhost:8080/",
     "height": 78
    },
    "executionInfo": {
     "elapsed": 60,
     "status": "ok",
     "timestamp": 1704568950003,
     "user": {
      "displayName": "Ivan Christov",
      "userId": "03286852141196977463"
     },
     "user_tz": 300
    },
    "id": "6zmHIj_ps7zZ",
    "outputId": "d4c151aa-4aa9-459b-c890-e6ad721eef1e"
   },
   "outputs": [
    {
     "data": {
      "image/png": "[encoded data removed]",
      "text/latex": [
       "$\\displaystyle \\left[\\begin{matrix}0 & 0 & 0\\\\- 2 \\mathbf{{y}_{C}} c & 0 & 0\\\\0 & 0 & 0\\end{matrix}\\right]$"
      ],
      "text/plain": [
       "⎡   0      0  0⎤\n",
       "⎢              ⎥\n",
       "⎢-2⋅y_C⋅c  0  0⎥\n",
       "⎢              ⎥\n",
       "⎣   0      0  0⎦"
      ]
     },
     "execution_count": 5,
     "metadata": {},
     "output_type": "execute_result"
    }
   ],
   "source": [
    "# we need to express the vector via an array of components for the next step to work\n",
    "# to do so we just take the dot product of v with each coord vector to get the 3 components\n",
    "# in SymPy & is one way to form a dot product\n",
    "v_array = [ v & C.i, v & C.j, v & C.k ]\n",
    "\n",
    "gradv = sp.derive_by_array(v_array, [C.x, C.y, C.z])\n",
    "\n",
    "# convert v and grad v to SymPy matrices\n",
    "v_array = sp.Matrix(v_array)\n",
    "gradv = sp.Matrix(gradv)\n",
    "gradv"
   ]
  },
  {
   "cell_type": "markdown",
   "metadata": {
    "id": "slOQGuBErOGd"
   },
   "source": [
    "Now, we can compute the symmetric part of the velocity gradient."
   ]
  },
  {
   "cell_type": "code",
   "execution_count": 6,
   "metadata": {
    "colab": {
     "base_uri": "https://localhost:8080/",
     "height": 78
    },
    "executionInfo": {
     "elapsed": 57,
     "status": "ok",
     "timestamp": 1704568950003,
     "user": {
      "displayName": "Ivan Christov",
      "userId": "03286852141196977463"
     },
     "user_tz": 300
    },
    "id": "TYGbJuHZuVQC",
    "outputId": "705cdfcb-20e3-40ec-8adc-aabe3ad4d363"
   },
   "outputs": [
    {
     "data": {
      "image/png": "[encoded data removed]",
      "text/latex": [
       "$\\displaystyle \\left[\\begin{matrix}0 & - \\mathbf{{y}_{C}} c & 0\\\\- \\mathbf{{y}_{C}} c & 0 & 0\\\\0 & 0 & 0\\end{matrix}\\right]$"
      ],
      "text/plain": [
       "⎡  0     -y_C⋅c  0⎤\n",
       "⎢                 ⎥\n",
       "⎢-y_C⋅c    0     0⎥\n",
       "⎢                 ⎥\n",
       "⎣  0       0     0⎦"
      ]
     },
     "execution_count": 6,
     "metadata": {},
     "output_type": "execute_result"
    }
   ],
   "source": [
    "# 1/2 is a float, Rational(1,2) is a symbolic expression for 1/2,\n",
    "# which lets SymPy do some algebra\n",
    "Sij = sp.Rational(1,2)*(gradv + gradv.transpose())\n",
    "Sij"
   ]
  },
  {
   "cell_type": "markdown",
   "metadata": {
    "id": "a57dgq4W8i-v"
   },
   "source": [
    "The shear rate is defined using a [double contraction](https://docs.sympy.org/latest/modules/tensor/array.html#products-and-contractions) of $S_{ij}$, which we implement as:"
   ]
  },
  {
   "cell_type": "code",
   "execution_count": 7,
   "metadata": {
    "colab": {
     "base_uri": "https://localhost:8080/",
     "height": 40
    },
    "executionInfo": {
     "elapsed": 450,
     "status": "ok",
     "timestamp": 1704568950398,
     "user": {
      "displayName": "Ivan Christov",
      "userId": "03286852141196977463"
     },
     "user_tz": 300
    },
    "id": "n2kAmiqI6BZs",
    "outputId": "918d1e30-799d-4270-d295-d4142b80da0d"
   },
   "outputs": [
    {
     "data": {
      "image/png": "[encoded data removed]",
      "text/latex": [
       "$\\displaystyle \\sqrt{2} c \\sqrt{\\mathbf{{y}_{C}}^{2}}$"
      ],
      "text/plain": [
       "        ______\n",
       "       ╱    2 \n",
       "√2⋅c⋅╲╱  y_C  "
      ]
     },
     "execution_count": 7,
     "metadata": {},
     "output_type": "execute_result"
    }
   ],
   "source": [
    "SS = sp.sqrt(sp.tensorcontraction(sp.tensorcontraction(sp.tensorproduct(Sij,Sij), (1, 2)), (0, 1)))\n",
    "SS.simplify()"
   ]
  },
  {
   "cell_type": "markdown",
   "metadata": {},
   "source": [
    "Now, compute the anti-symmetric part of the velocity gradient.\n"
   ]
  },
  {
   "cell_type": "code",
   "execution_count": 8,
   "metadata": {
    "colab": {
     "base_uri": "https://localhost:8080/",
     "height": 78
    },
    "executionInfo": {
     "elapsed": 150,
     "status": "ok",
     "timestamp": 1704568950399,
     "user": {
      "displayName": "Ivan Christov",
      "userId": "03286852141196977463"
     },
     "user_tz": 300
    },
    "id": "co8kBmDSq0sU",
    "outputId": "6b286713-d835-46d0-cc54-6c173698c156"
   },
   "outputs": [
    {
     "data": {
      "image/png": "[encoded data removed]",
      "text/latex": [
       "$\\displaystyle \\left[\\begin{matrix}0 & \\mathbf{{y}_{C}} c & 0\\\\- \\mathbf{{y}_{C}} c & 0 & 0\\\\0 & 0 & 0\\end{matrix}\\right]$"
      ],
      "text/plain": [
       "⎡  0     y_C⋅c  0⎤\n",
       "⎢                ⎥\n",
       "⎢-y_C⋅c    0    0⎥\n",
       "⎢                ⎥\n",
       "⎣  0       0    0⎦"
      ]
     },
     "execution_count": 8,
     "metadata": {},
     "output_type": "execute_result"
    }
   ],
   "source": [
    "Omegaij = sp.Rational(1,2)*(gradv - gradv.transpose())\n",
    "Omegaij"
   ]
  },
  {
   "cell_type": "markdown",
   "metadata": {
    "id": "Hz5L2Hmp9RaM"
   },
   "source": [
    "Next, compute the _dual vector_ $d_k$ of $\\Omega_{ij}$ from the definition given in Panton's Eq. (3.7.4). Verify that $d_k = \\omega_k$.\n",
    "\n",
    "We could use fancy double contraction operations (but I had a hard time figuring it out in the context of $\\epsilon_{ijl}$ in SymPy).\n",
    "\n",
    "So let's brute-force it with some loops."
   ]
  },
  {
   "cell_type": "code",
   "execution_count": 9,
   "metadata": {
    "colab": {
     "base_uri": "https://localhost:8080/",
     "height": 40
    },
    "executionInfo": {
     "elapsed": 148,
     "status": "ok",
     "timestamp": 1704568950399,
     "user": {
      "displayName": "Ivan Christov",
      "userId": "03286852141196977463"
     },
     "user_tz": 300
    },
    "id": "Mg2jL0nKuy7j",
    "outputId": "195f5c54-c231-4423-8be6-96152205ab2c"
   },
   "outputs": [
    {
     "data": {
      "image/png": "[encoded data removed]",
      "text/latex": [
       "$\\displaystyle \\left(2 \\mathbf{{y}_{C}} c\\right)\\mathbf{\\hat{k}_{C}}$"
      ],
      "text/plain": [
       "(2⋅y_C⋅c) k_C"
      ]
     },
     "execution_count": 9,
     "metadata": {},
     "output_type": "execute_result"
    }
   ],
   "source": [
    "# initialize as a zero matrix\n",
    "dvec = sp.Matrix([0,0,0])\n",
    "\n",
    "for i in 1,2,3:\n",
    "  dvec[i-1,0] = 0\n",
    "  for j in 1,2,3:\n",
    "    for k in 1,2,3:\n",
    "      dvec[i-1,0] = dvec[i-1,0] + sp.LeviCivita(i,j,k)*Omegaij[j-1,k-1]\n",
    "\n",
    "d = dvec[0,0] * C.i + dvec[1,0] * C.j + dvec[2,0] * C.k\n",
    "d"
   ]
  },
  {
   "cell_type": "code",
   "execution_count": 10,
   "metadata": {
    "colab": {
     "base_uri": "https://localhost:8080/",
     "height": 78
    },
    "executionInfo": {
     "elapsed": 147,
     "status": "ok",
     "timestamp": 1704568950400,
     "user": {
      "displayName": "Ivan Christov",
      "userId": "03286852141196977463"
     },
     "user_tz": 300
    },
    "id": "mFie_CLWwzfR",
    "outputId": "40fe6634-a51a-4fc1-face-490c470204a6"
   },
   "outputs": [
    {
     "data": {
      "image/png": "[encoded data removed]",
      "text/latex": [
       "$\\displaystyle \\left[\\begin{matrix}0 & 0 & 0\\\\- 2 \\mathbf{{y}_{C}} c & 0 & 0\\\\0 & 0 & 0\\end{matrix}\\right]$"
      ],
      "text/plain": [
       "⎡   0      0  0⎤\n",
       "⎢              ⎥\n",
       "⎢-2⋅y_C⋅c  0  0⎥\n",
       "⎢              ⎥\n",
       "⎣   0      0  0⎦"
      ]
     },
     "execution_count": 10,
     "metadata": {},
     "output_type": "execute_result"
    }
   ],
   "source": [
    "gradv"
   ]
  },
  {
   "cell_type": "code",
   "execution_count": 11,
   "metadata": {
    "colab": {
     "base_uri": "https://localhost:8080/",
     "height": 78
    },
    "executionInfo": {
     "elapsed": 145,
     "status": "ok",
     "timestamp": 1704568950400,
     "user": {
      "displayName": "Ivan Christov",
      "userId": "03286852141196977463"
     },
     "user_tz": 300
    },
    "id": "aPhOflYhxHPX",
    "outputId": "f41cf2e6-50f7-468c-8bdc-59bd02a8fac2"
   },
   "outputs": [
    {
     "data": {
      "image/png": "[encoded data removed]",
      "text/latex": [
       "$\\displaystyle \\left[\\begin{matrix}0 & 0 & 0\\\\- 2 \\mathbf{{y}_{C}} c & 0 & 0\\\\0 & 0 & 0\\end{matrix}\\right]$"
      ],
      "text/plain": [
       "⎡   0      0  0⎤\n",
       "⎢              ⎥\n",
       "⎢-2⋅y_C⋅c  0  0⎥\n",
       "⎢              ⎥\n",
       "⎣   0      0  0⎦"
      ]
     },
     "execution_count": 11,
     "metadata": {},
     "output_type": "execute_result"
    }
   ],
   "source": [
    "Sij + Omegaij"
   ]
  },
  {
   "cell_type": "markdown",
   "metadata": {},
   "source": [
    "Verify that the kinematic decomposition, $\\partial_i v_j = S_{ij} + \\Omega_{ij}$ works."
   ]
  },
  {
   "cell_type": "code",
   "execution_count": 12,
   "metadata": {
    "colab": {
     "base_uri": "https://localhost:8080/"
    },
    "executionInfo": {
     "elapsed": 145,
     "status": "ok",
     "timestamp": 1704568950401,
     "user": {
      "displayName": "Ivan Christov",
      "userId": "03286852141196977463"
     },
     "user_tz": 300
    },
    "id": "6fgYOLdiDF4y",
    "outputId": "fe34526f-7347-450e-b86b-b56c45d8c20e"
   },
   "outputs": [
    {
     "data": {
      "text/plain": [
       "True"
      ]
     },
     "execution_count": 12,
     "metadata": {},
     "output_type": "execute_result"
    }
   ],
   "source": [
    "gradv == Sij + Omegaij"
   ]
  },
  {
   "cell_type": "markdown",
   "metadata": {
    "id": "ZRulV8TIDVjG"
   },
   "source": [
    "## Material derivative of the velocity, $\\underline{v}\\cdot\\nabla\\underline{v}$.\n"
   ]
  },
  {
   "cell_type": "markdown",
   "metadata": {
    "id": "3mbY2ZsH1yAw"
   },
   "source": [
    "First, using the matrix-vector product interpretation as $ v_j \\partial_j v_i = (\\partial_j v_i)v_j = [\\nabla\\underline{v}]^{\\rm T} \\underline{v}$."
   ]
  },
  {
   "cell_type": "code",
   "execution_count": 13,
   "metadata": {
    "colab": {
     "base_uri": "https://localhost:8080/",
     "height": 78
    },
    "executionInfo": {
     "elapsed": 141,
     "status": "ok",
     "timestamp": 1704568950402,
     "user": {
      "displayName": "Ivan Christov",
      "userId": "03286852141196977463"
     },
     "user_tz": 300
    },
    "id": "rZngAjuY2dny",
    "outputId": "c4697978-aa04-4383-bbaa-adb1f8d530c2"
   },
   "outputs": [
    {
     "data": {
      "image/png": "[encoded data removed]",
      "text/latex": [
       "$\\displaystyle \\left[\\begin{matrix}0\\\\0\\\\0\\end{matrix}\\right]$"
      ],
      "text/plain": [
       "⎡0⎤\n",
       "⎢ ⎥\n",
       "⎢0⎥\n",
       "⎢ ⎥\n",
       "⎣0⎦"
      ]
     },
     "execution_count": 13,
     "metadata": {},
     "output_type": "execute_result"
    }
   ],
   "source": [
    "gradv.transpose() * v_array"
   ]
  },
  {
   "cell_type": "markdown",
   "metadata": {},
   "source": [
    "You can check that the vesion without the transpose doesn't give the right answer."
   ]
  },
  {
   "cell_type": "code",
   "execution_count": 14,
   "metadata": {
    "colab": {
     "base_uri": "https://localhost:8080/",
     "height": 78
    },
    "executionInfo": {
     "elapsed": 139,
     "status": "ok",
     "timestamp": 1704568950402,
     "user": {
      "displayName": "Ivan Christov",
      "userId": "03286852141196977463"
     },
     "user_tz": 300
    },
    "id": "i14qUcC2FA2U",
    "outputId": "dfa62086-de54-4ee2-f5c9-59a30491f540"
   },
   "outputs": [
    {
     "data": {
      "image/png": "[encoded data removed]",
      "text/latex": [
       "$\\displaystyle \\left[\\begin{matrix}0\\\\- 2 \\mathbf{{y}_{C}} c^{2} \\left(1 - \\mathbf{{y}_{C}}^{2}\\right)\\\\0\\end{matrix}\\right]$"
      ],
      "text/plain": [
       "⎡         0          ⎤\n",
       "⎢                    ⎥\n",
       "⎢        2 ⎛       2⎞⎥\n",
       "⎢-2⋅y_C⋅c ⋅⎝1 - y_C ⎠⎥\n",
       "⎢                    ⎥\n",
       "⎣         0          ⎦"
      ]
     },
     "execution_count": 14,
     "metadata": {},
     "output_type": "execute_result"
    }
   ],
   "source": [
    "gradv * v_array"
   ]
  },
  {
   "cell_type": "markdown",
   "metadata": {
    "id": "o4M82rIo2QXX"
   },
   "source": [
    "Second, using the directional derivative interpretation as $v_j\\partial_j v_i = (v_j\\partial_j)v_i = (\\underline{v}\\cdot\\nabla)\\underline{v}$ and [SymPy vector calculus](https://docs.sympy.org/latest/modules/vector/fields.html#directional-derivative)."
   ]
  },
  {
   "cell_type": "code",
   "execution_count": 15,
   "metadata": {
    "colab": {
     "base_uri": "https://localhost:8080/",
     "height": 37
    },
    "executionInfo": {
     "elapsed": 109,
     "status": "ok",
     "timestamp": 1704568950408,
     "user": {
      "displayName": "Ivan Christov",
      "userId": "03286852141196977463"
     },
     "user_tz": 300
    },
    "id": "ILbHe2bU19aS",
    "outputId": "c616c824-d2dd-4c5e-9980-21fcdefee5a5"
   },
   "outputs": [
    {
     "data": {
      "image/png": "[encoded data removed]",
      "text/latex": [
       "$\\displaystyle \\mathbf{\\hat{0}}$"
      ],
      "text/plain": [
       "0"
      ]
     },
     "execution_count": 15,
     "metadata": {},
     "output_type": "execute_result"
    }
   ],
   "source": [
    "# in SymPy & is one way to form a dot product\n",
    "(v & nabla)(v)"
   ]
  },
  {
   "cell_type": "markdown",
   "metadata": {
    "id": "Cqr9V9UO14XV"
   },
   "source": [
    "## The volume rate of expansion, $\\nabla\\cdot\\underline{v}$"
   ]
  },
  {
   "cell_type": "code",
   "execution_count": 16,
   "metadata": {
    "colab": {
     "base_uri": "https://localhost:8080/",
     "height": 37
    },
    "executionInfo": {
     "elapsed": 102,
     "status": "ok",
     "timestamp": 1704568950408,
     "user": {
      "displayName": "Ivan Christov",
      "userId": "03286852141196977463"
     },
     "user_tz": 300
    },
    "id": "5qmKJwQI_EBQ",
    "outputId": "a475fe3f-d379-4b19-d0b2-448f140c0ef7"
   },
   "outputs": [
    {
     "data": {
      "image/png": "[encoded data removed]",
      "text/latex": [
       "$\\displaystyle 0$"
      ],
      "text/plain": [
       "0"
      ]
     },
     "execution_count": 16,
     "metadata": {},
     "output_type": "execute_result"
    }
   ],
   "source": [
    "# general expression\n",
    "divv = nabla & v\n",
    "\n",
    "# evaluated expression\n",
    "divv.doit()"
   ]
  },
  {
   "cell_type": "code",
   "execution_count": null,
   "metadata": {},
   "outputs": [],
   "source": []
  }
 ],
 "metadata": {
  "colab": {
   "provenance": [
    {
     "file_id": "1Dhpn7gYGglek_jH4SzAflXOZGyVsUit7",
     "timestamp": 1694441627539
    },
    {
     "file_id": "11HRnyNU5R1E4R01vrD5Q-ZZZypwDcWfm",
     "timestamp": 1693352711128
    },
    {
     "file_id": "1y-WZALnbR83ZaFN7vaj70lGx2d3BpkDo",
     "timestamp": 1601406811768
    }
   ]
  },
  "kernelspec": {
   "display_name": "Python 3",
   "name": "python3"
  },
  "language_info": {
   "codemirror_mode": {
    "name": "ipython",
    "version": 3
   },
   "file_extension": ".py",
   "mimetype": "text/x-python",
   "name": "python",
   "nbconvert_exporter": "python",
   "pygments_lexer": "ipython3",
   "version": "3.9.6"
  }
 },
 "nbformat": 4,
 "nbformat_minor": 0
}
