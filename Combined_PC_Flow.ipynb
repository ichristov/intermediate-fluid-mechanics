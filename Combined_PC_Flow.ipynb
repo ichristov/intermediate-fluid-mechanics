{
 "cells": [
  {
   "cell_type": "markdown",
   "metadata": {
    "id": "FWNniYgkXDXC"
   },
   "source": [
    "# LEARNING OBJECTIVE\n",
    "\n",
    "This notebook shows how to visualize Poiseuille&ndash;Couette flow, which is steady pressure-driven flow in a channel with a moving wall. The notebook also shows how to understand the role of the Poiseuille number and the role of the velocity scale in being able to recover the limits of Poiseuille (pressure-driven, no moving wall) and Couette (moving wall, no pressure gradient) flow."
   ]
  },
  {
   "cell_type": "markdown",
   "metadata": {
    "id": "21hNoidL2vnD"
   },
   "source": [
    "# PRELIMINARIES\n",
    "\n",
    "[run the next cell to setup Python environment customizations and load packages]"
   ]
  },
  {
   "cell_type": "code",
   "execution_count": 1,
   "metadata": {
    "executionInfo": {
     "elapsed": 958,
     "status": "ok",
     "timestamp": 1704567123414,
     "user": {
      "displayName": "Ivan Christov",
      "userId": "03286852141196977463"
     },
     "user_tz": 300
    },
    "id": "MBp48ZTn2om4"
   },
   "outputs": [],
   "source": [
    "# interactive plots setup\n",
    "from ipywidgets import interact, interactive, fixed, interact_manual\n",
    "import ipywidgets as widgets\n",
    "\n",
    "# sympy setup\n",
    "import sympy as sp\n",
    "sp.init_printing()\n",
    "from sympy.vector import *\n",
    "\n",
    "# ploting customizations\n",
    "from matplotlib import pyplot as plt\n",
    "size=16\n",
    "params = {'legend.fontsize': 'large',\n",
    "#          'figure.figsize': (20,8),\n",
    "          'axes.labelsize': size,\n",
    "          'axes.titlesize': size,\n",
    "          'xtick.labelsize': size*0.875,\n",
    "          'ytick.labelsize': size*0.875,\n",
    "          'axes.titlepad': 25}\n",
    "plt.rcParams.update(params)\n",
    "%matplotlib inline\n",
    "\n",
    "# numerics\n",
    "import numpy as np\n",
    "\n",
    "# for Colab only: to save plots as files and download them\n",
    "#from google.colab import files"
   ]
  },
  {
   "cell_type": "markdown",
   "metadata": {
    "id": "nxDXm7MrQez_"
   },
   "source": [
    "## Credit\n",
    "\n",
    "Initial version written by [Ivan C. Christov](http://christov.tmnt-lab.org), Purdue University."
   ]
  },
  {
   "cell_type": "markdown",
   "metadata": {
    "id": "vYhlFQVo2erT"
   },
   "source": [
    "# PRESSURE-DRIVEN FLOW IN A SLOT WITH A MOVING WALL"
   ]
  },
  {
   "cell_type": "markdown",
   "metadata": {},
   "source": [
    "A slot is a 2D channel with rigid parallel walls that extend infinitely out of the page."
   ]
  },
  {
   "cell_type": "markdown",
   "metadata": {
    "id": "8ek7xtph1n8v"
   },
   "source": [
    "The dimensionless solution for the combined Poiseuille&ndash;Couette flow in a slot is\n",
    "$$\n",
    "    \\frac{v_x}{V_0}=v_x^*(y^*)=(1+\\mathbb{Po})y^*-\\mathbb{Po}(y^*)^2,\n",
    "    \\qquad y^*=\\frac{y}{h},\n",
    "$$\n",
    "as given in Section 7.4 of Panton.\n",
    "\n",
    "Here,\n",
    "$$\\mathbb{Po} = \\frac{h^2\\Delta p}{2\\mu_0 L V_0} = \\frac{\\Delta p/L}{2\\mu_0 V_0/h^2} = \\frac{\\text{imposed pressure gradient}}{2\\times\\text{force (per $\\forall$) to drive the top wall}}$$\n",
    "is a dimensionless number that I've decided to call the _Poiseuille number_ (but be careful that other [dimensionless numbers](https://en.wikipedia.org/wiki/Dimensionless_numbers_in_fluid_mechanics) may also carry this name).\n",
    "\n",
    "$\\mathbb{Po}$ can be positive or negative, depending on whether the pressure gradient is favorable or adverse."
   ]
  },
  {
   "cell_type": "markdown",
   "metadata": {
    "id": "xMntGbgoBR8w"
   },
   "source": [
    "[ASIDE: Note that we interpret $\\mu_0 V_0/h^2$ as the force (per $\\forall$) because the viscous term balacing the pressure gradient in the $x$-momentum equation is $\\mu_0 \\partial^2 v/\\partial y^2$ which can be made dimensionless by divinging by precisely $\\mu_0 V_0/h^2$.]"
   ]
  },
  {
   "cell_type": "markdown",
   "metadata": {
    "id": "oJDV5zY9c6Qy"
   },
   "source": [
    "I will use a [`quiver`](https://matplotlib.org/stable/gallery/images_contours_and_fields/quiver_simple_demo.html) plot to show the velocity arrows, and a regular line plot to show he envelope of the vectors."
   ]
  },
  {
   "cell_type": "code",
   "execution_count": 2,
   "metadata": {
    "colab": {
     "base_uri": "https://localhost:8080/",
     "height": 511,
     "referenced_widgets": [
      "7547f7356cca4c679fa1b0301827d76f",
      "6886c9f60bfc4500a22bf784d1292197",
      "e047576cc5d84bb5a824dcdeaeda965c",
      "ff97b3b7e5b04fd782400477593961e4",
      "94a1cc0075ad475fb410c3c58a26ab6c",
      "44f16b320f2c4e5a8110351223f64868",
      "f296375c109e4973800c413d3933b1de"
     ]
    },
    "executionInfo": {
     "elapsed": 350,
     "status": "ok",
     "timestamp": 1704567123740,
     "user": {
      "displayName": "Ivan Christov",
      "userId": "03286852141196977463"
     },
     "user_tz": 300
    },
    "id": "7gNxgVk6Otkb",
    "outputId": "5ab18411-9271-4288-f77b-f43a656902cf"
   },
   "outputs": [],
   "source": [
    "def plot_func(Po):\n",
    "  # y^* goes from 0 to 1\n",
    "  y = np.linspace(0, 1)\n",
    "  # v_x^* as defined above\n",
    "  vx = (1+Po)*y - Po*y**2\n",
    "\n",
    "  ax = plt.axes()\n",
    "  ax.set_ylabel('$y^*$')\n",
    "  ax.set_ylim(0,1)\n",
    "  ax.set_xlabel('$v_x^*$')\n",
    "\n",
    "  # we have to be judicious with the xlim interval,\n",
    "  # to make sure we can see the flow for all values of Po\n",
    "  # allowed in the slider\n",
    "  ax.set_xlim(-2.5,3.5)\n",
    "\n",
    "  # skip every other data point (using \"::2\") to reduce number of arrows\n",
    "  # plot arrows emanating only from the reference line, x-coord = 0\n",
    "  ax.quiver(0*y[::2], y[::2],\n",
    "            vx[::2], 0*vx[::2],\n",
    "            scale=1., scale_units='xy', color='blue')\n",
    "  ax.plot(vx, y, color='blue', linewidth=4)\n",
    "\n",
    "  plt.show()"
   ]
  },
  {
   "cell_type": "code",
   "execution_count": 3,
   "metadata": {},
   "outputs": [
    {
     "data": {
      "image/png": "[encoded data removed]",
      "text/plain": [
       "<Figure size 640x480 with 1 Axes>"
      ]
     },
     "metadata": {},
     "output_type": "display_data"
    }
   ],
   "source": [
    "plot_func(2)"
   ]
  },
  {
   "cell_type": "markdown",
   "metadata": {},
   "source": [
    "An [`interact`](https://ipywidgets.readthedocs.io/en/latest/examples/Using%20Interact.html) widget will let us vary $\\mathbb{Po}$."
   ]
  },
  {
   "cell_type": "code",
   "execution_count": 4,
   "metadata": {},
   "outputs": [
    {
     "data": {
      "application/vnd.jupyter.widget-view+json": {
       "model_id": "adb10554731b493499a871af8e7594db",
       "version_major": 2,
       "version_minor": 0
      },
      "text/plain": [
       "interactive(children=(FloatSlider(value=2.0, description='Po', max=10.0, min=-10.0, step=0.5), Output()), _dom…"
      ]
     },
     "metadata": {},
     "output_type": "display_data"
    }
   ],
   "source": [
    "interact(plot_func, Po = widgets.FloatSlider(value=2,\n",
    "                                             min=-10,\n",
    "                                             max=+10,\n",
    "                                             step=0.5));"
   ]
  },
  {
   "cell_type": "markdown",
   "metadata": {
    "id": "ZHo0bunKTQHK"
   },
   "source": [
    "Playing with the slider on the plot, we see that changing the $\\mathbb{Po}$ number changes the shape of the flow profile.\n",
    "\n",
    "On your own:\n",
    "\n",
    "*   Why does the profile bulge one way for $\\mathbb{Po}>0$ but the other way for $\\mathbb{Po}<0$? What is the physical reason?\n",
    "*   Is $\\mathbb{Po}=0$ special?\n",
    "*   Can we recover \"pure\" Couette flow (no pressure gradient) for some $\\mathbb{Po}$ value?   \n",
    "*   Can we recover \"pure\" Poiseuille flow (no moving wall) for some $\\mathbb{Po}$ value?\n",
    "\n"
   ]
  },
  {
   "cell_type": "markdown",
   "metadata": {
    "id": "clbNxPNn8Cen"
   },
   "source": [
    "# ANOTHER REPRESENTATION OF THE SAME SOLUTION"
   ]
  },
  {
   "cell_type": "markdown",
   "metadata": {
    "id": "SPrdQ-wi8Ce5"
   },
   "source": [
    "Observing that $h^2\\Delta p/(2\\mu_0L)$ is also a _velocity_ (in fact, it is $6\\times$ the average velocity of the pressure-driven (Poiseuille) flow, see also Panton p. 131), we could have written the dimensionless solution as\n",
    "$$\\frac{v_x}{h^2\\Delta p/(2\\mu_0L)}=v_x^*(y^*)=(\\tilde{\\mathbb{Po}} + 1)y^* - (y^*)^2,\\qquad y^*=\\frac{y}{h}.$$\n",
    "\n",
    "Here,\n",
    "$$\\tilde{\\mathbb{Po}} = \\frac{2\\mu_0 L V_0}{h^2\\Delta p} = \\frac{V_0}{h^2\\Delta p/(2\\mu_0 L)} = \\frac{\\text{wall velocity}}{6\\times\\text{avg velocity of the pressure driven flow}}$$\n",
    "is again a _Poiseuille number_ (it is related to the previous one as $\\tilde{\\mathbb{Po}}=\\mathbb{Po}^{-1}$.\n",
    "\n",
    "Both, $\\tilde{\\mathbb{Po}}$ and $\\mathbb{Po}$, are equally valid dimensionless number to describe this flow."
   ]
  },
  {
   "cell_type": "code",
   "execution_count": 5,
   "metadata": {
    "colab": {
     "base_uri": "https://localhost:8080/",
     "height": 511,
     "referenced_widgets": [
      "dce5caeaa1ef4fa4a5b6a4f951ce3dc9",
      "038b437b1a6e44d1bbba3e9f50523d36",
      "0104d5f7c5a44b87b7d5def98fa8f603",
      "0525ac3eaf71457b84d604eed5693fd5",
      "426330b0dc3143298bd47d2c249a71c7",
      "625fd5e1a97940bebbea64c230676aba",
      "31f92bcaae814a2e937f99ee6b950f06"
     ]
    },
    "executionInfo": {
     "elapsed": 312,
     "status": "ok",
     "timestamp": 1704567124197,
     "user": {
      "displayName": "Ivan Christov",
      "userId": "03286852141196977463"
     },
     "user_tz": 300
    },
    "id": "0W6LkKla8Ce6",
    "outputId": "0d7e099d-e105-4b10-9786-0900bf3dec59"
   },
   "outputs": [],
   "source": [
    "def plot_func_tilde(PoTilde):\n",
    "  # y^* goes from 0 to 1\n",
    "  y = np.linspace(0, 1)\n",
    "  # v_x^* as defined above\n",
    "  vx = (PoTilde+1)*y - y**2\n",
    "\n",
    "  ax = plt.axes()\n",
    "  ax.set_ylabel('$y^*$')\n",
    "  ax.set_ylim(0,1)\n",
    "  ax.set_xlabel('$v_x^*$')\n",
    "  ax.set_xlim(-2,2)\n",
    "\n",
    "  # skip every other data point (using \"::2\") to reduce number of arrows\n",
    "  # plot arrows emanating only from the reference line, x-coord = 0\n",
    "  ax.quiver(0*y[::2], y[::2],\n",
    "            vx[::2], 0*vx[::2],\n",
    "            scale=1., scale_units='xy', color='blue')\n",
    "  ax.plot(vx, y, color='blue', linewidth=4)\n",
    "\n",
    "  plt.show()"
   ]
  },
  {
   "cell_type": "code",
   "execution_count": 6,
   "metadata": {},
   "outputs": [
    {
     "data": {
      "image/png": "[encoded data removed]",
      "text/plain": [
       "<Figure size 640x480 with 1 Axes>"
      ]
     },
     "metadata": {},
     "output_type": "display_data"
    }
   ],
   "source": [
    "plot_func_tilde(1)"
   ]
  },
  {
   "cell_type": "code",
   "execution_count": null,
   "metadata": {},
   "outputs": [
    {
     "data": {
      "application/vnd.jupyter.widget-view+json": {
       "model_id": "cb0c4674665b477c96b704fb8f3eff2f",
       "version_major": 2,
       "version_minor": 0
      },
      "text/plain": [
       "interactive(children=(FloatSlider(value=1.0, description='PoTilde', max=1.5, min=-1.5, step=0.05), Output()), …"
      ]
     },
     "metadata": {},
     "output_type": "display_data"
    }
   ],
   "source": [
    "interact(plot_func_tilde, PoTilde = widgets.FloatSlider(value=1,\n",
    "                                                        min=-1.5,\n",
    "                                                        max=+1.5,\n",
    "                                                        step=0.05));"
   ]
  },
  {
   "cell_type": "markdown",
   "metadata": {
    "id": "4UJGjCMR8Ce8"
   },
   "source": [
    "Now:\n",
    "\n",
    "*   How is this representation physically different from the previous one?\n",
    "*   What does the special case $\\tilde{\\mathbb{Po}}=0$ mean?\n",
    "*   Can we recover \"pure\" Couette flow (no pressure gradient) for some $\\tilde{\\mathbb{Po}}$ value?   \n",
    "*   Can we recover \"pure\" Poiseuille flow (no moving wall) for some $\\tilde{\\mathbb{Po}}$ value?\n"
   ]
  },
  {
   "cell_type": "code",
   "execution_count": null,
   "metadata": {
    "executionInfo": {
     "elapsed": 14,
     "status": "ok",
     "timestamp": 1704567124201,
     "user": {
      "displayName": "Ivan Christov",
      "userId": "03286852141196977463"
     },
     "user_tz": 300
    },
    "id": "JeKahMJM8Ce9"
   },
   "outputs": [],
   "source": []
  }
 ],
 "metadata": {
  "colab": {
   "provenance": []
  },
  "kernelspec": {
   "display_name": "Python 3",
   "name": "python3"
  },
  "language_info": {
   "codemirror_mode": {
    "name": "ipython",
    "version": 3
   },
   "file_extension": ".py",
   "mimetype": "text/x-python",
   "name": "python",
   "nbconvert_exporter": "python",
   "pygments_lexer": "ipython3",
   "version": "3.9.6"
  },
  "widgets": {
   "application/vnd.jupyter.widget-state+json": {
    "0104d5f7c5a44b87b7d5def98fa8f603": {
     "model_module": "@jupyter-widgets/output",
     "model_module_version": "1.0.0",
     "model_name": "OutputModel",
     "state": {
      "_dom_classes": [],
      "_model_module": "@jupyter-widgets/output",
      "_model_module_version": "1.0.0",
      "_model_name": "OutputModel",
      "_view_count": null,
      "_view_module": "@jupyter-widgets/output",
      "_view_module_version": "1.0.0",
      "_view_name": "OutputView",
      "layout": "IPY_MODEL_31f92bcaae814a2e937f99ee6b950f06",
      "msg_id": "",
      "outputs": [
       {
        "data": {
         "image/png": "iVBORw0KGgoAAAANSUhEUgAAAl4AAAHOCAYAAABJrwdYAAAAOXRFWHRTb2Z0d2FyZQBNYXRwbG90bGliIHZlcnNpb24zLjcuMSwgaHR0cHM6Ly9tYXRwbG90bGliLm9yZy/bCgiHAAAACXBIWXMAAA9hAAAPYQGoP6dpAABX6klEQVR4nO3deVhV1f4G8BdEBhkdEBxRHFEBc0ANhUwFB8h+18zhOt4S01tqDpkNTpVmw1XrlkOUY5qWpWVOpeKYpl0tS1RyRMUJ9SCEjPv3x4px7wPnwD7DPuf9PM95krUHv6eD8rrW2ms5SJIkgYiIiIhMztHSBRARERHZCwYvIiIiIjNh8CIiIiIyEwYvIiIiIjNh8CIiIiIyEwYvIiIiIjNh8CIiIiIyEwYvIiIiIjNh8CIiIiIyEwYvIiIiIjPRdPBau3Ytxo4diw4dOsDFxQUODg5YuXKl0ffJz8/Hhx9+iODgYLi5ucHX1xdDhgzBhQsX1C+aiIiI7Jamg9drr72G5cuX4/Lly6hTp06F7zN27FhMmDABkiRhwoQJ6N27N77++mt07NgRSUlJKlZMRERE9kzTwSs+Ph6XLl3C7du38dxzz1XoHnv37kV8fDwiIiLwv//9DwsWLMCaNWuwefNm3L17F88//7zKVRMREZG9crJ0AZXRs2fPSt/jk08+AQC88cYbcHZ2Lmzv06cPHnvsMezatQtXrlxBw4YNK/17ERERkX3TdI+XGhISEuDu7o7w8HDZsejoaADAvn37zF0WERER2SBN93hVVkZGBlJSUtCmTRtUqVJFdrxZs2YAUOY8r6ysLGRlZRV+nZ+fj7t376JmzZpwcHBQv2giIiJSnSRJePDgAerWrQtHR9P1S9l18NLpdAAAb29vxeNeXl4lzlMyf/58zJkzR/3iiIiIyOySk5NRv359k93froOXGmbMmIHJkycXfq3T6dCwYUMkJycXBjciIjKfnBzAyQmo6KDDxx8DM2bI23//HWjQoHK1kfVKS0tDgwYN4OnpadLfx66DV0FPl74erbS0tBLnKXFxcYGLi4us3cvLi8GLiMgC7t8HHnsM6NoViIkRv1b4a1qvYs9ZleDtDfCvddtn6mlCdj253t3dHXXq1MHFixeRl5cnO14wt6tgrhcREVk/Hx/gySeB//4X6N0bqFULGDAAWLkSuHWr/Ovz85XbOW2X1GDXwQsAIiMjkZGRgUOHDsmO7dy5EwAQERFh7rKIiKgSJk4UAQwA0tOBr78GRo8G/P2BLl2AefOAU6cASZJfqy94mXC+NdkRuxlqvHPnDu7cuYNatWqhVq1ahe1xcXH44osv8Prrr+OHH34oXMtr+/btSEhIQFRUFAICAixVNhFZmT17gPPnLV0FGSIkBNi/v2SbJAFHjojXq68CAQFiODI2tmhIUimMAQxepA4HSdL3LWb94uPjcfDgQQDAqVOn8L///Q/h4eFo2rQpAKBr16549tlnAQCzZ8/GnDlzMGvWLMyePbvEfcaMGYP4+Hi0bt0a/fr1Q0pKCjZs2AAPDw/89NNPaN68ucE1paWlwdvbGzqdjnO8iGzQ0KHA+vWWroJMwd0diIoSAWvTJvnxW7cAX1/z10XmYa6f35ru8Tp48CBWrVpVou3QoUMlhg0LgldZli1bhuDgYCxfvhyLFy+Gh4cH/u///g9vvfUWmjRponrdRERkfTIygG++0X+cc7xIDZru8bJG7PEism3s8bJd/v5i2DE9HfjiC/nx+/fFk41km9jjRURkhSZNEk/IkfX7+GMxJ68sjzwi5nfFxgLt2olhxldeUT5X3zITRMZg8CIiMkJYmHiRdbtzBxg5Ut7u4gL06CGCVkwMoLRAeU6O8j2rVlW3RrJPDF5ERGRz3n9fzNkCioYQY2NF6HJ3L/tafcFLYUtfIqMxeBERkU1JTQUOHwZmzhSBq31745aCUApezs6cXE/qYPAiIiKbUqMGsG9fxa9XCl4cZiS1cDk4IiKyKZXtmcrOlrcxeJFaGLyIiIiKycqSt/GJRlILgxcREdmUyq5OmZkpb3Nzq9w9iQoweBERkU2JjwcGDgRWrxbLShjr4UN5G4MXqYXBi4iIbMrQoWJz7JEjAT8/oGtX4O23gT/+MKw3jD1eZEoMXkREZFPc3YGXXhK/zs8HDh0CZswA2rQBmjQBJk4EfvxReRI9wOBFpsXlJIiIjHD8OHDtmqWroPLUqQM4OQG5uSXbL14EPvhAvDw9gehosbBq375ArVriHKXg5epq+prJPjB4EREZ4T//4SbZtuLBA+Crr8TLwQHo0kWEMJ1Ofi57vEgtDF5ERGT3JEmsdn/4sPJxBi9SC+d4ERERAWjcGJgwAahWTX7Mw8P89ZBtYo8XEZERRo8GunWzdBVUnuxsYOpU+Ryv4hwdi4YXY2OBoCDR/t//ys9l8CK1MHgRERmhVy/xIuu2fLly6PL0BHr3FptnF59QXyAzUzwJWRqDF6mFwYuIiGxKdjbw1ltFXzduXNSrFRFR9vY/6enK7QxepBYGLyIisilr1gANGgDjxxcNIRq6cfaDB8rtnp7q1Uf2jcGLiIhsyrBhwDPPVOxa9niRqfGpRiIisikuLhW/lsGLTI3Bi4iI6G9pacrtHGoktTB4ERER/e3+feV2Hx9zVkG2jMGLiIhsxr59wPDhwMaNylv/lIfBi0yNwYuIiGxGt27Ab78BgwaJNbp69gQWLQLOnzfsegYvMjUGLyIishmOjsCsWeLXubnA7t3Aiy8CTZsCrVoB06cDBw/qX9GewYtMjctJEBEZISkJuHPH0lVQWfz8gDp1gJSUku2JieL1zjtAjRpi5frYWCA6GvD2FucoBS9nZ8DV1eRlk51g8CIiMsKsWcD69Zaugirr7l1g7VrxcnICIiNFCLt6VX6ut7fhC7ASlYfBi4iI7FrBkOTu3crHC3rDiNTAOV5ERGT3XF2Bfv2AgAD5sZo1zV8P2S72eBERGWHAAKBFC0tXQeVZsgS4ebPsc/z9gZgYMcTYowfg7g4EBsrPY/AiNTF4EREZYcAA8SLrdeIEMHu28rFHHhFBKzYWaNdOPAVZXGqq/JpatVQvkewYgxcREdmUuXOLfu3qKnqzYmNF71a9evqvy85W3jKIPV6kJgYvIiKyGSdOAD//DIwZI4JWz55AtWqGXXv3rnI7gxepicGLiIhsRuPGQHKyfAjREErDjACDF6mLwYuIiGxGZVaY1xe8OMeL1MTlJIiIiADcvq3czh4vUhODFxEREfQvP+HnZ946yLZxqJGIiGzC8uWi1yo2FggONn6bHwYvMgf2eBERkU2IihLrd4WGikn2zz8P7NwJZGUZdr1S8HJyAqpXV7VMsnMMXkREZBMaNQJGjxa/vnwZ+OgjoHdvMTl+wABgxQrg1i391ysFL1/fij0hSaQPhxqJiIxw8yaQnm7pKkifQYOATz4p2ZaeDnz9tXg5OACdOhWtXt+mTdGQpFIo4zAjqY3Bi4jICC++CKxfb+kqqKIkCThyRLxefVVsil2wX+ONG/LzGbxIbexAJSIiu1V8SPLCBflxBi9SG4MXERHZNWdnsZ+jkjp1zFsL2T4ONRIRGaFXLz7lZs1ycuRzvJTUrg306yeGGHv1Aq5eBYKC5OfVrat+jWTfGLyIiIwwenTRk3NkfVas0B+8QkJE0IqJAcLCSj6teP268jUMXqQ2Bi8iIrIJOTnAm28Wfe3sDHTvXhS2AgL0X6sveNWrp26NRAxeRERkE9auFUtHjB5dNITo4WHYtdeuKbezx4vUxuBFREQ24fHHgZSUii14qq/Hy9+/cjURlcbgRURENqGsocTyKPV41aoFuLhU/J5ESricBBER2b2rV+VtHGYkU2DwIiIiu5ecLG9r2ND8dZDtY/AiIiJNS0wE5swBfvlFbAlkrOxsMTesNAYvMgUGLyIi0rSWLYHvvgM6dADq1wfGjgW2bgUyMw27/to15cDG4EWmwOBFRESa5uAAzJ4tfn39OrB8uVhOomZN4IknxIKq+p5aBJSHGQEGLzINPtVIRGSEzEwgN9fSVVBpERFiZfrffitqy8wUPWHffSe+bt9eBLLYWOCRR0RgA4ArV5Tv2aCBaWsm+8TgRURkhGeeAdavt3QVVBG//CJes2eLFeljYsTr/Hnl89njRabA4EVERHbn2jVg2TLxqlJFftzRkctJkGlofo7XsWPH0LdvX/j4+MDd3R2dO3fGxo0bjbrH9evXMXHiRLRq1Qru7u7w8/ND165dsWbNGuTl5ZmociIisjQ/P+XV6evXB5zYNUEmoOlvq7179yI6Ohqurq4YPHgwPD09sWnTJgwaNAjJycmYMmVKufe4cOECOnXqhNTUVERHRyM2NhZpaWnYvHkzRowYgT179mDFihVmeDdEpAWdOonNmMn6HDmivBBqaW3bFs31at8eaNFCfk7jxqqXRwQAcJCkiqx6Ynm5ublo2bIlrl69iiNHjqBt27YAAJ1Oh7CwMFy6dAnnzp1DQDl7SIwfPx5LlizBokWLMHHixML2+/fvIzQ0FFeuXMGlS5fKvU+BtLQ0eHt7Q6fTwcvLq8Lvj4iIDKfTAY0aAffvy4+5uAA9eoig1a9fyUnzeXmAm5s8TI8aBfDf3PbFXD+/NTvUuGfPHpw/fx5Dhw4tDF0A4O3tjVdeeQXZ2dlYtWpVufe5cOECAKBv374l2n18fNC1a1cAwJ07d9QrnIiIVPfBByVDl78/8OyzwObNQGoq8P33wHPPyZ9UvH5duQczMNCU1ZI902zwSkhIAABERUXJjkVHRwMA9u3bV+592rRpAwDYtm1bifb79+/j0KFD8Pf3R6tWrSpZLRERmYpOByxcKIYQX38d+PlnMXn+k0+A/v0Bd3f91168qNzOoUYyFc3O8UpKSgIANGvWTHbM398fHh4eheeUZdq0afjuu+/w4osvYseOHQgJCSmc41WtWjV88803cHNz03t9VlYWsrKyCr9OS0urwLshIqKKysgAfv21Yutu/T3oIcPgRaai2eCl0+kAiKFFJV5eXoXnlMXPzw8//fQThg0bhu3bt2PHjh0AADc3Nzz33HMIDQ0t8/r58+djzpw5RlZPRERqqcyyD+zxInPT7FCjWv7880+Eh4fj9u3bOHDgAB48eIDk5GTMnDkTb7zxBnr06FHmkhIzZsyATqcrfCXr23uCiIisjtLiqa6uyktMEKlBsz1eBT1d+nq10tLSUL169XLvM2rUKFy+fBkXLlyA/99/0jw8PPDyyy/j5s2bWLRoEb744gv885//VLzexcUFLi4uFXwXRERkSUozUpo0EQuoEpmCZr+1CuZ2Kc3junHjBtLT0xXnfxX34MEDHDp0CEFBQYWhq7ju3bsDAE6cOKFCxUREpKaTJ4H4eCAlpeL3UApeTZtW/H5E5dFs8IqMjAQA7Nq1S3Zs586dJc7RJzs7G4D+5SJu374NAOzRIiKyQkFBwNy5Yo5Xx47i1ydOAIauTpmaCty7J28v59/sRJWi2eDVo0cPBAYGYt26dTh58mRhu06nw7x58+Ds7IwRI0YUtqekpODMmTMlhiZr1qyJFi1a4MqVK4iPjy9x//v37+O9994DUNTzRURE1sPFBXjlFfHr48eBWbOAdu3E5tbjxgHbtgGZmfqv1/fgO4MXmZJmg5eTkxPi4+ORn5+PiIgIxMXFYcqUKQgNDcW5c+cwb948NGrUqPD8GTNmICgoCN98802J+yxcuBBOTk4YM2YMevbsiWnTpuHZZ59F8+bNcebMGQwYMAA9e/Y087sjIiJDjB4tX0bi6lVg6VKxSn2tWmItL6UhSQYvsgTNTq4HRE/UwYMHMWvWLGzYsAE5OTkIDg7GggULMGjQIIPu0adPHxw+fBjvvvsuDh48iH379sHV1RVBQUGYOXMmxo0bZ+J3QURaMnIksHGjpaug4v6eNaLor7+Ab78VL0AMScbGAjExwLlzytcweJEpaXavRmvFvRqJbNvQocD69ZaugtTg5iYfinR1FQuy8qlG+8O9GomIiEzEwwNwdpa3N23K0EWmpemhRiIic2vZEoiIsHQVVNypU8pPJ5YWECCGGWNjgW7dgJo15ecEBalfH1FxDF5EREaYOVO8yDrcvQsUe46qBAcHoHPnojldbdqINgC4fFn5iUcGLzI1Bi8iItKshQuBBw+KvvbwAKKjRdDq2xeoXVv5ujNnlNtbtlS/RqLiGLyIiEiT7t4FFi8uOYQYGSnW9ypPYqJyO3u8yNQYvIiISJNSU4HDh4HWrYuGEA2lr8erefPK10VUFgYvIiLSpMqst6UUvAICgGrVKn5PIkPwoVkiIrI7p0/L2zi/i8yBwYuIiOzKrVvA7dvy9tatzV8L2R8GLyIi0pTPPxeT4yu678rvvyu3t2lT8ZqIDMXgRUREmpKaCrRqJVaZnzQJ2L277P0aS2PwIkti8CIiIk0ZMwaoUwe4cEEsJ9GzJ+DrCwwaBKxdK4JZWf74Q7m9VSv1ayUqjcGLiIg0xc0NePnlkm1pacDGjcDw4WLR1G7dgHfeUR6SVOrxCgwE3N1NVzNRAS4nQURkhAkTgC1bLF0F5eToP5afDxw8KF7TpwNNmhRtG9Stm3Lw4sR6MhcGLyIiI9y5A1y5YukqyBjnzwOLFomXhweQni4/h/O7yFw41EhERHajShXldgYvMhf2eBERGaFuXS60aQ2ysoCLFw07NySkaC/HXbuAmTPl54SGqlsfkT4OklTRlVBISVpaGry9vaHT6eDl5WXpcoiIbNL77wNTpyofc3YGHn9cBK1+/cRWQAUGDgS++qrk+S4uYvjRiV0Rds1cP7/5bUZERJqSkSGeWCyudm0RsmJjgV69xFwuJb/+Km9r04ahi8yH32pERKQpS5eKbX+KDyF27Ag4ljNrOT0d+PNPeTuHGcmcGLyIiEhTGjUCLl8GGjY07rpTp5S3GWrbVo2qiAzD4EVERJoyYEDFrlMaZgTY40XmxeUkiIjILpw4odweEmLeOsi+MXgREZFd+OUXeVvjxoCPj9lLITvG4EVERFZv1y7g6tWKX5+dLeZ4lda+fcXvSVQRDF5ERGT1bt4EGjQAHnlELIB67JjYk9FQv/8uwldpDF5kbgxeRERk9YYMAZo1A06eBN54AwgLA+rVA559VmxanpFR9vVKw4wAgxeZH4MXERFZPScn4PXXS7bduAF8+inw5JNAzZpiAdWlS5WHJPUFr3btVC+VqExcToKIyAivvQbs3GnpKuxTbq7+Y1lZwLZt4jVunFibq2Bx1fbtlYNXQIAIbETmxOBFRGSECxeA48ctXQWV5+TJomFJPz/g9m35ORxmJEvgUCMREdm0O3eUJ+IzeJElsMeLiMgIHh5AjRqWrsI+SRJw755h59aoAfTtK4Yak5OBqVPl54SFqVsfkSEYvIiIjLB8uXiR+W3dKoKUPkFBRfO6unQBqlQR7aNGKZ/foYPqJRKVi8GLiIisniQBs2eXbHNyAiIjRdCKiQGaNFG+9uhReVvLllyxniyDwYuIiKze99+LJxNr1iwaQoyKAry9y75OpwPOnJG3c5iRLIXBi4iIrF56OnDgQMkhREPoewKVwYsshcGLiIis3uDBFbtOaZgRADp1qngtRJXB5SSIiMhmHTkib3N2BkJCzF8LEcDgRURENkqSgJ9+kre3ayfCF5ElMHgREZHVycoCDh0C8vIqfo8//xSLp5b26KMVvydRZTF4ERGR1XFxAebNA/z9gZEjgS+/BNLSjLvH4cPK7QxeZEkMXkREZJVmzRI9VqtXA08/DdSqBfTqBXzwAXDxYvnX6wteXbqoWyeRMRi8iIjIKoWFiTW7CuTkAD/+CEycCAQGAm3aAC+/rH9IUil4NWoE1K1rspKJysXlJIiIjLBgAbBvn6WrsB/JyfqP/fGHeC1YIHrDii+sKkniWGkcZiRLY/AiIjLCr78C27dbugoqrWBIcvVqoGpV0RsmSfLzOMxIlsahRiIisik5OSIgK2HwIktj8CIiIptQsyYwYoR4AlIpYHl4AKGh5q+LqDgONRIRGWHtWmDNGktXYT8mTxZPMerTurWY1xUTA3TuLPZxzMoChg2TnxseDjjxpx5ZGL8FiYiM4MhxArNJSQGWLy/ZVrUq8NhjImjFxIinG0s7dkyEr9K6dTNJmURGYfAiIiKr9M47wMOH8icWvbzKvm7/fuV2Bi+yBgxeRERkdbKygOrVxRpdnTqJIURDHTggb3N2FuuCEVkagxcREVkdFxdg5kzjr8vLE2GttLAwwNW18nURVRZnKxARkc04cQJ48EDezmFGshYMXkREZDMSEpTbIyLMWgaRXgxeRERkFRITlfdcNMbevfI2Jyega9fK3ZdILQxeRERkFbZsAfz9gZEjga++AtLSjLs+N1d5Yn3HjmLxVCJrwOBFRERW4d//Fvsrrl4NDBwolpHo1UssoHrxYvnX//KL8vyu7t3Vr5Woohi8iIjIKnh6AlOnFn2dkwP8+CMwcaJYKLVNG2DGDODwYeUhSaVhRkAsuEpkLbicBBGREZYuBY4csXQVtis9Xf+xP/4Qr7ffVl5UVSl4Va0qtgoishaaD17Hjh3DrFmzcPjwYeTk5CA4OBiTJ0/G008/bdR9bt26hfnz52Pr1q1ITk6Gu7s7mjdvjhEjRmDcuHEmqp6ItGb/fmD9ektXQXfuiCHJ1atFuIqIUJ7f1akTUK2a+esj0kfTwWvv3r2Ijo6Gq6srBg8eDE9PT2zatAmDBg1CcnIypkyZYtB9Tp48iaioKNy7dw/9+vXDU089hfT0dCQmJuK7775j8CIismI5OcDu3crHOL+LrI2DJEmSpYuoiNzcXLRs2RJXr17FkSNH0LZtWwCATqdDWFgYLl26hHPnziEgIKDM+6SlpSE4OBiZmZn48ccfERISIvt9nIzYzj4tLQ3e3t7Q6XTwKm9DMSLSnKFD2eNlTdq1E8ON164B8fHy4wkJQGSk2csiDTLXz2/N9njt2bMH58+fx+jRowtDFwB4e3vjlVdewahRo7Bq1SrMLGfPiY8//hhXrlzBp59+KgtdAIwKXURk+z76CHj/fUtXYbsOHgTKmini6gr07CnCVr9+QL16ov3RR+XnVqsGdO5smjqJKkqzqSLh7+WJo6KiZMeio6MBAPv27Sv3Phs2bICDgwMGDBiAs2fPYteuXcjMzETLli3Ru3dvODs7q1o3EWlb9eqWrsC2LVsmb6tbF4iJEWHr8cflc7Z0OuDnn+XXRUaKPR+JrIlmg1dSUhIAoFmzZrJj/v7+8PDwKDxHn+zsbJw6dQq+vr748MMPMWvWLOTn5xceDwwMxObNmxEcHKz3HllZWcjKyir8Os3YFf+IiAiAmBxfMFerffuisNWuHeDgoP+6hATl5SV69jRJmUSVotl1vHQ6HQAxtKjEy8ur8Bx97t69i7y8PKSmpmLu3Ll45513cPPmTVy9ehWvv/46Ll68iNjYWDx8+FDvPebPnw9vb+/CV4MGDSr+poiI7Njx46LH6+pV8evZs0UAKyt0AWKtLyUMXmSNNBu81FDQu5WXl4fx48djypQpqF27NurVq4e5c+di4MCBuHz5Mr766iu995gxYwZ0Ol3hKzk52VzlExHZlBdfBOLiiuZtGUopeNWuDZQxWEFkMZoNXgU9Xfp6tQqeTjDkHgDwxBNPyI4XtB0/flzvPVxcXODl5VXiRURE5nHlCnDmjLy9Z8/ye8qILEGzwatgbpfSPK4bN24gPT1dcf5Xce7u7qj39z+tfHx8ZMcL2jIzMytXLBERmcTOncrtvXqZtw4iQ2k2eEX+vTDLrl27ZMd2/v0nMdKAxVsef/xxAMDp06dlxwraGjVqVNEyiYhIgSQBKSmVv8+OHcrtfz/cTmR1NL2AaosWLXDt2jW9C6iePXu2MDSlpKRAp9OhTp06JYYYDx8+jPDwcLRu3RoHDx4s7OW6ceMGOnTogJSUFCQmJqJ58+YG1cUFVImIDPPPfwKJieLJxYKnFx2N6A7IyRF7NpZ+mDwkBPj1V3VrJdtnrp/fmu3xcnJyQnx8PPLz8xEREYG4uDhMmTIFoaGhOHfuHObNm1eip2rGjBkICgrCN998U+I+jz76KCZPnow//vgDISEh+Pe//424uDiEhobi2rVrePPNNw0OXUREZLjXXwdOngTmzgU6dgTq1wfGjAG+/Rb466/yrz9yRB66AKB3b9VLJVKNZoMXAHTv3h0HDx5EeHg4NmzYgCVLlsDPzw9ffPGFwfs0AsD777+PFStWwM/PDytXrsS6devQvHlzfP3115gxY4YJ3wERkf1q2RIYMqTo65QUse1P//5AzZpiHa+lS8XyEkr0DTMyeJE10+xQo7XiUCORbVu3TvTSkDouXgTKWLGn0COPiOHImBixtpejo/jv//5X8jx3d+DuXYCbjpCxuFcjEZEV2rqVm2RbwokT4jV3LlCnDtC9uzx0AUCPHgxdZN00PdRIRET2JyVF9Dwq4TAjWTsGLyIi0owWLYCpU8UG2EoYvMjacaiRiMgI8+cD06dbugrb8e23wMyZ+o9XqQJERBTN72rWDMjOFstIlNaqFdC4selqJVIDgxcRkRECAsSLKi8/Hxg+XN5evTrQp48IW717A6U3Fjl4EHjwQH5dTIxJyiRSFYMXERFZxDffAKdOiV+3aFG0kOqjjwJOZfx02rpVub1fP/VrJFIbgxcREZmdJAH79wPvvy/CVjlb65bw/ffyNh8fEdiIrB2DFxERmZ2DA7B4sfHXJSUB587J23v3LruXjMha8KlGIiLSDA4zktYxeBERkWZs2SJvc3TkMhKkHQxeRERkchkZYl5XZaSmAgcOyNvDw5WXlyCyRgxeRERkcidOAM2bA5MnA3v3Ajk5xt/j++/FEhSlPfFE5esjMhcGLyIiMrmuXYFGjYCFC4HHHwd8fYHBg4HPPxebWhtCaZgRAPr3V61MIpNzkKTKdv5Sceba3ZyISGsOHgS6dZO3V6kihgtjYsTSEi1aiKcei3v4UAwnZmSUbA8KAk6fNl3NZD/M9fObD98SERlh61bgzBlLV6FdtWoBd+6UbMvLE2t67d8PvPQS0LRp0WKqXbsCVasCe/bIQxfA3i7SHgYvIiIjrFsHrF9v6Sps259/iiHJhQsBb2/xxOKtW8rnMniR1jB4ERGR1dLpgA0blI/5+QFhYeath6iyjJpcf+vWLWRmZgIAMjMzcUvfP0GIiIgqydFRzP0aO1b5+BNPiHOItMSoHq9169bhwYMHeP311/H+++/D09MTEydONFVtRERWZ8YMYPRoS1ehTfn5wLBh8jlexXl6iqHFmBigb18xJ2zSJOVzBwwwSZlEJmVU8HrhhRcQERGBAQMGYPv27TigtJIdEZENCw4WLzLepk3Koatx46LJ9BERgLNz0TFJAr7+Wn6NtzfQvbvpaiUyFYOD1+rVqwEAwcHBiIiIwMCBA7F27VoAwIgRI0xTHRER2YT8fGDOHPFrR0egSxcRtGJigFat5MtHFDh+HEhOlrc/8UTJgEakFQYHr4sXLwIA7t+/j4yMDNy/fx8XL16Eg74/LURERH/bvVuszzV1atEQoiGUersA4B//UK82InMyegHVHj164LXXXsNbb72FH3/80VR1aRYXUCUiUockibCWlFSyvVo14PZt8V8itZjr57dRz4OsXr0arVu3Rvfu3RESElI4/EhERKS2U6fkoQsQPWYMXaRVRk2ub9euHfr27QsAeO2113Dt2jWTFEVERPTll8rtHGYkLTMqeLVp06bw1zVq1ECNGjVUL4iIiLQtL0/sv1gZkgRs3Chvd3ERE/KJtIpLzxERkaqOHgU6dwbeegv47TcRooz122/AuXPy9r59xVpfRFrF4EVERKp69FHAwwN47TUgNBRo1Aj497+BHTuAhw8Nu4dSbxcAPP20amUSWYTRTzXqc+HCBQQGBqpxK03jU41ERMCBA2Ix1NLc3YGoKDFc2K+f2G+xNEkCmjcXm2UX5+oqnmb08DBNzWTfzPXzW7VNsoODg/Haa69h2rRpcHLi3ttEZJsOHAD+XtaQylGvHlD6GayMDOCbb8TLwUFscl2wkGpIiGg7eVIeugAR1Bi6SOtU6/GqXbs2UlNT0apVKyxbtgyPPvqoGrfVHPZ4Edm2oUOB9estXYVtathQBLA7d5SHGjds4FAjmY5VruNVlrNnz2LkyJH4448/EBERgbi4ONy/f1+t2xMRkY27cgX4+GPl0OXmJnq8iLROteBVvXp1fPbZZ9izZw+aNGmC+Ph4BAUFYd26dWr9FkREZMMCA/X3aMXEiPlhRFqn2lBjcdnZ2XjzzTfxzjvvICcnBz179sSSJUvsYvI9hxqJbNvBg8Dly5auQhumT5fP8Squ+GbZsbFAUBAwcSLw4Yfyc7/+Gvi//zNdrUTm+vltkuBV4PTp0xg7diwOHToEV1dXvPrqq5g+fbpNT75n8CIiAvbvByIj5e2enkDv3iJo9elTcrPs3FwxIf/WrZLXeHkBN2+KpxqJTEVzc7yUtGrVCgcOHMDSpUvh6uqKmTNnIjQ0FAcPHjTlb0tERBY2e3bRrxs3BiZMAH74oWji/PDhJUMXAOzdKw9dADBgAEMX2Q6TBi9JkvDrr78iLy8P7du3hyRJSExMRGRkJMaMGQOdTmfK356IiCzg0CEgOxt4+23gjz+A8+eBxYuBnj0BZ2f91+l7WnTIENPUSWQJqg41pqWl4aeffsLhw4dx+PBh/Pzzz0hPTwcgQhgABAYGIjc3F1euXEH9+vXxxRdf2NTSExxqJCJ7V5G9Gh8+FIuppqWVbPfzA65eBWx4hgpZCU0uoJqYmFgYsCRJgoODA4KCghAREVH4qlu3LrKzs/H2229j3rx56NGjB3bt2oVu3bqpVQoREVlQRTbI/v57eegCxFOODF1kS1Tr8XJ0dESVKlUQGhpaGLK6deuGmjVr6r1m//796NmzJ7p164bdu3erUYbFsceLiMh4Tz4JbNkibz98WDz5SGRqmuvx2rZtG8LDw+FpxLbxERER6N27N/bv369WGUREpDGpqcC2bfL2wECgc2fz10NkSqoFr969e1foutq1a+PBgwdqlUFERGb08svAgwdigdPu3Sv29OHGjUBOjrx92DCxdyORLbH4yPmLL76Ili1bWroMIiKqgJEjgdatxVY/7u5Ar15ija6+fQF/f8PusWaNcvuwYerVSWQtTLqAqj3iHC8isjf6Ng4PCytalT4kRLn36s8/gWbN5O2dOwM//aR+rUT6aG6OFxGRPfj1VyAlxdJVWJewMOXg9fPP4vX660CDBmI4Mja25JDk2rXK9xw+3HT1ElkSe7xUxh4vItumr3eHDFcwJNmvH/DWW8ClSyWPV60qwm0ZD8UTqY49XkREZJMyMoDNm8VLSd++DF1ku0y6ZRAREZGSli2B4GDlYxxmJFvGHi8iIiMMHy7mNFGR69eBd98t+xwnJyAiQszxiokB6tRRfuqxZk1xDpGtYvAiIjJCnz7iRUUmTFBur1FDDBvGxADR0YCPT9Gx1auBv7fyLWHo0LI30ibSOgYvIiKqsGvXgOXLi75u2bJoCYkuXfTvs7hypXL7qFFqV0hkXRi8iIiowv7zHyA8vGgIsWnT8q+5eBHYu1feHhICPPKI+jUSWRMGLyIiqrA33gCqVTPumtWrldtHjeIWQWT7+FQjERFVmLGhKz9feZjRyQn45z9VKYnIqjF4ERGR2ezeLV8wFRCLqdaubfZyiMyOwYuIiMwmPl65ffRo89ZBZCkMXkREVK4vvgAmTRI9VtnZFbvHnTvAN9/I2+vUET1eRPaAwYuIiMrVrx+wZg3Qsyfg6ws8/bT4OjXV8HusWQPk5MjbR43Sv+wEka1h8CIionJ5egJTp4pfp6UBX34JjBgh5mV16wYsWACcPg1IkvL1kgR8+qnysX/9yzQ1E1kjB0nS98dEG44dO4ZZs2bh8OHDyMnJQXBwMCZPnoynn366Qve7d+8e2rRpg+vXryM6Oho7duww6npz7W5ORJZx8SJw756lq7CMBw/ECvRZWfrPCQwsWtMrIqJoFfojR8SCqqV17w7s2WOaeomMYa6f35ru3N27dy+io6Ph6uqKwYMHw9PTE5s2bcKgQYOQnJyMKVOmGH3P559/HjqdzgTVEpEtePVVYP16S1dhvS5cABYvFi8vLxHUYmOBnTuVz3/mGfPWR2Rpmu3xys3NRcuWLXH16lUcOXIEbdu2BQDodDqEhYXh0qVLOHfuHAICAgy+56ZNm/DUU0/hv//9L55//nn2eBGRzNChDF5q8fERG2y7uVm6EiLz/fzW7ByvPXv24Pz58xg6dGhh6AIAb29vvPLKK8jOzsaqVasMvt/t27cxbtw4DB8+HP34eA0RkSqqVQOCg5WPDRvG0EX2R7NDjQkJCQCAqKgo2bHo6GgAwL59+wy+33PPPYcqVapg8eLFHGokIr369wcaNbJ0FZYhScDChWXP8QKA+vXFHK/YWOCxx4BOnZTPi4tTvUQiq6fZ4JWUlAQAaNasmeyYv78/PDw8Cs8pz9q1a/H1119j8+bNqF69ulHBKysrC1nF/hZKS0sz+Foi0p5Bg8TLHm3Zoj90dexYNKm+bduiPRcPHwZ+/11+/qOP6u8JI7Jlmg1eBeHI29tb8biXl5dBAer69euYMGEChgwZgv79+xtdx/z58zFnzhyjryMi0hJJAmbPLvrazQ3o1UuErX79xCKoSpYtU25/7jnVSyTSBM0GL7U8++yzqFq1Kj744IMKXT9jxgxMnjy58Ou0tDQ0aNBArfKIiKzCt98Ct2+LwBQbK5aBKG9+1t27wIYN8vbq1YGnnjJNnUTWTrPBq6CnS1+vVlpaGqpXr17mPVatWoXt27fjyy+/RK1atSpUh4uLC1xcXCp0LRGRVjz6KJCcXDSEaIjVq5WHJkeN4qR6sl+afaqxYG6X0jyuGzduID09XXH+V3EnTpwAAAwcOBAODg6Fr8aNGwMAdu7cCQcHhxJPTRIR2SNfX+NClyQBS5cqH+OkerJnmu3xioyMxPz587Fr1y4MHjy4xLGdf6/UFxkZWeY9unTpgvT0dFl7eno6NmzYgPr16yM6OhoNGzZUr3AiIjuwezdw9qy8PTISaNnS/PUQWQtNL6DaokULXLt2Te8CqmfPnkWjv5/7TklJgU6nQ506dfROyC9w6dIlNG7cmAuoEhFV0P/9H7B5s7x9/Xqg1L+ViawCF1Ath5OTE+Lj45Gfn4+IiAjExcVhypQpCA0Nxblz5zBv3rzC0AWISfBBQUH45ptvLFc0EZGVW7gQ+Ogj4MqVit/jyhUxGb80Pz/gH/+o+H2JbIFmgxcAdO/eHQcPHkR4eDg2bNiAJUuWwM/PD1988UWF9mkkIrJ3XboAzz8PBAQAoaHAa6+JDa7z8w2/x7JlyufHxRVtmk1krzQ71GitONRIRFrXpw9QepZF7dpiva6YGCAqCvDwUL42Kwto0EAsPVFclSrA5ctAvXqmqZmossz181uzk+uJiCwhNRXIzLR0Fab1zDPy4HXrFrBihXg5O4t1vApWqg8IKDrvq6/koQsAnnySoYsIYI+X6tjjRWTbhg4VE8SpSHCwCGGxscDkycBPP8nP2bNHhDUia8UeLyIi0oRTp8Rr3jzl461aic2yiUjjk+uJiMg6ODsDdesqHxs/3rjFV4lsGXu8iIiM8NhjQLVqlq7CtNLTlfdYLK1gwn1srHgCMihIfo6XFzBihPo1EmkVgxcRkRHi4mx/y5sFC/QHr5CQovlcHTsCjn+Pm8ydC2Rny8//178AT0/T1UqkNQxeRERUKD0dePfdoq/LeoKxQHY2sGSJvN3BQawJRkRFGLyIiKjQRx+JNbdGjxZhq1cv/Wt2FfjqK+DGDXl7TAzQpIlp6iTSKgYvIiIq9H//B0ybVjSEaIjFi5XbJ0xQpyYiW8LgRUREhZo3N+78I0eAn3+Wt7dqBfTooU5NRLaEy0kQEVGF/ec/yu0TJnAJCSIlDF5ERFQhly4BmzbJ26tXB4YNM3s5RJrA4EVEZGdOnADefx84d65y9/ngAyA/X97+3HOAu3vl7k1kq7hXo8q4VyMRWbvcXLHY6Z9/ijldBUtFdO0KOBk481enAxo0AB48KNnu5CR6wrghNmmNuX5+s8eLiMjOODkBr78ufn3unOj96t4d8PUt2gT83r2y7xEfLw9dADB4MEMXUVnY46Uy9ngR2bbcXOXhNa3JzQWCg4ELF5SPV6kiesAKVqkv/rRjbi4QGAgkJ8uv++UXoF0709RMZErm+vnN5SSIiIwwYoToEbJ1eXnAvn3iNXUq0KxZUQi7dk05dD32GEMXUXkYvIiIqFxJSWLpiP/8R/SGKZk82bw1EWkR53gREZHBfHxEb1hpzZoB/fqZvRwizWGPFxGREdq1ExtJ24KjR4Fbt8o/Lzi4aJhxzhxgxw75OZMnG7fNEJG94uR6lXFyPRFpwe3bQOPGQEaG/Jizs3jKsWCZiYAA0X7qFBASIj/f1xe4fBlwczNtzUSmxMn1RERkMu+/XzJ0+fqKocLYWKBXL8DTU37Ne+8p3+uFFxi6iAzFHi+VsceLiKxdQW9XYGDREGLHjvonzQPA1avimtzcku3VqgFXrgA1a5q2ZiJTY48XERGZREYG8PvvQKNGhl+zaJE8dAHAs88ydBEZg8GLiMjOGBO4AOD+fWD5cnl7lSrAiy+qURGR/eAzKEREVKaPPlLeHujpp40PcUT2jsGLiIj0+usvMcyoZNo0s5ZCZBMYvIiIbNCJE8DnnwN371buPp9+Cty5I2+PjgYeeaRy9yayRwxeREQ2qGVLsceiry8QEQG8+y5w5gxgzHPsOTn6l5CYMUOdOonsDYMXEZENcnMDXn4ZyM8HDhwAXnoJCAoCmjcXq8zv2SOCVVnWrRNLRZTWpYsIc0RkPK7jpTKu40VE1iIzU6zVdeOG8nFvb6B3b7GOV58+QI0aRcfy84E2bYDERPl1W7YATzxhmpqJLIXreBERWaFnnwW++srSVRhOaUugAjodsGGDeDk6AuHhRQuqnj6tHLpatxbbCBFRxTB4EREZ4a+/RGCxNQVDkgXDki4uyue9/DI3wyaqDP7xISKiEpydgawseXujRsDgwWYvh8imsMeLiMgITZsCnTpZugrDnTljWA9d3bpiCDEmBnjrLeDoUfk5L70EOPGnBlGlcHK9yji5noisxd27opdKadV5AGjfXszniokB2rUDHBzE0449esjPrVsXOH8ecHU1aclEFsPJ9UREVCkLF5YMXa6uQM+eImz16wfUqye/5s03le81bRpDF5EaGLyIiGzQ3bvA4sVFQ4ixscDjjwPVqum/5tAhYO9eebuvLxAXZ7paiewJgxcRkQ26dUuEqIIhREPo6+2aMqXswEZEhmPwIiKyQS1bGnf+sWPAjh3y9urVgfHj1amJiLicBBERAZgzR7l90iTA09OspRDZNAYvIiI7d+wY8P338nZPT+CFF8xfD5EtY/AiItKor74SSzxUVlm9XdWrV/7+RFSEwYuISKNu3RILugYFicVNDxwAcnONu4e+3i4vLxG8iEhdDF5ERBr1zDNiLa4zZ4B33wUiIgA/P2DYMLHxtSEr1uvr7Zo4EahRQ916iYjBi4hIs1xcgFdeKdl29y7w+ediT8VatcQq9AsXAn/+Kb+evV1E5sflJIiIjDB5MrB1q6WrKJKTo/9Ybq7YAmjPHlF3y5ZiIdXYWKBLF/Z2EVkCgxcRkRFu3ACSkixdRcWcOVM0LOnlBaSlyc9hbxeRaXGokYjIDv31l3I7e7uITIs9XkRERqhdG2jc2NJVFMnJAa5eNezcpk3FMGPDhsCLL8qPs7eLyPQYvIiIjLBokXhZi6VLgXHjlI9VqQKEhxfN62rRApAkIDJS+fwpU9jbRWRqDF5ERBqVlQXMm1eyzdsb6NMHiIkR/y0dpH78Uaz3VVqNGuztIjIHBi8iIo1asQJITi4aQoyNBbp2BapWVT5fkoDXX1c+9tJLYqiRiEyLwYuISKOqVwcSE8UQooND+ed//z1w9Ki8vXZt4Pnn1a+PiOQYvIiINGrQIMPPzc/X39s1Ywbg7q5OTURUNi4nQURkB778Ejh5Ut5ety7w3HNmL4fIbjF4ERHZuJwc/b1dr74KuLqatx4ie8bgRURkpQ4cAK5dq/x9Vq5UXm2/cWPg2Wcrf38iMhyDFxGRlbp7F6hfH2jfHpg9G/jlFzFXyxiZmfr3ZJwzB3B2rnSZRGQEzQevY8eOoW/fvvDx8YG7uzs6d+6MjRs3GnStJEnYvn07xo0bh5CQEHh7e6NatWoIDQ3FvHnz8PDhQxNXT0Sk3xNPAG3bAv/7nwhJHToADRoAcXHAd9/p3/anuI8/Vu41a90aGDpU9ZKJqBwOkiRJli6iovbu3Yvo6Gi4urpi8ODB8PT0xKZNm3D58mW89957mDJlSpnXP3z4EG5ubnBxccFjjz2G4OBgPHz4EDt37kRSUhI6duyIhIQEVKtWzeCa0tLS4O3tDZ1OBy8uikNElbRlC/Dkk8rHXF2Bnj3F+l39+gH16pU8npYGBAYCqanyazdvBvr3V7taIu0y189vzQav3NxctGzZElevXsWRI0fQtm1bAIBOp0NYWBguXbqEc+fOISAgQO89cnJy8M4772D8+PGoXr16ifYBAwbgu+++wzvvvINp06YZXBeDF5Ftmz1brP5uLpIEHD5s2Lnt2hUtpNqunah17lz5eZ07i3sasvYXkb1g8CrHrl27EB0djdGjR+Ozzz4rcWzVqlUYNWoU5syZg5kzZ1bo/j/99BMeffRR9OvXD1u3bjX4OgYvIts2dCiwfr2lqyifn5/o6crNlR/bswfo3t38NRFZM3P9/NbsAqoJCQkAgKioKNmx6OhoAMC+ffsqfP+qf++54eSk2f9FRGTHbt5Ubu/Vi6GLyJI0myqS/n42ulmzZrJj/v7+8PDwKDynIgp60ZSCXXFZWVnIysoq/DotLa3CvycRWT8XF/Ov8p6RYdh57u4iWIWFATNnKvd2ld5Um4jMS7PBS6fTAQC8vb0Vj3t5eRWeY6zt27dj2bJlCAoKwjPPPFPmufPnz8ccfc9qE5HNWbFCvMzlyBGgSxf9xxs0KJrX9dhjYsL9oEHKoWvQIPFkJBFZjmaDl6kcO3YMgwYNgre3N7788ku4uLiUef6MGTMwefLkwq/T0tLQoEEDU5dJRHai9L/rHBxEj1ZB2AoOLjlJ/tgxQGlFHScn4K23TFsrEZVPs8GroKdLX69WWlpaiScVDXH8+HFERUXB0dERO3fuROvWrcu9xsXFpdxwRkRUEUeOADt2iCHEqCggJkYsG+Hnp3y+JAEvvaR87LnngCZNTFcrERlGs8GrYG5XUlIS2rdvX+LYjRs3kJ6ejrCwMIPvd/z4cfTq1Qv5+fnYtWsXOnbsqGq9RETGSk4Gtm8vGkIsz44dwN/PHZXg4aF/r0YiMi/NrlwfGRkJQCwrUdrOnTtLnFOegtCVl5eHHTt2oFOnTuoVSkRUQQMHAr17Gxa68vKA6dOVj02bBtSurW5tRFQxml3HKzc3Fy1atMC1a9f0LqB69uxZNGrUCACQkpICnU6HOnXqlJiQ/8svv6Bnz57Izc3Fjh07EB4eXqm6uI4XEVnCZ58BSs8C+fkBf/4per2ISD8uoGoAY7YMGjVqFFatWoUVK1Zg1KhRAIC7d++iadOmuHfvHnr37q3Y0+Xj44NJkyYZXBODFxGZW0YG0KwZkJIiP/bRR8D48eaviUhruICqAbp3746DBw9i1qxZ2LBhA3JychAcHIwFCxZg0KBB5V6flpaGe/fuAQB27NiBHTt2yM4JCAgwKngRERlCkoCjR8XyDpVdp/n995VDV/PmwJgxlbs3EalL0z1e1og9XkRkqGeeEZtV9+0rloaIjgb0LE2oV0qK6O1SWmSVG2ETGc5cP781O7meiEjrXn0V0OmAtWvF4qa1agE9ewKLFgHnzxt2j1mzlENXRATwxBOqlktEKmCPl8rY40VExnjmGTExXklQUNFCqZ07y4ckf/8dCA0F8vPl1/78M8BVcYgMxzleRERWaOFC4MAB9e5344b+Y4mJ4vXOO0CNGvIhyZdeUg5dQ4cydBFZK/Z4qYw9XkS2behQYP16y9bg5AS0aQOcPCk/5uICnDkD/L2SDhEZiHO8iIhIUW6ucugCgIkTGbqIrBmDFxGRRri5iQnz//yn8vGaNYEZM8xbExEZh3O8iIiMsGIFEB+v3v0++KDssFS/vtgcOzYW6N4dyMoCmjZVPnfuXMDHR73aiEh9DF5EREZwcVHvXpmZwOLF8vaOHYueZgwNBRwcio69/jqQmiq/plUrIC5OvdqIyDQYvIiILGT5cvFUY7VqQK9eImj17QvUqaN8flKS6CFT8p//VH4FfCIyPf4xJSKyAEkC0tKA778XQ4hubuVf89JLQE6OvL1vX7HEBBFZPwYvIiILcHAQw4aG2rNHbAFUWpUqwHvvqVYWEZkYn2okIrJyublimQgl48eLFe6JSBsYvIiIrNyyZWJ7oNKqVxd7NRKRdjB4ERGZwMWLoqeqslJT9Q9Jzp4t1u4iIu1g8CIiMoHjxwFf36Ithu7dq9h9Zs5UvrZVK2DcuMrVSETmx70aVca9GokIEJtXh4QAf/whvq5SBejWTSwZERMDNG9e/j1++w145BHljbB/+AHo2VPdmonsGfdqJCLSMEfHkvOv8vKAhARgyhSgRQvxmjoV2LdPeUhSksSEeqXQ9eSTDF1EWsUeL5Wxx4vItn36KXDsmGHn5ueL85XCU3HVqwN9+oiesN69xddffQUMHCg/18UFOH0aCAw0vnYi0s9cP7+5jhcRkRF27xZzttR07x6wbp14VakCPPoocOqU8rlTpjB0EWkZgxcRkRXJywMOHFA+Vrdu2RtqE5H14xwvIiIr0agRMHw4ULWq8vF33gE8PMxaEhGpjD1eRERGWLwYmDfPsHOvXxdPMuqb4+XgAHTuLJ50jI0VS0TExirvx9i1q1iagoi0jcGLiMgIvr7iZYiFC+Why8NDbGgdGys2ty5+r+++A7Ztk9/H0RH4739FUCMibWPwIiIygevXxVY/gBhCLFi/KzJSPJlYWmam/v0Y//1vIDTUZKUSkRkxeBERmcDu3WIdr9hYoHXr8nur3n1XbDNUmq8vMHeuaWokIvNj8CIiMoHhww0/9+JFYP585WMLFgA+PqqURERWgE81EhFZkCQBL7wAPHwoP9a5MzBypPlrIiLTYfAiIrKgb78Fvv9e3u7gICbUO/JvaSKbwj/SRERGunNHnftkZAATJigfGzsWaN9end+HiKwHgxcRkZE+/VSsuTV9OnDwoFhtviLefBO4ckXe7utr+FphRKQt3CRbZdwkm8j2paeLJSJSU8XXNWuKNbliYsQaXd7e5d/j9GmxRERurvzYqlXAiBGqlkxE5TDXz2/2eBERGcnDA5g2rejr1FRgzRpg0CCgVi2gZ0+xwv2FC8rXS5JYm0spdHXrZtwTkUSkLVxOgojICF9+CZw6JXq9lOTmijW8du8GJk0SQ5IxMWI9ry5dgCpVgHXrgIQE+bVVqgAff8wV6olsGYMXEZERvvkGWL/e8PNPnxavd94RQ5I9egA7dyqf++KLQJs26tRJRNaJwYuIyExSU4GNG5WP1asnVronItvGOV5ERGZQs6aYeK/P4sVi7hgR2TYGLyIiI8ydCxw9athwY/ElJ65eBa5dUz6vXz/gH/9Qt04isk4caiQiMkLTpuK/y5bJj1WtCkRGion0MTFAYGDRsQULgN9/l1/j5iZWqOeEeiL7wOBFRGSkCxfEWluAGELs169oDS+l5X8uXgTmzFG+15w5Yk0wIrIPDF5EREb6+mtg6lTRs9W5s1gGQp+CNbsyM+XHgoPFkhNEZD8YvIiIjDR1quHnfvklsH27vN3BQQxXVq2qXl1EZP04uZ6IyETu3St7E+wuXcxbDxFZHoMXEZGJTJsG3Lwpb/fzA+bPN389RGR5DF5ERCaQkAB8+qnysUWLAB8fMxZDRFaDwYuISGWZmUBcnPKxvn3FZtpEZJ8YvIiIVPbmm0BSkrzd3R1YsoRrdhHZMwYvIiIjHD0K/PKLWCZCyW+/iQ2xlbz1FtCwoelqIyLrx+BFRGSEGjWAsDCgfn3xZOLWrUVrdOXlAWPGALm58uvCwoDnnzdvrURkfbiOFxGREY4cEU8lXr8OLF8uXm5uQM+e4r8//yy/xskJ+OSTshdaJSL7wOBFRGSE7duBlJSSbZmZwHff6b9m2jQgJMS0dRGRNnCokYjICCNGiGHG4ho1krcVaNoUeP11k5dFRBrB4EVEZARfXzHMGB4OvP028McfwCuvAFevKp8fHy+GIImIAA41EhEZxc1NrEZfq5b4+to1/Xs3PvccEBlpvtqIyPoxeBERGaFVq6JfSxIwfjyQliY/r359YMEC89VFRNrAoUYiograuBH49lvlY8uWAV5e5q2HiKwfgxcRUQXcvg288ILysWHDxNZARESlMXgREVXACy+I8FWary+wcKH56yEibWDwIiIy0qZNwIYNysf++9+iifdERKUxeBERGeHOHTGhXsmTTwIDB5q1HCLSGM0Hr2PHjqFv377w8fGBu7s7OnfujI0bNxp1j6ysLMydOxfNmjWDq6sr6tati7i4ONy6dctEVRORVk2YACj91VC9OrBkCeDgYP6aiEg7NL2cxN69exEdHQ1XV1cMHjwYnp6e2LRpEwYNGoTk5GRMmTKl3Hvk5+ejf//+2LlzJzp37owBAwYgKSkJ8fHx2L17N44cOQJfX18zvBsisnbffAOsX6987MMPAX9/89ZDRNrjIEmSZOkiKiI3NxctW7bE1atXceTIEbRt2xYAoNPpEBYWhkuXLuHcuXMICAgo8z4rVqzAv/71LwwZMgSff/45HP7+5+rSpUsxbtw4xMXFYdmyZQbXlZaWBm9vb+h0OnjxWXIim5GaCrRuLRZPLe2JJ4DNm9nbRaRl5vr5rdmhxj179uD8+fMYOnRoYegCAG9vb7zyyivIzs7GqlWryr3PJ598AgCYP39+YegCgLFjxyIwMBCff/45MjMzVa+fiLRl4kTl0OXjAyxdytBFRIbRbPBKSEgAAERFRcmORUdHAwD27dtX5j0ePnyIo0ePokWLFrKeMQcHB/Tq1QsZGRk4fvy4OkUTkSZt2QJ8/rnysQ8+AOrUMW89RKRdmp3jlZSUBABo1qyZ7Ji/vz88PDwKz9Hn/PnzyM/PV7xH8XsnJSWhW7duiudkZWUhKyur8GudTgdAdFkSkfbdvQvExSkfi4oSw4z8406kfQU/t009A0uzwasg4Hh7eyse9/LyKjynMvcofp6S+fPnY86cObL2Bg0alPl7E5H27dolhhqJyHakpqbqzQVq0GzwshYzZszA5MmTC7++f/8+AgICcOXKFZN+cNYmLS0NDRo0QHJysl09VMD3zfdtD/i++b7tgU6nQ8OGDVGjRg2T/j6aDV4FoUZfb1RaWhqqV69e6XsUP0+Ji4sLXFxcFO9tT9+wBby8vPi+7Qjft33h+7Yv9vq+HR1NO/1ds5Pri8+/Ku3GjRtIT0/XO3erQGBgIBwdHfXOBStrHhkRERGRsTQbvCIjIwEAu3btkh3buXNniXP0cXNzQ1hYGM6ePYvLly+XOCZJEn744Qe4u7ujQ4cOKlVNRERE9kyzwatHjx4IDAzEunXrcPLkycJ2nU6HefPmwdnZGSNGjChsT0lJwZkzZ2TDinF/P640Y8aMEk8yLFu2DBcuXMA///lPuLm5GVyXi4sLZs2apTj8aMv4vvm+7QHfN9+3PeD7Nu371uzK9YD+LYMuX76M9957r8SWQaNGjcKqVauwYsUKjBo1qrA9Pz8fffv2LdwyKDIyEn/++Se+/vprNGrUCEePHuWWQURERKQKzfZ4AUD37t1x8OBBhIeHY8OGDViyZAn8/PzwxRdfGLRPIyAm0W3ZsgWzZ8/G7du3sXDhQhw6dAjPPPMMfvrpJ4YuIiIiUo2me7yIiIiItETTPV5EREREWsLgRURERGQmDF4VlJOTg02bNmHkyJEICgqCh4cHPD090alTJyxZsgR5eXlG3/PYsWPo27cvfHx84O7ujs6dO2Pjxo0mqL5yTp48iVdeeQXR0dHw9fWFg4MDHnvssQrdq1GjRnBwcFB8VfSepqLm+wa083kDYjHhyZMnIyAgAC4uLmjUqBGmTZuG9PR0o+6j77N2cHAo8dCLOanxOWRlZWHu3Llo1qwZXF1dUbduXcTFxeHWrVsmqrryKvu+V65cWebnmZCQYLriK2jt2rUYO3YsOnToABcXFzg4OGDlypVG3yc/Px8ffvghgoOD4ebmBl9fXwwZMgQXLlxQv2gVqPG+ExISyvy8K/L/0ZSuXbuGRYsWISoqCg0bNoSzszP8/f0xYMAAHD161Kh7qf15a3bleks7f/48nnrqKXh4eKBHjx544oknoNPp8N1332H8+PHYtm0bvv32Wzg4OBh0P31PaA4aNAjJyckGPyxgDps3b8b8+fPh7OyM5s2b486dO5W6n7e3NyZNmiRrb9SoUaXuqzY137eWPu+MjAxERkbi5MmTiIqKwpAhQ3DixAm899572LdvH/bv3w9XV1eD7xcQEKAYstq2bate0QZS43PIz89H//79C5+MHjBgAJKSkhAfH4/du3fjyJEjVveQjprff/3791f87Kztzy8AvPbaa7h8+TJq1aqFOnXqyNZvNNTYsWMRHx+P1q1bY8KECbh+/To2btyIXbt24ciRI1a36LZa7xsQ62Mq/YPTEn9+y/Lhhx9iwYIFaNKkCaKiouDr64ukpCRs3rwZmzdvxrp16zBo0CCD7qX65y1RhVy9elX66KOPpPT09BLt6enpUocOHSQA0saNGw26V05OjtSkSRPJxcVFOnHiRGH7/fv3pebNm0vOzs7SpUuX1Cy/Un7//Xfpl19+kbKzs6WUlBQJgBQZGVmhewUEBEgBAQGq1mcqar1vrX3eM2fOlABI06dPL9E+ffp0CYA0b948g+9Vme8Vtan1OXz22WcSAGnIkCFSfn5+YfuSJUskAFJcXJwpyq8wtd73ihUrJADSihUrTFesyn744YfC9zZ//vwK1b9nzx4JgBQRESFlZWUVtm/btk0CIEVFRalZsirUeN979+6VAEizZs1Sv0AT2LRpk5SQkCBr379/v1S1alWpevXq0sOHD8u9jyk+bwYvE1i3bp0EQPr3v/9t0Pk7d+6UAEijR4+WHVu5cqUEQJozZ47aZarCnoJXcZV531r6vPPz86W6detKHh4eiv/I8PDwkAIDAw2+nzUFL7U+hy5dukgAZGElPz9fCgwMlNzd3aW//vpLtborS633rcXgVVxFA8iQIUMkANK+fftkxx577DEJgHT58mWVqlSfvQSvskRFRUkApGPHjpV7rik+bw41mkDVqlUBAE5Ohv3vLZgLERUVJTsWHR0NANi3b586xVmhrKwsrFy5EtevX4eXlxc6duyITp06Wbosk9HS552UlITr168jOjoa7u7uJY65u7sjPDwcO3fuRHJyMho0aGDQPe/fv4/ly5fjzp07qFGjBsLDwxEcHGyK8sukxufw8OFDHD16FC1atEBAQECJYw4ODujVqxeWLVuG48ePo1u3buoUXklqf/+dOHECqampyM3NRaNGjdCzZ0/UrFlTlVqtUUJCQuH3fmnR0dFISEjAvn37MHz4cAtUZ3pJSUlYtGgRMjMzUb9+fTz++OOoV6+epcsyijE/o03xeTN4mcBnn30GQPkvNiVlbcbt7+8PDw8PvRt524IbN25g9OjRJdo6duyI9evXo0mTJhaqynS09HmXt1F8s2bNsHPnTiQlJRkcvH799VeMHTu2RFvv3r2xatUq1K5du3IFG0GNz+H8+fPIz88v8/9Pwe9lLcFL7e+/Dz74oMTXbm5umDVrFqZPn165Qq1QRkYGUlJS0KZNG1SpUkV2vPjnbavWrVuHdevWFX7t5OSEF154Ae+++67i/xNrc+XKFfz444+oU6dOuf/gM9XnzacaVbZ8+XJs374djz/+OPr27WvQNQX7R3p7eyse9/Lyku0xaStGjx6N3bt34+bNm8jIyMCJEycwfPhwHDt2DD169MCDBw8sXaLqtPR5G1Jr8fPKM2XKFBw+fBh37txBWloaDh8+jD59+mDHjh2IiYmp0NPAFaXG56D2/x9zUOv7r3Hjxvjwww9x7tw5/PXXX7h69SpWr16NGjVq4OWXX8aHH36oat3WQIuft1p8fX3x9ttv4/fff0d6ejpu3ryJzZs3o2nTpli4cCFeeuklS5dYrpycHAwfPhxZWVlYsGBBuUHRVJ+33fd4TZkyBVlZWQafP3HiRL3/ut26dSuef/55BAQEYO3atWqVaBJqvu/KmDVrVomv27Zti9WrVwMA1qxZg08++QSTJ09W7fezlvdtbtbyvt97770SX3fp0gVbt27F448/jn379mHLli34xz/+ofrvS+qLjIxEZGRk4df16tXD8OHD0a5dO3To0AGzZ8/GuHHjDJ5yQdatdevWaN26deHX7u7u6N+/Pzp16oSQkBB88MEHmD59ull7rY2Rn5+PUaNGYf/+/RgzZoxFh4Lt/k/EsmXLkJGRYfD5Tz31lOIPpG3btuGpp56Cn58f9uzZgzp16hh8z4I0rS81p6WloXr16gbfzxBqvW9TGTt2LNasWYNDhw6pGrys4X1r6fM2pFZA/78IDeHo6IgxY8Zg3759OHTokNmClxqfgzn+/6jN1N9/rVu3RteuXfHjjz8iMTHRIvP3TEWLn7ep+fv7o3///oiPj8fRo0cRGxtr6ZJk8vPz8a9//Qvr1q3DsGHDsHTpUoOuM9XnbffBy9gFIJV8//33GDBgAGrVqoW9e/ciMDDQqOuLjxO3b9++xLEbN24gPT0dYWFhla6zODXetynVqlULAIwKC4awhvetpc+7vDkM5c0BM5SpPu+yqPE5BAYGwtHR0eT/f9Rkju8/S3ye5uDu7o46derg4sWLyMvLkw1VWePnbQ7W/Hnn5+dj9OjRWL16NYYMGYKVK1fC0dGwWVam+rw5x6uSCkJXjRo1sHfvXjRt2tToexR01+/atUt2bOfOnSXOsRcFKwtb4yKMlaWlz7tZs2aoW7cuDh06JPtLNSMjA4cOHULjxo0NnlivjyU+bzU+Bzc3N4SFheHs2bOyRSklScIPP/wAd3d3dOjQQaWqK8/U3395eXk4fvw4AMie9LQFkZGRhd/7pRX8/4uIiDB3WRZlrX9fFw9dgwYNwpo1a4x+AMAkn7dRi09QCdu2bZNcXFwkf39/6cyZM+Wen52dLSUmJkp//vlnifacnBwpMDCwzAUNL168qHL16jBkPSt97zsxMVHKyMiQnZ+YmCj5+/vrXTvFGlTmfWvt8zZ2AdWMjAwpMTFRtrbNb7/9JmVnZ8vuf+jQIalatWpS1apVZf+vTMnYz+H69etSYmKidP/+/RL30eICqmq87+PHj8vunZubK02dOlUCIHXv3t1Ub0EV5a1ndfv2bSkxMVG6fft2iXYtLqBaXEXft9LnLUmStGjRIgmA1KxZMyk3N1ftcissLy9PGjlypARAGjhwoJSTk1Pm+eb8vBm8KigxMVFycXGRAEiDBw+WZs2aJXuV/sa+ePGiBEBxwdA9e/ZIVatWlTw9PaUxY8ZIkydPlgICAiQA0nvvvWeeN2WgxMREaeTIkdLIkSOlp59+WgIg+fn5FbaNHDmyxPn63vesWbMkT09PqV+/ftL48eOladOmSf3795eqVq0qAZBmzJhhvjdlALXetyRp6/NOT0+XQkNDC/+SefnllwsXIOzYsaNscdCChRZLh9KRI0dKtWrVkp588knphRdekCZPnixFR0dLDg4OkqOjo7RkyRIzvivBmM+h4C/x0n+u8/LypOjoaAmA1LlzZ2n69OnSgAEDJAcHB6lx48bSrVu3zPiODKPG+wYghYSESMOGDZOmT58ujRkzRmrevLkEQKpfv750/vx5M74jw3zyySeFf1bbtWsnAZDCw8ML2z755JPCc2fNmqV3wdBnn31WAiC1bt1aeumll6Thw4dLzs7OUo0aNaSzZ8+a8R0ZRo33HRAQIDVt2lQaPHiwNHXqVGncuHHSI488IgGQfHx8pKNHj5r5XZWt4H14eHhIr776quLP6OL/8DDn583gVUEFP1zKepX+wVPWD2JJkqSjR49KvXv3lry8vCQ3NzcpLCxM+uKLL0z/ZoxkyHsvTt/7TkhIkJ5++mmpWbNmkpeXl+Tk5CT5+/tL/fv3l3bu3GnGd2QYtd53Aa183pIkekMmTZokNWjQQKpatarUsGFDacqUKVJaWprsXH3B6+uvv5b69+8vNW7cWHJ3d5eqVq0qNWjQQBoyZIhF/9I29HPQF0AkSZIePnwozZ49W2rSpInk7Ows+fv7S88++6x048YNM7yDiqns+54yZYoUHh4u+fn5SVWrVpXc3d2l0NBQ6bXXXpPu3r1rpndhnIL3ou9V/B9PZf0gzsvLkxYvXiy1bt1acnFxkWrWrCkNGjTIrD22xlDjfb/99ttS9+7dpbp160ouLi6Sm5ub1LJlS2nSpElScnKyed+QAcp7z6W/p835eTtIkiSVMxpJRERERCrg5HoiIiIiM2HwIiIiIjITBi8iIiIiM2HwIiIiIjITBi8iIiIiM2HwIiIiIjITBi8iIiIiM2HwIiIiIjITBi8iIiIiM2HwIiIiIjITBi8iIhXNnj0bK1eutHQZRGSlGLyIiCrp1KlTWLVqFYpvfZubm4uFCxfixo0bFqyMiKwNgxcRUSX5+/vj+PHj6NGjBxITE/HTTz+hW7duSEtLg6enp6XLIyIr4iAV/ycaERFV2J49e9C3b19Uq1YN+/fvR5s2bSxdEhFZGQYvIqJKSk1NxZtvvolff/0Vvr6+8PHxwW+//YY+ffpgypQpcHd3t3SJRGQlONRIRFRJ165dQ2hoKHbv3o2goCB06dIFBw4cgKenJx48eGDp8ojIijhZugAiIq0LCQlBSEhIiTYnJye8+OKLFqqIiKwVhxqJiIiIzIRDjURk9zZv3gwHBwe0a9dO7zkPHjxAnTp1ULVqVZw+fdqM1RGRLWHwIiK7FxoaCgBITExEXl6e4jlvvfUWbty4gXHjxqFVq1bmLI+IbAiHGomIAPj4+ECn0+HMmTNo0aJFiWMXL15EUFAQPDw8kJSUhOrVq1uoSiLSOvZ4ERGhqNfr1KlTsmPTpk1DVlYW5syZw9BFRJXC4EVEhKLg9fvvv5do379/PzZt2oQ2bdrgueees0RpRGRDGLyIiAC0bdsWQMker/z8fEyaNAkAsGjRIlSpUsUClRGRLWHwIiKCcvBasWIFTpw4gf79+6NHjx4WqoyIbAkn1xMRAcjKyoKHhwfy8/ORnp6O3NxcNG/eHPfu3cMff/yBJk2aWLpEIrIB7PEiIgLg4uKCli1bIj8/H6dPn8a8efNw48YNTJo0iaGLiFTD4EVE9LeC4cZvv/0WCxcuhL+/P1599VXFc//3v//B0dERS5cuLWzLzMxEp06d0L59e6Snp5ujZCLSGAYvIqK/FTzZ+NZbbyErKwvz5s2Dp6en4rnt2rXDP/7xD8yfPx/Z2dnIz8/H0KFDcevWLXz//ffw8PAwZ+lEpBHcJJuI6G8FPV55eXno0KEDRo0aVeb5c+fORXBwMD777DMkJiZi//79OHToEPz9/U1fLBFpEifXExFVwogRI7Bp0ybk5+fjhx9+QNeuXS1dEhFZMQ41EhFVQrNmzfDXX38hLi6OoYuIysUeLyKiCvrqq68wePBgtG/fHhcuXMCFCxf0zgkjIgLY40VEVCEHDx7E8OHD8cYbb2DLli3IyMjAwoULLV0WEVk59ngRERnpzJkzCA8Px8CBAwuXk5g8eTI+++wzXLhwATVq1LBwhURkrRi8iIiMcPPmTXTu3BmtW7fGli1bCvdvvHnzJgIDA/H8889jwYIFFq6SiKwVgxcRERGRmXCOFxEREZGZMHgRERERmQmDFxEREZGZMHgRERERmQmDFxEREZGZMHgRERERmQmDFxEREZGZMHgRERERmQmDFxEREZGZMHgRERERmQmDFxEREZGZMHgRERERmcn/A5OWuzbcDi9sAAAAAElFTkSuQmCC\n",
         "text/plain": "<Figure size 640x480 with 1 Axes>"
        },
        "metadata": {},
        "output_type": "display_data"
       }
      ]
     }
    },
    "038b437b1a6e44d1bbba3e9f50523d36": {
     "model_module": "@jupyter-widgets/controls",
     "model_module_version": "1.5.0",
     "model_name": "FloatSliderModel",
     "state": {
      "_dom_classes": [],
      "_model_module": "@jupyter-widgets/controls",
      "_model_module_version": "1.5.0",
      "_model_name": "FloatSliderModel",
      "_view_count": null,
      "_view_module": "@jupyter-widgets/controls",
      "_view_module_version": "1.5.0",
      "_view_name": "FloatSliderView",
      "continuous_update": true,
      "description": "PoTilde",
      "description_tooltip": null,
      "disabled": false,
      "layout": "IPY_MODEL_426330b0dc3143298bd47d2c249a71c7",
      "max": 1.5,
      "min": -1.5,
      "orientation": "horizontal",
      "readout": true,
      "readout_format": ".2f",
      "step": 0.05,
      "style": "IPY_MODEL_625fd5e1a97940bebbea64c230676aba",
      "value": 1
     }
    },
    "0525ac3eaf71457b84d604eed5693fd5": {
     "model_module": "@jupyter-widgets/base",
     "model_module_version": "1.2.0",
     "model_name": "LayoutModel",
     "state": {
      "_model_module": "@jupyter-widgets/base",
      "_model_module_version": "1.2.0",
      "_model_name": "LayoutModel",
      "_view_count": null,
      "_view_module": "@jupyter-widgets/base",
      "_view_module_version": "1.2.0",
      "_view_name": "LayoutView",
      "align_content": null,
      "align_items": null,
      "align_self": null,
      "border": null,
      "bottom": null,
      "display": null,
      "flex": null,
      "flex_flow": null,
      "grid_area": null,
      "grid_auto_columns": null,
      "grid_auto_flow": null,
      "grid_auto_rows": null,
      "grid_column": null,
      "grid_gap": null,
      "grid_row": null,
      "grid_template_areas": null,
      "grid_template_columns": null,
      "grid_template_rows": null,
      "height": null,
      "justify_content": null,
      "justify_items": null,
      "left": null,
      "margin": null,
      "max_height": null,
      "max_width": null,
      "min_height": null,
      "min_width": null,
      "object_fit": null,
      "object_position": null,
      "order": null,
      "overflow": null,
      "overflow_x": null,
      "overflow_y": null,
      "padding": null,
      "right": null,
      "top": null,
      "visibility": null,
      "width": null
     }
    },
    "31f92bcaae814a2e937f99ee6b950f06": {
     "model_module": "@jupyter-widgets/base",
     "model_module_version": "1.2.0",
     "model_name": "LayoutModel",
     "state": {
      "_model_module": "@jupyter-widgets/base",
      "_model_module_version": "1.2.0",
      "_model_name": "LayoutModel",
      "_view_count": null,
      "_view_module": "@jupyter-widgets/base",
      "_view_module_version": "1.2.0",
      "_view_name": "LayoutView",
      "align_content": null,
      "align_items": null,
      "align_self": null,
      "border": null,
      "bottom": null,
      "display": null,
      "flex": null,
      "flex_flow": null,
      "grid_area": null,
      "grid_auto_columns": null,
      "grid_auto_flow": null,
      "grid_auto_rows": null,
      "grid_column": null,
      "grid_gap": null,
      "grid_row": null,
      "grid_template_areas": null,
      "grid_template_columns": null,
      "grid_template_rows": null,
      "height": null,
      "justify_content": null,
      "justify_items": null,
      "left": null,
      "margin": null,
      "max_height": null,
      "max_width": null,
      "min_height": null,
      "min_width": null,
      "object_fit": null,
      "object_position": null,
      "order": null,
      "overflow": null,
      "overflow_x": null,
      "overflow_y": null,
      "padding": null,
      "right": null,
      "top": null,
      "visibility": null,
      "width": null
     }
    },
    "426330b0dc3143298bd47d2c249a71c7": {
     "model_module": "@jupyter-widgets/base",
     "model_module_version": "1.2.0",
     "model_name": "LayoutModel",
     "state": {
      "_model_module": "@jupyter-widgets/base",
      "_model_module_version": "1.2.0",
      "_model_name": "LayoutModel",
      "_view_count": null,
      "_view_module": "@jupyter-widgets/base",
      "_view_module_version": "1.2.0",
      "_view_name": "LayoutView",
      "align_content": null,
      "align_items": null,
      "align_self": null,
      "border": null,
      "bottom": null,
      "display": null,
      "flex": null,
      "flex_flow": null,
      "grid_area": null,
      "grid_auto_columns": null,
      "grid_auto_flow": null,
      "grid_auto_rows": null,
      "grid_column": null,
      "grid_gap": null,
      "grid_row": null,
      "grid_template_areas": null,
      "grid_template_columns": null,
      "grid_template_rows": null,
      "height": null,
      "justify_content": null,
      "justify_items": null,
      "left": null,
      "margin": null,
      "max_height": null,
      "max_width": null,
      "min_height": null,
      "min_width": null,
      "object_fit": null,
      "object_position": null,
      "order": null,
      "overflow": null,
      "overflow_x": null,
      "overflow_y": null,
      "padding": null,
      "right": null,
      "top": null,
      "visibility": null,
      "width": null
     }
    },
    "44f16b320f2c4e5a8110351223f64868": {
     "model_module": "@jupyter-widgets/controls",
     "model_module_version": "1.5.0",
     "model_name": "SliderStyleModel",
     "state": {
      "_model_module": "@jupyter-widgets/controls",
      "_model_module_version": "1.5.0",
      "_model_name": "SliderStyleModel",
      "_view_count": null,
      "_view_module": "@jupyter-widgets/base",
      "_view_module_version": "1.2.0",
      "_view_name": "StyleView",
      "description_width": "",
      "handle_color": null
     }
    },
    "625fd5e1a97940bebbea64c230676aba": {
     "model_module": "@jupyter-widgets/controls",
     "model_module_version": "1.5.0",
     "model_name": "SliderStyleModel",
     "state": {
      "_model_module": "@jupyter-widgets/controls",
      "_model_module_version": "1.5.0",
      "_model_name": "SliderStyleModel",
      "_view_count": null,
      "_view_module": "@jupyter-widgets/base",
      "_view_module_version": "1.2.0",
      "_view_name": "StyleView",
      "description_width": "",
      "handle_color": null
     }
    },
    "6886c9f60bfc4500a22bf784d1292197": {
     "model_module": "@jupyter-widgets/controls",
     "model_module_version": "1.5.0",
     "model_name": "FloatSliderModel",
     "state": {
      "_dom_classes": [],
      "_model_module": "@jupyter-widgets/controls",
      "_model_module_version": "1.5.0",
      "_model_name": "FloatSliderModel",
      "_view_count": null,
      "_view_module": "@jupyter-widgets/controls",
      "_view_module_version": "1.5.0",
      "_view_name": "FloatSliderView",
      "continuous_update": true,
      "description": "Po",
      "description_tooltip": null,
      "disabled": false,
      "layout": "IPY_MODEL_94a1cc0075ad475fb410c3c58a26ab6c",
      "max": 10,
      "min": -10,
      "orientation": "horizontal",
      "readout": true,
      "readout_format": ".2f",
      "step": 0.5,
      "style": "IPY_MODEL_44f16b320f2c4e5a8110351223f64868",
      "value": 2
     }
    },
    "7547f7356cca4c679fa1b0301827d76f": {
     "model_module": "@jupyter-widgets/controls",
     "model_module_version": "1.5.0",
     "model_name": "VBoxModel",
     "state": {
      "_dom_classes": [
       "widget-interact"
      ],
      "_model_module": "@jupyter-widgets/controls",
      "_model_module_version": "1.5.0",
      "_model_name": "VBoxModel",
      "_view_count": null,
      "_view_module": "@jupyter-widgets/controls",
      "_view_module_version": "1.5.0",
      "_view_name": "VBoxView",
      "box_style": "",
      "children": [
       "IPY_MODEL_6886c9f60bfc4500a22bf784d1292197",
       "IPY_MODEL_e047576cc5d84bb5a824dcdeaeda965c"
      ],
      "layout": "IPY_MODEL_ff97b3b7e5b04fd782400477593961e4"
     }
    },
    "94a1cc0075ad475fb410c3c58a26ab6c": {
     "model_module": "@jupyter-widgets/base",
     "model_module_version": "1.2.0",
     "model_name": "LayoutModel",
     "state": {
      "_model_module": "@jupyter-widgets/base",
      "_model_module_version": "1.2.0",
      "_model_name": "LayoutModel",
      "_view_count": null,
      "_view_module": "@jupyter-widgets/base",
      "_view_module_version": "1.2.0",
      "_view_name": "LayoutView",
      "align_content": null,
      "align_items": null,
      "align_self": null,
      "border": null,
      "bottom": null,
      "display": null,
      "flex": null,
      "flex_flow": null,
      "grid_area": null,
      "grid_auto_columns": null,
      "grid_auto_flow": null,
      "grid_auto_rows": null,
      "grid_column": null,
      "grid_gap": null,
      "grid_row": null,
      "grid_template_areas": null,
      "grid_template_columns": null,
      "grid_template_rows": null,
      "height": null,
      "justify_content": null,
      "justify_items": null,
      "left": null,
      "margin": null,
      "max_height": null,
      "max_width": null,
      "min_height": null,
      "min_width": null,
      "object_fit": null,
      "object_position": null,
      "order": null,
      "overflow": null,
      "overflow_x": null,
      "overflow_y": null,
      "padding": null,
      "right": null,
      "top": null,
      "visibility": null,
      "width": null
     }
    },
    "dce5caeaa1ef4fa4a5b6a4f951ce3dc9": {
     "model_module": "@jupyter-widgets/controls",
     "model_module_version": "1.5.0",
     "model_name": "VBoxModel",
     "state": {
      "_dom_classes": [
       "widget-interact"
      ],
      "_model_module": "@jupyter-widgets/controls",
      "_model_module_version": "1.5.0",
      "_model_name": "VBoxModel",
      "_view_count": null,
      "_view_module": "@jupyter-widgets/controls",
      "_view_module_version": "1.5.0",
      "_view_name": "VBoxView",
      "box_style": "",
      "children": [
       "IPY_MODEL_038b437b1a6e44d1bbba3e9f50523d36",
       "IPY_MODEL_0104d5f7c5a44b87b7d5def98fa8f603"
      ],
      "layout": "IPY_MODEL_0525ac3eaf71457b84d604eed5693fd5"
     }
    },
    "e047576cc5d84bb5a824dcdeaeda965c": {
     "model_module": "@jupyter-widgets/output",
     "model_module_version": "1.0.0",
     "model_name": "OutputModel",
     "state": {
      "_dom_classes": [],
      "_model_module": "@jupyter-widgets/output",
      "_model_module_version": "1.0.0",
      "_model_name": "OutputModel",
      "_view_count": null,
      "_view_module": "@jupyter-widgets/output",
      "_view_module_version": "1.0.0",
      "_view_name": "OutputView",
      "layout": "IPY_MODEL_f296375c109e4973800c413d3933b1de",
      "msg_id": "",
      "outputs": [
       {
        "data": {
         "image/png": "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\n",
         "text/plain": "<Figure size 640x480 with 1 Axes>"
        },
        "metadata": {},
        "output_type": "display_data"
       }
      ]
     }
    },
    "f296375c109e4973800c413d3933b1de": {
     "model_module": "@jupyter-widgets/base",
     "model_module_version": "1.2.0",
     "model_name": "LayoutModel",
     "state": {
      "_model_module": "@jupyter-widgets/base",
      "_model_module_version": "1.2.0",
      "_model_name": "LayoutModel",
      "_view_count": null,
      "_view_module": "@jupyter-widgets/base",
      "_view_module_version": "1.2.0",
      "_view_name": "LayoutView",
      "align_content": null,
      "align_items": null,
      "align_self": null,
      "border": null,
      "bottom": null,
      "display": null,
      "flex": null,
      "flex_flow": null,
      "grid_area": null,
      "grid_auto_columns": null,
      "grid_auto_flow": null,
      "grid_auto_rows": null,
      "grid_column": null,
      "grid_gap": null,
      "grid_row": null,
      "grid_template_areas": null,
      "grid_template_columns": null,
      "grid_template_rows": null,
      "height": null,
      "justify_content": null,
      "justify_items": null,
      "left": null,
      "margin": null,
      "max_height": null,
      "max_width": null,
      "min_height": null,
      "min_width": null,
      "object_fit": null,
      "object_position": null,
      "order": null,
      "overflow": null,
      "overflow_x": null,
      "overflow_y": null,
      "padding": null,
      "right": null,
      "top": null,
      "visibility": null,
      "width": null
     }
    },
    "ff97b3b7e5b04fd782400477593961e4": {
     "model_module": "@jupyter-widgets/base",
     "model_module_version": "1.2.0",
     "model_name": "LayoutModel",
     "state": {
      "_model_module": "@jupyter-widgets/base",
      "_model_module_version": "1.2.0",
      "_model_name": "LayoutModel",
      "_view_count": null,
      "_view_module": "@jupyter-widgets/base",
      "_view_module_version": "1.2.0",
      "_view_name": "LayoutView",
      "align_content": null,
      "align_items": null,
      "align_self": null,
      "border": null,
      "bottom": null,
      "display": null,
      "flex": null,
      "flex_flow": null,
      "grid_area": null,
      "grid_auto_columns": null,
      "grid_auto_flow": null,
      "grid_auto_rows": null,
      "grid_column": null,
      "grid_gap": null,
      "grid_row": null,
      "grid_template_areas": null,
      "grid_template_columns": null,
      "grid_template_rows": null,
      "height": null,
      "justify_content": null,
      "justify_items": null,
      "left": null,
      "margin": null,
      "max_height": null,
      "max_width": null,
      "min_height": null,
      "min_width": null,
      "object_fit": null,
      "object_position": null,
      "order": null,
      "overflow": null,
      "overflow_x": null,
      "overflow_y": null,
      "padding": null,
      "right": null,
      "top": null,
      "visibility": null,
      "width": null
     }
    }
   }
  }
 },
 "nbformat": 4,
 "nbformat_minor": 0
}
